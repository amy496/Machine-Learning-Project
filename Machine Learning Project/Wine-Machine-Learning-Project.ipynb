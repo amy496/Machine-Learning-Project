{
 "cells": [
  {
   "cell_type": "markdown",
   "id": "empty-assessment",
   "metadata": {},
   "source": [
    "Machine Learning Project\n",
    "\n",
    "For this project, you will analyze a dataset and then create a machine learning model based on that data.\n",
    "\n",
    "You can use any machine learning algorithm you'd like (including ones we have not covered).\n",
    "\n",
    "You will submit a link to your git repo containing:\n",
    "\n",
    "a link, *.db file or text file containing your data. a jupyter notebook containing: your initial exploratory data analysis your initial findings, research goal and hypothesis explanation of the machine learning algorithm you're applying and why your results and any other metrics that quantify your results any other files needed (.gitignore, requirements.txt, etc.)"
   ]
  },
  {
   "cell_type": "markdown",
   "id": "foster-procurement",
   "metadata": {},
   "source": [
    "Research goal: In this project, I am looking to find the most important variables that contribute to wine quality. \n",
    "The project includes eleven attributes such as acidity, residual sugar, pH that may or may not contribute to wine quality.   There is data on both red and white wine using the same attributes for each. \n",
    "\n",
    "Hypthosis: For this project, I used linear regression in order to create a model that can effectively predict wine quality."
   ]
  },
  {
   "cell_type": "code",
   "execution_count": null,
   "id": "ahead-triangle",
   "metadata": {},
   "outputs": [],
   "source": [
    "Exploratory Analysis:"
   ]
  },
  {
   "cell_type": "markdown",
   "id": "immune-brook",
   "metadata": {},
   "source": [
    "Initial analysis was conducted using the correlation function to see which features best correalate with wine quality."
   ]
  },
  {
   "cell_type": "code",
   "execution_count": 15,
   "id": "mineral-arrangement",
   "metadata": {},
   "outputs": [],
   "source": [
    "import matplotlib.pyplot as plt\n",
    "import seaborn as sns\n",
    "import pandas as pd\n",
    "from sklearn.metrics import mean_squared_error, mean_absolute_error,mean_absolute_percentage_error\n"
   ]
  },
  {
   "cell_type": "code",
   "execution_count": 19,
   "id": "italic-mouse",
   "metadata": {},
   "outputs": [
    {
     "data": {
      "text/html": [
       "<div>\n",
       "<style scoped>\n",
       "    .dataframe tbody tr th:only-of-type {\n",
       "        vertical-align: middle;\n",
       "    }\n",
       "\n",
       "    .dataframe tbody tr th {\n",
       "        vertical-align: top;\n",
       "    }\n",
       "\n",
       "    .dataframe thead th {\n",
       "        text-align: right;\n",
       "    }\n",
       "</style>\n",
       "<table border=\"1\" class=\"dataframe\">\n",
       "  <thead>\n",
       "    <tr style=\"text-align: right;\">\n",
       "      <th></th>\n",
       "      <th>fixed acidity</th>\n",
       "      <th>volatile acidity</th>\n",
       "      <th>citric acid</th>\n",
       "      <th>residual sugar</th>\n",
       "      <th>chlorides</th>\n",
       "      <th>free sulfur dioxide</th>\n",
       "      <th>total sulfur dioxide</th>\n",
       "      <th>density</th>\n",
       "      <th>pH</th>\n",
       "      <th>sulphates</th>\n",
       "      <th>alcohol</th>\n",
       "      <th>quality</th>\n",
       "    </tr>\n",
       "  </thead>\n",
       "  <tbody>\n",
       "    <tr>\n",
       "      <th>0</th>\n",
       "      <td>7.4</td>\n",
       "      <td>0.700</td>\n",
       "      <td>0.00</td>\n",
       "      <td>1.9</td>\n",
       "      <td>0.076</td>\n",
       "      <td>11.0</td>\n",
       "      <td>34.0</td>\n",
       "      <td>0.99780</td>\n",
       "      <td>3.51</td>\n",
       "      <td>0.56</td>\n",
       "      <td>9.4</td>\n",
       "      <td>5</td>\n",
       "    </tr>\n",
       "    <tr>\n",
       "      <th>1</th>\n",
       "      <td>7.8</td>\n",
       "      <td>0.880</td>\n",
       "      <td>0.00</td>\n",
       "      <td>2.6</td>\n",
       "      <td>0.098</td>\n",
       "      <td>25.0</td>\n",
       "      <td>67.0</td>\n",
       "      <td>0.99680</td>\n",
       "      <td>3.20</td>\n",
       "      <td>0.68</td>\n",
       "      <td>9.8</td>\n",
       "      <td>5</td>\n",
       "    </tr>\n",
       "    <tr>\n",
       "      <th>2</th>\n",
       "      <td>7.8</td>\n",
       "      <td>0.760</td>\n",
       "      <td>0.04</td>\n",
       "      <td>2.3</td>\n",
       "      <td>0.092</td>\n",
       "      <td>15.0</td>\n",
       "      <td>54.0</td>\n",
       "      <td>0.99700</td>\n",
       "      <td>3.26</td>\n",
       "      <td>0.65</td>\n",
       "      <td>9.8</td>\n",
       "      <td>5</td>\n",
       "    </tr>\n",
       "    <tr>\n",
       "      <th>3</th>\n",
       "      <td>11.2</td>\n",
       "      <td>0.280</td>\n",
       "      <td>0.56</td>\n",
       "      <td>1.9</td>\n",
       "      <td>0.075</td>\n",
       "      <td>17.0</td>\n",
       "      <td>60.0</td>\n",
       "      <td>0.99800</td>\n",
       "      <td>3.16</td>\n",
       "      <td>0.58</td>\n",
       "      <td>9.8</td>\n",
       "      <td>6</td>\n",
       "    </tr>\n",
       "    <tr>\n",
       "      <th>4</th>\n",
       "      <td>7.4</td>\n",
       "      <td>0.700</td>\n",
       "      <td>0.00</td>\n",
       "      <td>1.9</td>\n",
       "      <td>0.076</td>\n",
       "      <td>11.0</td>\n",
       "      <td>34.0</td>\n",
       "      <td>0.99780</td>\n",
       "      <td>3.51</td>\n",
       "      <td>0.56</td>\n",
       "      <td>9.4</td>\n",
       "      <td>5</td>\n",
       "    </tr>\n",
       "    <tr>\n",
       "      <th>...</th>\n",
       "      <td>...</td>\n",
       "      <td>...</td>\n",
       "      <td>...</td>\n",
       "      <td>...</td>\n",
       "      <td>...</td>\n",
       "      <td>...</td>\n",
       "      <td>...</td>\n",
       "      <td>...</td>\n",
       "      <td>...</td>\n",
       "      <td>...</td>\n",
       "      <td>...</td>\n",
       "      <td>...</td>\n",
       "    </tr>\n",
       "    <tr>\n",
       "      <th>1594</th>\n",
       "      <td>6.2</td>\n",
       "      <td>0.600</td>\n",
       "      <td>0.08</td>\n",
       "      <td>2.0</td>\n",
       "      <td>0.090</td>\n",
       "      <td>32.0</td>\n",
       "      <td>44.0</td>\n",
       "      <td>0.99490</td>\n",
       "      <td>3.45</td>\n",
       "      <td>0.58</td>\n",
       "      <td>10.5</td>\n",
       "      <td>5</td>\n",
       "    </tr>\n",
       "    <tr>\n",
       "      <th>1595</th>\n",
       "      <td>5.9</td>\n",
       "      <td>0.550</td>\n",
       "      <td>0.10</td>\n",
       "      <td>2.2</td>\n",
       "      <td>0.062</td>\n",
       "      <td>39.0</td>\n",
       "      <td>51.0</td>\n",
       "      <td>0.99512</td>\n",
       "      <td>3.52</td>\n",
       "      <td>0.76</td>\n",
       "      <td>11.2</td>\n",
       "      <td>6</td>\n",
       "    </tr>\n",
       "    <tr>\n",
       "      <th>1596</th>\n",
       "      <td>6.3</td>\n",
       "      <td>0.510</td>\n",
       "      <td>0.13</td>\n",
       "      <td>2.3</td>\n",
       "      <td>0.076</td>\n",
       "      <td>29.0</td>\n",
       "      <td>40.0</td>\n",
       "      <td>0.99574</td>\n",
       "      <td>3.42</td>\n",
       "      <td>0.75</td>\n",
       "      <td>11.0</td>\n",
       "      <td>6</td>\n",
       "    </tr>\n",
       "    <tr>\n",
       "      <th>1597</th>\n",
       "      <td>5.9</td>\n",
       "      <td>0.645</td>\n",
       "      <td>0.12</td>\n",
       "      <td>2.0</td>\n",
       "      <td>0.075</td>\n",
       "      <td>32.0</td>\n",
       "      <td>44.0</td>\n",
       "      <td>0.99547</td>\n",
       "      <td>3.57</td>\n",
       "      <td>0.71</td>\n",
       "      <td>10.2</td>\n",
       "      <td>5</td>\n",
       "    </tr>\n",
       "    <tr>\n",
       "      <th>1598</th>\n",
       "      <td>6.0</td>\n",
       "      <td>0.310</td>\n",
       "      <td>0.47</td>\n",
       "      <td>3.6</td>\n",
       "      <td>0.067</td>\n",
       "      <td>18.0</td>\n",
       "      <td>42.0</td>\n",
       "      <td>0.99549</td>\n",
       "      <td>3.39</td>\n",
       "      <td>0.66</td>\n",
       "      <td>11.0</td>\n",
       "      <td>6</td>\n",
       "    </tr>\n",
       "  </tbody>\n",
       "</table>\n",
       "<p>1599 rows × 12 columns</p>\n",
       "</div>"
      ],
      "text/plain": [
       "      fixed acidity  volatile acidity  citric acid  residual sugar  chlorides  \\\n",
       "0               7.4             0.700         0.00             1.9      0.076   \n",
       "1               7.8             0.880         0.00             2.6      0.098   \n",
       "2               7.8             0.760         0.04             2.3      0.092   \n",
       "3              11.2             0.280         0.56             1.9      0.075   \n",
       "4               7.4             0.700         0.00             1.9      0.076   \n",
       "...             ...               ...          ...             ...        ...   \n",
       "1594            6.2             0.600         0.08             2.0      0.090   \n",
       "1595            5.9             0.550         0.10             2.2      0.062   \n",
       "1596            6.3             0.510         0.13             2.3      0.076   \n",
       "1597            5.9             0.645         0.12             2.0      0.075   \n",
       "1598            6.0             0.310         0.47             3.6      0.067   \n",
       "\n",
       "      free sulfur dioxide  total sulfur dioxide  density    pH  sulphates  \\\n",
       "0                    11.0                  34.0  0.99780  3.51       0.56   \n",
       "1                    25.0                  67.0  0.99680  3.20       0.68   \n",
       "2                    15.0                  54.0  0.99700  3.26       0.65   \n",
       "3                    17.0                  60.0  0.99800  3.16       0.58   \n",
       "4                    11.0                  34.0  0.99780  3.51       0.56   \n",
       "...                   ...                   ...      ...   ...        ...   \n",
       "1594                 32.0                  44.0  0.99490  3.45       0.58   \n",
       "1595                 39.0                  51.0  0.99512  3.52       0.76   \n",
       "1596                 29.0                  40.0  0.99574  3.42       0.75   \n",
       "1597                 32.0                  44.0  0.99547  3.57       0.71   \n",
       "1598                 18.0                  42.0  0.99549  3.39       0.66   \n",
       "\n",
       "      alcohol  quality  \n",
       "0         9.4        5  \n",
       "1         9.8        5  \n",
       "2         9.8        5  \n",
       "3         9.8        6  \n",
       "4         9.4        5  \n",
       "...       ...      ...  \n",
       "1594     10.5        5  \n",
       "1595     11.2        6  \n",
       "1596     11.0        6  \n",
       "1597     10.2        5  \n",
       "1598     11.0        6  \n",
       "\n",
       "[1599 rows x 12 columns]"
      ]
     },
     "execution_count": 19,
     "metadata": {},
     "output_type": "execute_result"
    }
   ],
   "source": [
    "\n",
    "red_wine = pd.read_csv('./winequality-red.csv', sep = ';')\n",
    "red_wine"
   ]
  },
  {
   "cell_type": "code",
   "execution_count": 30,
   "id": "chinese-sleep",
   "metadata": {},
   "outputs": [
    {
     "name": "stdout",
     "output_type": "stream",
     "text": [
      "<class 'pandas.core.frame.DataFrame'>\n",
      "RangeIndex: 1599 entries, 0 to 1598\n",
      "Data columns (total 12 columns):\n",
      " #   Column                Non-Null Count  Dtype  \n",
      "---  ------                --------------  -----  \n",
      " 0   fixed acidity         1599 non-null   float64\n",
      " 1   volatile acidity      1599 non-null   float64\n",
      " 2   citric acid           1599 non-null   float64\n",
      " 3   residual sugar        1599 non-null   float64\n",
      " 4   chlorides             1599 non-null   float64\n",
      " 5   free sulfur dioxide   1599 non-null   float64\n",
      " 6   total sulfur dioxide  1599 non-null   float64\n",
      " 7   density               1599 non-null   float64\n",
      " 8   pH                    1599 non-null   float64\n",
      " 9   sulphates             1599 non-null   float64\n",
      " 10  alcohol               1599 non-null   float64\n",
      " 11  quality               1599 non-null   int64  \n",
      "dtypes: float64(11), int64(1)\n",
      "memory usage: 150.0 KB\n"
     ]
    }
   ],
   "source": [
    "red_wine.info()\n"
   ]
  },
  {
   "cell_type": "code",
   "execution_count": 31,
   "id": "relative-journalist",
   "metadata": {},
   "outputs": [
    {
     "data": {
      "text/plain": [
       "fixed acidity            15.90000\n",
       "volatile acidity          1.58000\n",
       "citric acid               1.00000\n",
       "residual sugar           15.50000\n",
       "chlorides                 0.61100\n",
       "free sulfur dioxide      72.00000\n",
       "total sulfur dioxide    289.00000\n",
       "density                   1.00369\n",
       "pH                        4.01000\n",
       "sulphates                 2.00000\n",
       "alcohol                  14.90000\n",
       "quality                   8.00000\n",
       "dtype: float64"
      ]
     },
     "execution_count": 31,
     "metadata": {},
     "output_type": "execute_result"
    }
   ],
   "source": [
    "red_wine.sort_values(\"quality\").max()"
   ]
  },
  {
   "cell_type": "code",
   "execution_count": 32,
   "id": "acute-feeling",
   "metadata": {},
   "outputs": [
    {
     "data": {
      "text/html": [
       "<div>\n",
       "<style scoped>\n",
       "    .dataframe tbody tr th:only-of-type {\n",
       "        vertical-align: middle;\n",
       "    }\n",
       "\n",
       "    .dataframe tbody tr th {\n",
       "        vertical-align: top;\n",
       "    }\n",
       "\n",
       "    .dataframe thead th {\n",
       "        text-align: right;\n",
       "    }\n",
       "</style>\n",
       "<table border=\"1\" class=\"dataframe\">\n",
       "  <thead>\n",
       "    <tr style=\"text-align: right;\">\n",
       "      <th></th>\n",
       "      <th>fixed acidity</th>\n",
       "      <th>volatile acidity</th>\n",
       "      <th>citric acid</th>\n",
       "      <th>residual sugar</th>\n",
       "      <th>chlorides</th>\n",
       "      <th>free sulfur dioxide</th>\n",
       "      <th>total sulfur dioxide</th>\n",
       "      <th>density</th>\n",
       "      <th>pH</th>\n",
       "      <th>sulphates</th>\n",
       "      <th>alcohol</th>\n",
       "    </tr>\n",
       "    <tr>\n",
       "      <th>quality</th>\n",
       "      <th></th>\n",
       "      <th></th>\n",
       "      <th></th>\n",
       "      <th></th>\n",
       "      <th></th>\n",
       "      <th></th>\n",
       "      <th></th>\n",
       "      <th></th>\n",
       "      <th></th>\n",
       "      <th></th>\n",
       "      <th></th>\n",
       "    </tr>\n",
       "  </thead>\n",
       "  <tbody>\n",
       "    <tr>\n",
       "      <th>3</th>\n",
       "      <td>8.360000</td>\n",
       "      <td>0.884500</td>\n",
       "      <td>0.171000</td>\n",
       "      <td>2.635000</td>\n",
       "      <td>0.122500</td>\n",
       "      <td>11.000000</td>\n",
       "      <td>24.900000</td>\n",
       "      <td>0.997464</td>\n",
       "      <td>3.398000</td>\n",
       "      <td>0.570000</td>\n",
       "      <td>9.955000</td>\n",
       "    </tr>\n",
       "    <tr>\n",
       "      <th>4</th>\n",
       "      <td>7.779245</td>\n",
       "      <td>0.693962</td>\n",
       "      <td>0.174151</td>\n",
       "      <td>2.694340</td>\n",
       "      <td>0.090679</td>\n",
       "      <td>12.264151</td>\n",
       "      <td>36.245283</td>\n",
       "      <td>0.996542</td>\n",
       "      <td>3.381509</td>\n",
       "      <td>0.596415</td>\n",
       "      <td>10.265094</td>\n",
       "    </tr>\n",
       "    <tr>\n",
       "      <th>5</th>\n",
       "      <td>8.167254</td>\n",
       "      <td>0.577041</td>\n",
       "      <td>0.243686</td>\n",
       "      <td>2.528855</td>\n",
       "      <td>0.092736</td>\n",
       "      <td>16.983847</td>\n",
       "      <td>56.513950</td>\n",
       "      <td>0.997104</td>\n",
       "      <td>3.304949</td>\n",
       "      <td>0.620969</td>\n",
       "      <td>9.899706</td>\n",
       "    </tr>\n",
       "    <tr>\n",
       "      <th>6</th>\n",
       "      <td>8.347179</td>\n",
       "      <td>0.497484</td>\n",
       "      <td>0.273824</td>\n",
       "      <td>2.477194</td>\n",
       "      <td>0.084956</td>\n",
       "      <td>15.711599</td>\n",
       "      <td>40.869906</td>\n",
       "      <td>0.996615</td>\n",
       "      <td>3.318072</td>\n",
       "      <td>0.675329</td>\n",
       "      <td>10.629519</td>\n",
       "    </tr>\n",
       "    <tr>\n",
       "      <th>7</th>\n",
       "      <td>8.872362</td>\n",
       "      <td>0.403920</td>\n",
       "      <td>0.375176</td>\n",
       "      <td>2.720603</td>\n",
       "      <td>0.076588</td>\n",
       "      <td>14.045226</td>\n",
       "      <td>35.020101</td>\n",
       "      <td>0.996104</td>\n",
       "      <td>3.290754</td>\n",
       "      <td>0.741256</td>\n",
       "      <td>11.465913</td>\n",
       "    </tr>\n",
       "    <tr>\n",
       "      <th>8</th>\n",
       "      <td>8.566667</td>\n",
       "      <td>0.423333</td>\n",
       "      <td>0.391111</td>\n",
       "      <td>2.577778</td>\n",
       "      <td>0.068444</td>\n",
       "      <td>13.277778</td>\n",
       "      <td>33.444444</td>\n",
       "      <td>0.995212</td>\n",
       "      <td>3.267222</td>\n",
       "      <td>0.767778</td>\n",
       "      <td>12.094444</td>\n",
       "    </tr>\n",
       "  </tbody>\n",
       "</table>\n",
       "</div>"
      ],
      "text/plain": [
       "         fixed acidity  volatile acidity  citric acid  residual sugar  \\\n",
       "quality                                                                 \n",
       "3             8.360000          0.884500     0.171000        2.635000   \n",
       "4             7.779245          0.693962     0.174151        2.694340   \n",
       "5             8.167254          0.577041     0.243686        2.528855   \n",
       "6             8.347179          0.497484     0.273824        2.477194   \n",
       "7             8.872362          0.403920     0.375176        2.720603   \n",
       "8             8.566667          0.423333     0.391111        2.577778   \n",
       "\n",
       "         chlorides  free sulfur dioxide  total sulfur dioxide   density  \\\n",
       "quality                                                                   \n",
       "3         0.122500            11.000000             24.900000  0.997464   \n",
       "4         0.090679            12.264151             36.245283  0.996542   \n",
       "5         0.092736            16.983847             56.513950  0.997104   \n",
       "6         0.084956            15.711599             40.869906  0.996615   \n",
       "7         0.076588            14.045226             35.020101  0.996104   \n",
       "8         0.068444            13.277778             33.444444  0.995212   \n",
       "\n",
       "               pH  sulphates    alcohol  \n",
       "quality                                  \n",
       "3        3.398000   0.570000   9.955000  \n",
       "4        3.381509   0.596415  10.265094  \n",
       "5        3.304949   0.620969   9.899706  \n",
       "6        3.318072   0.675329  10.629519  \n",
       "7        3.290754   0.741256  11.465913  \n",
       "8        3.267222   0.767778  12.094444  "
      ]
     },
     "execution_count": 32,
     "metadata": {},
     "output_type": "execute_result"
    }
   ],
   "source": [
    "red_wine.groupby('quality').mean()"
   ]
  },
  {
   "cell_type": "code",
   "execution_count": 33,
   "id": "developmental-annotation",
   "metadata": {},
   "outputs": [
    {
     "data": {
      "text/html": [
       "<div>\n",
       "<style scoped>\n",
       "    .dataframe tbody tr th:only-of-type {\n",
       "        vertical-align: middle;\n",
       "    }\n",
       "\n",
       "    .dataframe tbody tr th {\n",
       "        vertical-align: top;\n",
       "    }\n",
       "\n",
       "    .dataframe thead th {\n",
       "        text-align: right;\n",
       "    }\n",
       "</style>\n",
       "<table border=\"1\" class=\"dataframe\">\n",
       "  <thead>\n",
       "    <tr style=\"text-align: right;\">\n",
       "      <th></th>\n",
       "      <th>fixed acidity</th>\n",
       "      <th>volatile acidity</th>\n",
       "      <th>citric acid</th>\n",
       "      <th>residual sugar</th>\n",
       "      <th>chlorides</th>\n",
       "      <th>free sulfur dioxide</th>\n",
       "      <th>total sulfur dioxide</th>\n",
       "      <th>density</th>\n",
       "      <th>pH</th>\n",
       "      <th>sulphates</th>\n",
       "      <th>alcohol</th>\n",
       "      <th>quality</th>\n",
       "    </tr>\n",
       "  </thead>\n",
       "  <tbody>\n",
       "    <tr>\n",
       "      <th>832</th>\n",
       "      <td>10.4</td>\n",
       "      <td>0.440</td>\n",
       "      <td>0.42</td>\n",
       "      <td>1.5</td>\n",
       "      <td>0.145</td>\n",
       "      <td>34.0</td>\n",
       "      <td>48.0</td>\n",
       "      <td>0.99832</td>\n",
       "      <td>3.38</td>\n",
       "      <td>0.86</td>\n",
       "      <td>9.90</td>\n",
       "      <td>3</td>\n",
       "    </tr>\n",
       "    <tr>\n",
       "      <th>459</th>\n",
       "      <td>11.6</td>\n",
       "      <td>0.580</td>\n",
       "      <td>0.66</td>\n",
       "      <td>2.2</td>\n",
       "      <td>0.074</td>\n",
       "      <td>10.0</td>\n",
       "      <td>47.0</td>\n",
       "      <td>1.00080</td>\n",
       "      <td>3.25</td>\n",
       "      <td>0.57</td>\n",
       "      <td>9.00</td>\n",
       "      <td>3</td>\n",
       "    </tr>\n",
       "    <tr>\n",
       "      <th>517</th>\n",
       "      <td>10.4</td>\n",
       "      <td>0.610</td>\n",
       "      <td>0.49</td>\n",
       "      <td>2.1</td>\n",
       "      <td>0.200</td>\n",
       "      <td>5.0</td>\n",
       "      <td>16.0</td>\n",
       "      <td>0.99940</td>\n",
       "      <td>3.16</td>\n",
       "      <td>0.63</td>\n",
       "      <td>8.40</td>\n",
       "      <td>3</td>\n",
       "    </tr>\n",
       "    <tr>\n",
       "      <th>1505</th>\n",
       "      <td>6.7</td>\n",
       "      <td>0.760</td>\n",
       "      <td>0.02</td>\n",
       "      <td>1.8</td>\n",
       "      <td>0.078</td>\n",
       "      <td>6.0</td>\n",
       "      <td>12.0</td>\n",
       "      <td>0.99600</td>\n",
       "      <td>3.55</td>\n",
       "      <td>0.63</td>\n",
       "      <td>9.95</td>\n",
       "      <td>3</td>\n",
       "    </tr>\n",
       "    <tr>\n",
       "      <th>1374</th>\n",
       "      <td>6.8</td>\n",
       "      <td>0.815</td>\n",
       "      <td>0.00</td>\n",
       "      <td>1.2</td>\n",
       "      <td>0.267</td>\n",
       "      <td>16.0</td>\n",
       "      <td>29.0</td>\n",
       "      <td>0.99471</td>\n",
       "      <td>3.32</td>\n",
       "      <td>0.51</td>\n",
       "      <td>9.80</td>\n",
       "      <td>3</td>\n",
       "    </tr>\n",
       "    <tr>\n",
       "      <th>...</th>\n",
       "      <td>...</td>\n",
       "      <td>...</td>\n",
       "      <td>...</td>\n",
       "      <td>...</td>\n",
       "      <td>...</td>\n",
       "      <td>...</td>\n",
       "      <td>...</td>\n",
       "      <td>...</td>\n",
       "      <td>...</td>\n",
       "      <td>...</td>\n",
       "      <td>...</td>\n",
       "      <td>...</td>\n",
       "    </tr>\n",
       "    <tr>\n",
       "      <th>1269</th>\n",
       "      <td>5.5</td>\n",
       "      <td>0.490</td>\n",
       "      <td>0.03</td>\n",
       "      <td>1.8</td>\n",
       "      <td>0.044</td>\n",
       "      <td>28.0</td>\n",
       "      <td>87.0</td>\n",
       "      <td>0.99080</td>\n",
       "      <td>3.50</td>\n",
       "      <td>0.82</td>\n",
       "      <td>14.00</td>\n",
       "      <td>8</td>\n",
       "    </tr>\n",
       "    <tr>\n",
       "      <th>1120</th>\n",
       "      <td>7.9</td>\n",
       "      <td>0.540</td>\n",
       "      <td>0.34</td>\n",
       "      <td>2.5</td>\n",
       "      <td>0.076</td>\n",
       "      <td>8.0</td>\n",
       "      <td>17.0</td>\n",
       "      <td>0.99235</td>\n",
       "      <td>3.20</td>\n",
       "      <td>0.72</td>\n",
       "      <td>13.10</td>\n",
       "      <td>8</td>\n",
       "    </tr>\n",
       "    <tr>\n",
       "      <th>828</th>\n",
       "      <td>7.8</td>\n",
       "      <td>0.570</td>\n",
       "      <td>0.09</td>\n",
       "      <td>2.3</td>\n",
       "      <td>0.065</td>\n",
       "      <td>34.0</td>\n",
       "      <td>45.0</td>\n",
       "      <td>0.99417</td>\n",
       "      <td>3.46</td>\n",
       "      <td>0.74</td>\n",
       "      <td>12.70</td>\n",
       "      <td>8</td>\n",
       "    </tr>\n",
       "    <tr>\n",
       "      <th>455</th>\n",
       "      <td>11.3</td>\n",
       "      <td>0.620</td>\n",
       "      <td>0.67</td>\n",
       "      <td>5.2</td>\n",
       "      <td>0.086</td>\n",
       "      <td>6.0</td>\n",
       "      <td>19.0</td>\n",
       "      <td>0.99880</td>\n",
       "      <td>3.22</td>\n",
       "      <td>0.69</td>\n",
       "      <td>13.40</td>\n",
       "      <td>8</td>\n",
       "    </tr>\n",
       "    <tr>\n",
       "      <th>390</th>\n",
       "      <td>5.6</td>\n",
       "      <td>0.850</td>\n",
       "      <td>0.05</td>\n",
       "      <td>1.4</td>\n",
       "      <td>0.045</td>\n",
       "      <td>12.0</td>\n",
       "      <td>88.0</td>\n",
       "      <td>0.99240</td>\n",
       "      <td>3.56</td>\n",
       "      <td>0.82</td>\n",
       "      <td>12.90</td>\n",
       "      <td>8</td>\n",
       "    </tr>\n",
       "  </tbody>\n",
       "</table>\n",
       "<p>1599 rows × 12 columns</p>\n",
       "</div>"
      ],
      "text/plain": [
       "      fixed acidity  volatile acidity  citric acid  residual sugar  chlorides  \\\n",
       "832            10.4             0.440         0.42             1.5      0.145   \n",
       "459            11.6             0.580         0.66             2.2      0.074   \n",
       "517            10.4             0.610         0.49             2.1      0.200   \n",
       "1505            6.7             0.760         0.02             1.8      0.078   \n",
       "1374            6.8             0.815         0.00             1.2      0.267   \n",
       "...             ...               ...          ...             ...        ...   \n",
       "1269            5.5             0.490         0.03             1.8      0.044   \n",
       "1120            7.9             0.540         0.34             2.5      0.076   \n",
       "828             7.8             0.570         0.09             2.3      0.065   \n",
       "455            11.3             0.620         0.67             5.2      0.086   \n",
       "390             5.6             0.850         0.05             1.4      0.045   \n",
       "\n",
       "      free sulfur dioxide  total sulfur dioxide  density    pH  sulphates  \\\n",
       "832                  34.0                  48.0  0.99832  3.38       0.86   \n",
       "459                  10.0                  47.0  1.00080  3.25       0.57   \n",
       "517                   5.0                  16.0  0.99940  3.16       0.63   \n",
       "1505                  6.0                  12.0  0.99600  3.55       0.63   \n",
       "1374                 16.0                  29.0  0.99471  3.32       0.51   \n",
       "...                   ...                   ...      ...   ...        ...   \n",
       "1269                 28.0                  87.0  0.99080  3.50       0.82   \n",
       "1120                  8.0                  17.0  0.99235  3.20       0.72   \n",
       "828                  34.0                  45.0  0.99417  3.46       0.74   \n",
       "455                   6.0                  19.0  0.99880  3.22       0.69   \n",
       "390                  12.0                  88.0  0.99240  3.56       0.82   \n",
       "\n",
       "      alcohol  quality  \n",
       "832      9.90        3  \n",
       "459      9.00        3  \n",
       "517      8.40        3  \n",
       "1505     9.95        3  \n",
       "1374     9.80        3  \n",
       "...       ...      ...  \n",
       "1269    14.00        8  \n",
       "1120    13.10        8  \n",
       "828     12.70        8  \n",
       "455     13.40        8  \n",
       "390     12.90        8  \n",
       "\n",
       "[1599 rows x 12 columns]"
      ]
     },
     "execution_count": 33,
     "metadata": {},
     "output_type": "execute_result"
    }
   ],
   "source": [
    "red_wine.sort_values(by=['quality', 'volatile acidity'], ascending=True)"
   ]
  },
  {
   "cell_type": "code",
   "execution_count": 34,
   "id": "imposed-target",
   "metadata": {},
   "outputs": [
    {
     "data": {
      "text/html": [
       "<div>\n",
       "<style scoped>\n",
       "    .dataframe tbody tr th:only-of-type {\n",
       "        vertical-align: middle;\n",
       "    }\n",
       "\n",
       "    .dataframe tbody tr th {\n",
       "        vertical-align: top;\n",
       "    }\n",
       "\n",
       "    .dataframe thead th {\n",
       "        text-align: right;\n",
       "    }\n",
       "</style>\n",
       "<table border=\"1\" class=\"dataframe\">\n",
       "  <thead>\n",
       "    <tr style=\"text-align: right;\">\n",
       "      <th></th>\n",
       "      <th>fixed acidity</th>\n",
       "      <th>volatile acidity</th>\n",
       "      <th>citric acid</th>\n",
       "      <th>residual sugar</th>\n",
       "      <th>chlorides</th>\n",
       "      <th>free sulfur dioxide</th>\n",
       "      <th>total sulfur dioxide</th>\n",
       "      <th>density</th>\n",
       "      <th>pH</th>\n",
       "      <th>sulphates</th>\n",
       "      <th>alcohol</th>\n",
       "      <th>quality</th>\n",
       "    </tr>\n",
       "  </thead>\n",
       "  <tbody>\n",
       "    <tr>\n",
       "      <th>517</th>\n",
       "      <td>10.4</td>\n",
       "      <td>0.610</td>\n",
       "      <td>0.49</td>\n",
       "      <td>2.1</td>\n",
       "      <td>0.200</td>\n",
       "      <td>5.0</td>\n",
       "      <td>16.0</td>\n",
       "      <td>0.99940</td>\n",
       "      <td>3.16</td>\n",
       "      <td>0.63</td>\n",
       "      <td>8.4</td>\n",
       "      <td>3</td>\n",
       "    </tr>\n",
       "    <tr>\n",
       "      <th>459</th>\n",
       "      <td>11.6</td>\n",
       "      <td>0.580</td>\n",
       "      <td>0.66</td>\n",
       "      <td>2.2</td>\n",
       "      <td>0.074</td>\n",
       "      <td>10.0</td>\n",
       "      <td>47.0</td>\n",
       "      <td>1.00080</td>\n",
       "      <td>3.25</td>\n",
       "      <td>0.57</td>\n",
       "      <td>9.0</td>\n",
       "      <td>3</td>\n",
       "    </tr>\n",
       "    <tr>\n",
       "      <th>1469</th>\n",
       "      <td>7.3</td>\n",
       "      <td>0.980</td>\n",
       "      <td>0.05</td>\n",
       "      <td>2.1</td>\n",
       "      <td>0.061</td>\n",
       "      <td>20.0</td>\n",
       "      <td>49.0</td>\n",
       "      <td>0.99705</td>\n",
       "      <td>3.31</td>\n",
       "      <td>0.55</td>\n",
       "      <td>9.7</td>\n",
       "      <td>3</td>\n",
       "    </tr>\n",
       "    <tr>\n",
       "      <th>1374</th>\n",
       "      <td>6.8</td>\n",
       "      <td>0.815</td>\n",
       "      <td>0.00</td>\n",
       "      <td>1.2</td>\n",
       "      <td>0.267</td>\n",
       "      <td>16.0</td>\n",
       "      <td>29.0</td>\n",
       "      <td>0.99471</td>\n",
       "      <td>3.32</td>\n",
       "      <td>0.51</td>\n",
       "      <td>9.8</td>\n",
       "      <td>3</td>\n",
       "    </tr>\n",
       "    <tr>\n",
       "      <th>832</th>\n",
       "      <td>10.4</td>\n",
       "      <td>0.440</td>\n",
       "      <td>0.42</td>\n",
       "      <td>1.5</td>\n",
       "      <td>0.145</td>\n",
       "      <td>34.0</td>\n",
       "      <td>48.0</td>\n",
       "      <td>0.99832</td>\n",
       "      <td>3.38</td>\n",
       "      <td>0.86</td>\n",
       "      <td>9.9</td>\n",
       "      <td>3</td>\n",
       "    </tr>\n",
       "    <tr>\n",
       "      <th>...</th>\n",
       "      <td>...</td>\n",
       "      <td>...</td>\n",
       "      <td>...</td>\n",
       "      <td>...</td>\n",
       "      <td>...</td>\n",
       "      <td>...</td>\n",
       "      <td>...</td>\n",
       "      <td>...</td>\n",
       "      <td>...</td>\n",
       "      <td>...</td>\n",
       "      <td>...</td>\n",
       "      <td>...</td>\n",
       "    </tr>\n",
       "    <tr>\n",
       "      <th>390</th>\n",
       "      <td>5.6</td>\n",
       "      <td>0.850</td>\n",
       "      <td>0.05</td>\n",
       "      <td>1.4</td>\n",
       "      <td>0.045</td>\n",
       "      <td>12.0</td>\n",
       "      <td>88.0</td>\n",
       "      <td>0.99240</td>\n",
       "      <td>3.56</td>\n",
       "      <td>0.82</td>\n",
       "      <td>12.9</td>\n",
       "      <td>8</td>\n",
       "    </tr>\n",
       "    <tr>\n",
       "      <th>1120</th>\n",
       "      <td>7.9</td>\n",
       "      <td>0.540</td>\n",
       "      <td>0.34</td>\n",
       "      <td>2.5</td>\n",
       "      <td>0.076</td>\n",
       "      <td>8.0</td>\n",
       "      <td>17.0</td>\n",
       "      <td>0.99235</td>\n",
       "      <td>3.20</td>\n",
       "      <td>0.72</td>\n",
       "      <td>13.1</td>\n",
       "      <td>8</td>\n",
       "    </tr>\n",
       "    <tr>\n",
       "      <th>455</th>\n",
       "      <td>11.3</td>\n",
       "      <td>0.620</td>\n",
       "      <td>0.67</td>\n",
       "      <td>5.2</td>\n",
       "      <td>0.086</td>\n",
       "      <td>6.0</td>\n",
       "      <td>19.0</td>\n",
       "      <td>0.99880</td>\n",
       "      <td>3.22</td>\n",
       "      <td>0.69</td>\n",
       "      <td>13.4</td>\n",
       "      <td>8</td>\n",
       "    </tr>\n",
       "    <tr>\n",
       "      <th>588</th>\n",
       "      <td>5.0</td>\n",
       "      <td>0.420</td>\n",
       "      <td>0.24</td>\n",
       "      <td>2.0</td>\n",
       "      <td>0.060</td>\n",
       "      <td>19.0</td>\n",
       "      <td>50.0</td>\n",
       "      <td>0.99170</td>\n",
       "      <td>3.72</td>\n",
       "      <td>0.74</td>\n",
       "      <td>14.0</td>\n",
       "      <td>8</td>\n",
       "    </tr>\n",
       "    <tr>\n",
       "      <th>1269</th>\n",
       "      <td>5.5</td>\n",
       "      <td>0.490</td>\n",
       "      <td>0.03</td>\n",
       "      <td>1.8</td>\n",
       "      <td>0.044</td>\n",
       "      <td>28.0</td>\n",
       "      <td>87.0</td>\n",
       "      <td>0.99080</td>\n",
       "      <td>3.50</td>\n",
       "      <td>0.82</td>\n",
       "      <td>14.0</td>\n",
       "      <td>8</td>\n",
       "    </tr>\n",
       "  </tbody>\n",
       "</table>\n",
       "<p>1599 rows × 12 columns</p>\n",
       "</div>"
      ],
      "text/plain": [
       "      fixed acidity  volatile acidity  citric acid  residual sugar  chlorides  \\\n",
       "517            10.4             0.610         0.49             2.1      0.200   \n",
       "459            11.6             0.580         0.66             2.2      0.074   \n",
       "1469            7.3             0.980         0.05             2.1      0.061   \n",
       "1374            6.8             0.815         0.00             1.2      0.267   \n",
       "832            10.4             0.440         0.42             1.5      0.145   \n",
       "...             ...               ...          ...             ...        ...   \n",
       "390             5.6             0.850         0.05             1.4      0.045   \n",
       "1120            7.9             0.540         0.34             2.5      0.076   \n",
       "455            11.3             0.620         0.67             5.2      0.086   \n",
       "588             5.0             0.420         0.24             2.0      0.060   \n",
       "1269            5.5             0.490         0.03             1.8      0.044   \n",
       "\n",
       "      free sulfur dioxide  total sulfur dioxide  density    pH  sulphates  \\\n",
       "517                   5.0                  16.0  0.99940  3.16       0.63   \n",
       "459                  10.0                  47.0  1.00080  3.25       0.57   \n",
       "1469                 20.0                  49.0  0.99705  3.31       0.55   \n",
       "1374                 16.0                  29.0  0.99471  3.32       0.51   \n",
       "832                  34.0                  48.0  0.99832  3.38       0.86   \n",
       "...                   ...                   ...      ...   ...        ...   \n",
       "390                  12.0                  88.0  0.99240  3.56       0.82   \n",
       "1120                  8.0                  17.0  0.99235  3.20       0.72   \n",
       "455                   6.0                  19.0  0.99880  3.22       0.69   \n",
       "588                  19.0                  50.0  0.99170  3.72       0.74   \n",
       "1269                 28.0                  87.0  0.99080  3.50       0.82   \n",
       "\n",
       "      alcohol  quality  \n",
       "517       8.4        3  \n",
       "459       9.0        3  \n",
       "1469      9.7        3  \n",
       "1374      9.8        3  \n",
       "832       9.9        3  \n",
       "...       ...      ...  \n",
       "390      12.9        8  \n",
       "1120     13.1        8  \n",
       "455      13.4        8  \n",
       "588      14.0        8  \n",
       "1269     14.0        8  \n",
       "\n",
       "[1599 rows x 12 columns]"
      ]
     },
     "execution_count": 34,
     "metadata": {},
     "output_type": "execute_result"
    }
   ],
   "source": [
    "red_wine.sort_values(by=['quality', 'alcohol'], ascending=True)"
   ]
  },
  {
   "cell_type": "code",
   "execution_count": 35,
   "id": "brief-significance",
   "metadata": {},
   "outputs": [
    {
     "data": {
      "text/html": [
       "<div>\n",
       "<style scoped>\n",
       "    .dataframe tbody tr th:only-of-type {\n",
       "        vertical-align: middle;\n",
       "    }\n",
       "\n",
       "    .dataframe tbody tr th {\n",
       "        vertical-align: top;\n",
       "    }\n",
       "\n",
       "    .dataframe thead th {\n",
       "        text-align: right;\n",
       "    }\n",
       "</style>\n",
       "<table border=\"1\" class=\"dataframe\">\n",
       "  <thead>\n",
       "    <tr style=\"text-align: right;\">\n",
       "      <th></th>\n",
       "      <th>fixed acidity</th>\n",
       "      <th>volatile acidity</th>\n",
       "      <th>citric acid</th>\n",
       "      <th>residual sugar</th>\n",
       "      <th>chlorides</th>\n",
       "      <th>free sulfur dioxide</th>\n",
       "      <th>total sulfur dioxide</th>\n",
       "      <th>density</th>\n",
       "      <th>pH</th>\n",
       "      <th>sulphates</th>\n",
       "      <th>alcohol</th>\n",
       "      <th>quality</th>\n",
       "      <th>quality-hot</th>\n",
       "    </tr>\n",
       "  </thead>\n",
       "  <tbody>\n",
       "    <tr>\n",
       "      <th>0</th>\n",
       "      <td>7.4</td>\n",
       "      <td>0.700</td>\n",
       "      <td>0.00</td>\n",
       "      <td>1.9</td>\n",
       "      <td>0.076</td>\n",
       "      <td>11.0</td>\n",
       "      <td>34.0</td>\n",
       "      <td>0.99780</td>\n",
       "      <td>3.51</td>\n",
       "      <td>0.56</td>\n",
       "      <td>9.4</td>\n",
       "      <td>5</td>\n",
       "      <td>0</td>\n",
       "    </tr>\n",
       "    <tr>\n",
       "      <th>1</th>\n",
       "      <td>7.8</td>\n",
       "      <td>0.880</td>\n",
       "      <td>0.00</td>\n",
       "      <td>2.6</td>\n",
       "      <td>0.098</td>\n",
       "      <td>25.0</td>\n",
       "      <td>67.0</td>\n",
       "      <td>0.99680</td>\n",
       "      <td>3.20</td>\n",
       "      <td>0.68</td>\n",
       "      <td>9.8</td>\n",
       "      <td>5</td>\n",
       "      <td>0</td>\n",
       "    </tr>\n",
       "    <tr>\n",
       "      <th>2</th>\n",
       "      <td>7.8</td>\n",
       "      <td>0.760</td>\n",
       "      <td>0.04</td>\n",
       "      <td>2.3</td>\n",
       "      <td>0.092</td>\n",
       "      <td>15.0</td>\n",
       "      <td>54.0</td>\n",
       "      <td>0.99700</td>\n",
       "      <td>3.26</td>\n",
       "      <td>0.65</td>\n",
       "      <td>9.8</td>\n",
       "      <td>5</td>\n",
       "      <td>0</td>\n",
       "    </tr>\n",
       "    <tr>\n",
       "      <th>3</th>\n",
       "      <td>11.2</td>\n",
       "      <td>0.280</td>\n",
       "      <td>0.56</td>\n",
       "      <td>1.9</td>\n",
       "      <td>0.075</td>\n",
       "      <td>17.0</td>\n",
       "      <td>60.0</td>\n",
       "      <td>0.99800</td>\n",
       "      <td>3.16</td>\n",
       "      <td>0.58</td>\n",
       "      <td>9.8</td>\n",
       "      <td>6</td>\n",
       "      <td>1</td>\n",
       "    </tr>\n",
       "    <tr>\n",
       "      <th>4</th>\n",
       "      <td>7.4</td>\n",
       "      <td>0.700</td>\n",
       "      <td>0.00</td>\n",
       "      <td>1.9</td>\n",
       "      <td>0.076</td>\n",
       "      <td>11.0</td>\n",
       "      <td>34.0</td>\n",
       "      <td>0.99780</td>\n",
       "      <td>3.51</td>\n",
       "      <td>0.56</td>\n",
       "      <td>9.4</td>\n",
       "      <td>5</td>\n",
       "      <td>0</td>\n",
       "    </tr>\n",
       "    <tr>\n",
       "      <th>...</th>\n",
       "      <td>...</td>\n",
       "      <td>...</td>\n",
       "      <td>...</td>\n",
       "      <td>...</td>\n",
       "      <td>...</td>\n",
       "      <td>...</td>\n",
       "      <td>...</td>\n",
       "      <td>...</td>\n",
       "      <td>...</td>\n",
       "      <td>...</td>\n",
       "      <td>...</td>\n",
       "      <td>...</td>\n",
       "      <td>...</td>\n",
       "    </tr>\n",
       "    <tr>\n",
       "      <th>1594</th>\n",
       "      <td>6.2</td>\n",
       "      <td>0.600</td>\n",
       "      <td>0.08</td>\n",
       "      <td>2.0</td>\n",
       "      <td>0.090</td>\n",
       "      <td>32.0</td>\n",
       "      <td>44.0</td>\n",
       "      <td>0.99490</td>\n",
       "      <td>3.45</td>\n",
       "      <td>0.58</td>\n",
       "      <td>10.5</td>\n",
       "      <td>5</td>\n",
       "      <td>0</td>\n",
       "    </tr>\n",
       "    <tr>\n",
       "      <th>1595</th>\n",
       "      <td>5.9</td>\n",
       "      <td>0.550</td>\n",
       "      <td>0.10</td>\n",
       "      <td>2.2</td>\n",
       "      <td>0.062</td>\n",
       "      <td>39.0</td>\n",
       "      <td>51.0</td>\n",
       "      <td>0.99512</td>\n",
       "      <td>3.52</td>\n",
       "      <td>0.76</td>\n",
       "      <td>11.2</td>\n",
       "      <td>6</td>\n",
       "      <td>1</td>\n",
       "    </tr>\n",
       "    <tr>\n",
       "      <th>1596</th>\n",
       "      <td>6.3</td>\n",
       "      <td>0.510</td>\n",
       "      <td>0.13</td>\n",
       "      <td>2.3</td>\n",
       "      <td>0.076</td>\n",
       "      <td>29.0</td>\n",
       "      <td>40.0</td>\n",
       "      <td>0.99574</td>\n",
       "      <td>3.42</td>\n",
       "      <td>0.75</td>\n",
       "      <td>11.0</td>\n",
       "      <td>6</td>\n",
       "      <td>1</td>\n",
       "    </tr>\n",
       "    <tr>\n",
       "      <th>1597</th>\n",
       "      <td>5.9</td>\n",
       "      <td>0.645</td>\n",
       "      <td>0.12</td>\n",
       "      <td>2.0</td>\n",
       "      <td>0.075</td>\n",
       "      <td>32.0</td>\n",
       "      <td>44.0</td>\n",
       "      <td>0.99547</td>\n",
       "      <td>3.57</td>\n",
       "      <td>0.71</td>\n",
       "      <td>10.2</td>\n",
       "      <td>5</td>\n",
       "      <td>0</td>\n",
       "    </tr>\n",
       "    <tr>\n",
       "      <th>1598</th>\n",
       "      <td>6.0</td>\n",
       "      <td>0.310</td>\n",
       "      <td>0.47</td>\n",
       "      <td>3.6</td>\n",
       "      <td>0.067</td>\n",
       "      <td>18.0</td>\n",
       "      <td>42.0</td>\n",
       "      <td>0.99549</td>\n",
       "      <td>3.39</td>\n",
       "      <td>0.66</td>\n",
       "      <td>11.0</td>\n",
       "      <td>6</td>\n",
       "      <td>1</td>\n",
       "    </tr>\n",
       "  </tbody>\n",
       "</table>\n",
       "<p>1599 rows × 13 columns</p>\n",
       "</div>"
      ],
      "text/plain": [
       "      fixed acidity  volatile acidity  citric acid  residual sugar  chlorides  \\\n",
       "0               7.4             0.700         0.00             1.9      0.076   \n",
       "1               7.8             0.880         0.00             2.6      0.098   \n",
       "2               7.8             0.760         0.04             2.3      0.092   \n",
       "3              11.2             0.280         0.56             1.9      0.075   \n",
       "4               7.4             0.700         0.00             1.9      0.076   \n",
       "...             ...               ...          ...             ...        ...   \n",
       "1594            6.2             0.600         0.08             2.0      0.090   \n",
       "1595            5.9             0.550         0.10             2.2      0.062   \n",
       "1596            6.3             0.510         0.13             2.3      0.076   \n",
       "1597            5.9             0.645         0.12             2.0      0.075   \n",
       "1598            6.0             0.310         0.47             3.6      0.067   \n",
       "\n",
       "      free sulfur dioxide  total sulfur dioxide  density    pH  sulphates  \\\n",
       "0                    11.0                  34.0  0.99780  3.51       0.56   \n",
       "1                    25.0                  67.0  0.99680  3.20       0.68   \n",
       "2                    15.0                  54.0  0.99700  3.26       0.65   \n",
       "3                    17.0                  60.0  0.99800  3.16       0.58   \n",
       "4                    11.0                  34.0  0.99780  3.51       0.56   \n",
       "...                   ...                   ...      ...   ...        ...   \n",
       "1594                 32.0                  44.0  0.99490  3.45       0.58   \n",
       "1595                 39.0                  51.0  0.99512  3.52       0.76   \n",
       "1596                 29.0                  40.0  0.99574  3.42       0.75   \n",
       "1597                 32.0                  44.0  0.99547  3.57       0.71   \n",
       "1598                 18.0                  42.0  0.99549  3.39       0.66   \n",
       "\n",
       "      alcohol  quality  quality-hot  \n",
       "0         9.4        5            0  \n",
       "1         9.8        5            0  \n",
       "2         9.8        5            0  \n",
       "3         9.8        6            1  \n",
       "4         9.4        5            0  \n",
       "...       ...      ...          ...  \n",
       "1594     10.5        5            0  \n",
       "1595     11.2        6            1  \n",
       "1596     11.0        6            1  \n",
       "1597     10.2        5            0  \n",
       "1598     11.0        6            1  \n",
       "\n",
       "[1599 rows x 13 columns]"
      ]
     },
     "execution_count": 35,
     "metadata": {},
     "output_type": "execute_result"
    }
   ],
   "source": [
    "# 1 if the wine is good, 0 if the wine is bad\n",
    "\n",
    "red_wine['quality-hot'] = red_wine['quality'].apply(lambda x: 1 if x > 5 else 0) \n",
    "red_wine"
   ]
  },
  {
   "cell_type": "code",
   "execution_count": 82,
   "id": "yellow-friend",
   "metadata": {},
   "outputs": [
    {
     "data": {
      "text/html": [
       "<div>\n",
       "<style scoped>\n",
       "    .dataframe tbody tr th:only-of-type {\n",
       "        vertical-align: middle;\n",
       "    }\n",
       "\n",
       "    .dataframe tbody tr th {\n",
       "        vertical-align: top;\n",
       "    }\n",
       "\n",
       "    .dataframe thead th {\n",
       "        text-align: right;\n",
       "    }\n",
       "</style>\n",
       "<table border=\"1\" class=\"dataframe\">\n",
       "  <thead>\n",
       "    <tr style=\"text-align: right;\">\n",
       "      <th></th>\n",
       "      <th>fixed acidity</th>\n",
       "      <th>volatile acidity</th>\n",
       "      <th>citric acid</th>\n",
       "      <th>residual sugar</th>\n",
       "      <th>chlorides</th>\n",
       "      <th>free sulfur dioxide</th>\n",
       "      <th>total sulfur dioxide</th>\n",
       "      <th>density</th>\n",
       "      <th>pH</th>\n",
       "      <th>sulphates</th>\n",
       "      <th>alcohol</th>\n",
       "      <th>quality</th>\n",
       "      <th>quality-hot</th>\n",
       "    </tr>\n",
       "  </thead>\n",
       "  <tbody>\n",
       "    <tr>\n",
       "      <th>fixed acidity</th>\n",
       "      <td>1.000000</td>\n",
       "      <td>-0.256131</td>\n",
       "      <td>0.671703</td>\n",
       "      <td>0.114777</td>\n",
       "      <td>0.093705</td>\n",
       "      <td>-0.153794</td>\n",
       "      <td>-0.113181</td>\n",
       "      <td>0.668047</td>\n",
       "      <td>-0.682978</td>\n",
       "      <td>0.183006</td>\n",
       "      <td>-0.061668</td>\n",
       "      <td>0.124052</td>\n",
       "      <td>0.095093</td>\n",
       "    </tr>\n",
       "    <tr>\n",
       "      <th>volatile acidity</th>\n",
       "      <td>-0.256131</td>\n",
       "      <td>1.000000</td>\n",
       "      <td>-0.552496</td>\n",
       "      <td>0.001918</td>\n",
       "      <td>0.061298</td>\n",
       "      <td>-0.010504</td>\n",
       "      <td>0.076470</td>\n",
       "      <td>0.022026</td>\n",
       "      <td>0.234937</td>\n",
       "      <td>-0.260987</td>\n",
       "      <td>-0.202288</td>\n",
       "      <td>-0.390558</td>\n",
       "      <td>-0.321441</td>\n",
       "    </tr>\n",
       "    <tr>\n",
       "      <th>citric acid</th>\n",
       "      <td>0.671703</td>\n",
       "      <td>-0.552496</td>\n",
       "      <td>1.000000</td>\n",
       "      <td>0.143577</td>\n",
       "      <td>0.203823</td>\n",
       "      <td>-0.060978</td>\n",
       "      <td>0.035533</td>\n",
       "      <td>0.364947</td>\n",
       "      <td>-0.541904</td>\n",
       "      <td>0.312770</td>\n",
       "      <td>0.109903</td>\n",
       "      <td>0.226373</td>\n",
       "      <td>0.159129</td>\n",
       "    </tr>\n",
       "    <tr>\n",
       "      <th>residual sugar</th>\n",
       "      <td>0.114777</td>\n",
       "      <td>0.001918</td>\n",
       "      <td>0.143577</td>\n",
       "      <td>1.000000</td>\n",
       "      <td>0.055610</td>\n",
       "      <td>0.187049</td>\n",
       "      <td>0.203028</td>\n",
       "      <td>0.355283</td>\n",
       "      <td>-0.085652</td>\n",
       "      <td>0.005527</td>\n",
       "      <td>0.042075</td>\n",
       "      <td>0.013732</td>\n",
       "      <td>-0.002160</td>\n",
       "    </tr>\n",
       "    <tr>\n",
       "      <th>chlorides</th>\n",
       "      <td>0.093705</td>\n",
       "      <td>0.061298</td>\n",
       "      <td>0.203823</td>\n",
       "      <td>0.055610</td>\n",
       "      <td>1.000000</td>\n",
       "      <td>0.005562</td>\n",
       "      <td>0.047400</td>\n",
       "      <td>0.200632</td>\n",
       "      <td>-0.265026</td>\n",
       "      <td>0.371260</td>\n",
       "      <td>-0.221141</td>\n",
       "      <td>-0.128907</td>\n",
       "      <td>-0.109494</td>\n",
       "    </tr>\n",
       "    <tr>\n",
       "      <th>free sulfur dioxide</th>\n",
       "      <td>-0.153794</td>\n",
       "      <td>-0.010504</td>\n",
       "      <td>-0.060978</td>\n",
       "      <td>0.187049</td>\n",
       "      <td>0.005562</td>\n",
       "      <td>1.000000</td>\n",
       "      <td>0.667666</td>\n",
       "      <td>-0.021946</td>\n",
       "      <td>0.070377</td>\n",
       "      <td>0.051658</td>\n",
       "      <td>-0.069408</td>\n",
       "      <td>-0.050656</td>\n",
       "      <td>-0.061757</td>\n",
       "    </tr>\n",
       "    <tr>\n",
       "      <th>total sulfur dioxide</th>\n",
       "      <td>-0.113181</td>\n",
       "      <td>0.076470</td>\n",
       "      <td>0.035533</td>\n",
       "      <td>0.203028</td>\n",
       "      <td>0.047400</td>\n",
       "      <td>0.667666</td>\n",
       "      <td>1.000000</td>\n",
       "      <td>0.071269</td>\n",
       "      <td>-0.066495</td>\n",
       "      <td>0.042947</td>\n",
       "      <td>-0.205654</td>\n",
       "      <td>-0.185100</td>\n",
       "      <td>-0.231963</td>\n",
       "    </tr>\n",
       "    <tr>\n",
       "      <th>density</th>\n",
       "      <td>0.668047</td>\n",
       "      <td>0.022026</td>\n",
       "      <td>0.364947</td>\n",
       "      <td>0.355283</td>\n",
       "      <td>0.200632</td>\n",
       "      <td>-0.021946</td>\n",
       "      <td>0.071269</td>\n",
       "      <td>1.000000</td>\n",
       "      <td>-0.341699</td>\n",
       "      <td>0.148506</td>\n",
       "      <td>-0.496180</td>\n",
       "      <td>-0.174919</td>\n",
       "      <td>-0.159110</td>\n",
       "    </tr>\n",
       "    <tr>\n",
       "      <th>pH</th>\n",
       "      <td>-0.682978</td>\n",
       "      <td>0.234937</td>\n",
       "      <td>-0.541904</td>\n",
       "      <td>-0.085652</td>\n",
       "      <td>-0.265026</td>\n",
       "      <td>0.070377</td>\n",
       "      <td>-0.066495</td>\n",
       "      <td>-0.341699</td>\n",
       "      <td>1.000000</td>\n",
       "      <td>-0.196648</td>\n",
       "      <td>0.205633</td>\n",
       "      <td>-0.057731</td>\n",
       "      <td>-0.003264</td>\n",
       "    </tr>\n",
       "    <tr>\n",
       "      <th>sulphates</th>\n",
       "      <td>0.183006</td>\n",
       "      <td>-0.260987</td>\n",
       "      <td>0.312770</td>\n",
       "      <td>0.005527</td>\n",
       "      <td>0.371260</td>\n",
       "      <td>0.051658</td>\n",
       "      <td>0.042947</td>\n",
       "      <td>0.148506</td>\n",
       "      <td>-0.196648</td>\n",
       "      <td>1.000000</td>\n",
       "      <td>0.093595</td>\n",
       "      <td>0.251397</td>\n",
       "      <td>0.218072</td>\n",
       "    </tr>\n",
       "    <tr>\n",
       "      <th>alcohol</th>\n",
       "      <td>-0.061668</td>\n",
       "      <td>-0.202288</td>\n",
       "      <td>0.109903</td>\n",
       "      <td>0.042075</td>\n",
       "      <td>-0.221141</td>\n",
       "      <td>-0.069408</td>\n",
       "      <td>-0.205654</td>\n",
       "      <td>-0.496180</td>\n",
       "      <td>0.205633</td>\n",
       "      <td>0.093595</td>\n",
       "      <td>1.000000</td>\n",
       "      <td>0.476166</td>\n",
       "      <td>0.434751</td>\n",
       "    </tr>\n",
       "    <tr>\n",
       "      <th>quality</th>\n",
       "      <td>0.124052</td>\n",
       "      <td>-0.390558</td>\n",
       "      <td>0.226373</td>\n",
       "      <td>0.013732</td>\n",
       "      <td>-0.128907</td>\n",
       "      <td>-0.050656</td>\n",
       "      <td>-0.185100</td>\n",
       "      <td>-0.174919</td>\n",
       "      <td>-0.057731</td>\n",
       "      <td>0.251397</td>\n",
       "      <td>0.476166</td>\n",
       "      <td>1.000000</td>\n",
       "      <td>0.848279</td>\n",
       "    </tr>\n",
       "    <tr>\n",
       "      <th>quality-hot</th>\n",
       "      <td>0.095093</td>\n",
       "      <td>-0.321441</td>\n",
       "      <td>0.159129</td>\n",
       "      <td>-0.002160</td>\n",
       "      <td>-0.109494</td>\n",
       "      <td>-0.061757</td>\n",
       "      <td>-0.231963</td>\n",
       "      <td>-0.159110</td>\n",
       "      <td>-0.003264</td>\n",
       "      <td>0.218072</td>\n",
       "      <td>0.434751</td>\n",
       "      <td>0.848279</td>\n",
       "      <td>1.000000</td>\n",
       "    </tr>\n",
       "  </tbody>\n",
       "</table>\n",
       "</div>"
      ],
      "text/plain": [
       "                      fixed acidity  volatile acidity  citric acid  \\\n",
       "fixed acidity              1.000000         -0.256131     0.671703   \n",
       "volatile acidity          -0.256131          1.000000    -0.552496   \n",
       "citric acid                0.671703         -0.552496     1.000000   \n",
       "residual sugar             0.114777          0.001918     0.143577   \n",
       "chlorides                  0.093705          0.061298     0.203823   \n",
       "free sulfur dioxide       -0.153794         -0.010504    -0.060978   \n",
       "total sulfur dioxide      -0.113181          0.076470     0.035533   \n",
       "density                    0.668047          0.022026     0.364947   \n",
       "pH                        -0.682978          0.234937    -0.541904   \n",
       "sulphates                  0.183006         -0.260987     0.312770   \n",
       "alcohol                   -0.061668         -0.202288     0.109903   \n",
       "quality                    0.124052         -0.390558     0.226373   \n",
       "quality-hot                0.095093         -0.321441     0.159129   \n",
       "\n",
       "                      residual sugar  chlorides  free sulfur dioxide  \\\n",
       "fixed acidity               0.114777   0.093705            -0.153794   \n",
       "volatile acidity            0.001918   0.061298            -0.010504   \n",
       "citric acid                 0.143577   0.203823            -0.060978   \n",
       "residual sugar              1.000000   0.055610             0.187049   \n",
       "chlorides                   0.055610   1.000000             0.005562   \n",
       "free sulfur dioxide         0.187049   0.005562             1.000000   \n",
       "total sulfur dioxide        0.203028   0.047400             0.667666   \n",
       "density                     0.355283   0.200632            -0.021946   \n",
       "pH                         -0.085652  -0.265026             0.070377   \n",
       "sulphates                   0.005527   0.371260             0.051658   \n",
       "alcohol                     0.042075  -0.221141            -0.069408   \n",
       "quality                     0.013732  -0.128907            -0.050656   \n",
       "quality-hot                -0.002160  -0.109494            -0.061757   \n",
       "\n",
       "                      total sulfur dioxide   density        pH  sulphates  \\\n",
       "fixed acidity                    -0.113181  0.668047 -0.682978   0.183006   \n",
       "volatile acidity                  0.076470  0.022026  0.234937  -0.260987   \n",
       "citric acid                       0.035533  0.364947 -0.541904   0.312770   \n",
       "residual sugar                    0.203028  0.355283 -0.085652   0.005527   \n",
       "chlorides                         0.047400  0.200632 -0.265026   0.371260   \n",
       "free sulfur dioxide               0.667666 -0.021946  0.070377   0.051658   \n",
       "total sulfur dioxide              1.000000  0.071269 -0.066495   0.042947   \n",
       "density                           0.071269  1.000000 -0.341699   0.148506   \n",
       "pH                               -0.066495 -0.341699  1.000000  -0.196648   \n",
       "sulphates                         0.042947  0.148506 -0.196648   1.000000   \n",
       "alcohol                          -0.205654 -0.496180  0.205633   0.093595   \n",
       "quality                          -0.185100 -0.174919 -0.057731   0.251397   \n",
       "quality-hot                      -0.231963 -0.159110 -0.003264   0.218072   \n",
       "\n",
       "                       alcohol   quality  quality-hot  \n",
       "fixed acidity        -0.061668  0.124052     0.095093  \n",
       "volatile acidity     -0.202288 -0.390558    -0.321441  \n",
       "citric acid           0.109903  0.226373     0.159129  \n",
       "residual sugar        0.042075  0.013732    -0.002160  \n",
       "chlorides            -0.221141 -0.128907    -0.109494  \n",
       "free sulfur dioxide  -0.069408 -0.050656    -0.061757  \n",
       "total sulfur dioxide -0.205654 -0.185100    -0.231963  \n",
       "density              -0.496180 -0.174919    -0.159110  \n",
       "pH                    0.205633 -0.057731    -0.003264  \n",
       "sulphates             0.093595  0.251397     0.218072  \n",
       "alcohol               1.000000  0.476166     0.434751  \n",
       "quality               0.476166  1.000000     0.848279  \n",
       "quality-hot           0.434751  0.848279     1.000000  "
      ]
     },
     "execution_count": 82,
     "metadata": {},
     "output_type": "execute_result"
    }
   ],
   "source": [
    "red_wine.corr()"
   ]
  },
  {
   "cell_type": "markdown",
   "id": "informative-general",
   "metadata": {},
   "source": [
    "The correlation numbers between wine quality and the different features were low,but those numbers that were the highest were tested."
   ]
  },
  {
   "cell_type": "code",
   "execution_count": 198,
   "id": "informed-jonathan",
   "metadata": {},
   "outputs": [
    {
     "data": {
      "text/plain": [
       "fixed acidity           0.124052\n",
       "volatile acidity       -0.390558\n",
       "citric acid             0.226373\n",
       "residual sugar          0.013732\n",
       "chlorides              -0.128907\n",
       "free sulfur dioxide    -0.050656\n",
       "total sulfur dioxide   -0.185100\n",
       "density                -0.174919\n",
       "pH                     -0.057731\n",
       "sulphates               0.251397\n",
       "alcohol                 0.476166\n",
       "quality                 1.000000\n",
       "quality-hot             0.848279\n",
       "Name: quality, dtype: float64"
      ]
     },
     "execution_count": 198,
     "metadata": {},
     "output_type": "execute_result"
    }
   ],
   "source": [
    "red_wine.corr()['quality']"
   ]
  },
  {
   "cell_type": "code",
   "execution_count": null,
   "id": "demanding-validity",
   "metadata": {},
   "outputs": [],
   "source": [
    "Since the numbers were so low, a logistic regression was attempted."
   ]
  },
  {
   "cell_type": "code",
   "execution_count": 37,
   "id": "lined-wheat",
   "metadata": {},
   "outputs": [
    {
     "data": {
      "text/plain": [
       "[<matplotlib.lines.Line2D at 0x103d52550>]"
      ]
     },
     "execution_count": 37,
     "metadata": {},
     "output_type": "execute_result"
    },
    {
     "data": {
      "image/png": "[encoded data removed]",
      "text/plain": [
       "<Figure size 432x288 with 1 Axes>"
      ]
     },
     "metadata": {
      "needs_background": "light"
     },
     "output_type": "display_data"
    }
   ],
   "source": [
    "plt.plot( red_wine[\"alcohol\"], red_wine[\"quality-hot\"], 'rx')"
   ]
  },
  {
   "cell_type": "code",
   "execution_count": 38,
   "id": "joint-providence",
   "metadata": {},
   "outputs": [
    {
     "data": {
      "text/plain": [
       "[<matplotlib.lines.Line2D at 0x11d1ad400>]"
      ]
     },
     "execution_count": 38,
     "metadata": {},
     "output_type": "execute_result"
    },
    {
     "data": {
      "image/png": "[encoded data removed]",
      "text/plain": [
       "<Figure size 432x288 with 1 Axes>"
      ]
     },
     "metadata": {
      "needs_background": "light"
     },
     "output_type": "display_data"
    }
   ],
   "source": [
    "plt.plot( red_wine[\"volatile acidity\"], red_wine[\"quality-hot\"], 'rx')"
   ]
  },
  {
   "cell_type": "code",
   "execution_count": 39,
   "id": "nasty-gender",
   "metadata": {},
   "outputs": [
    {
     "data": {
      "text/plain": [
       "[<matplotlib.lines.Line2D at 0x11d2626d0>]"
      ]
     },
     "execution_count": 39,
     "metadata": {},
     "output_type": "execute_result"
    },
    {
     "data": {
      "image/png": "[encoded data removed]",
      "text/plain": [
       "<Figure size 432x288 with 1 Axes>"
      ]
     },
     "metadata": {
      "needs_background": "light"
     },
     "output_type": "display_data"
    }
   ],
   "source": [
    "plt.plot( red_wine[\"sulphates\"], red_wine[\"quality-hot\"], 'rx')"
   ]
  },
  {
   "cell_type": "code",
   "execution_count": 40,
   "id": "fresh-essex",
   "metadata": {},
   "outputs": [
    {
     "data": {
      "text/plain": [
       "[<matplotlib.lines.Line2D at 0x11d2bd700>]"
      ]
     },
     "execution_count": 40,
     "metadata": {},
     "output_type": "execute_result"
    },
    {
     "data": {
      "image/png": "[encoded data removed]",
      "text/plain": [
       "<Figure size 432x288 with 1 Axes>"
      ]
     },
     "metadata": {
      "needs_background": "light"
     },
     "output_type": "display_data"
    }
   ],
   "source": [
    "plt.plot( red_wine[\"pH\"], red_wine[\"quality-hot\"], 'rx')"
   ]
  },
  {
   "cell_type": "markdown",
   "id": "suited-change",
   "metadata": {},
   "source": [
    "Fixed acidity and citric acid appear to have a strong correlation with each other,\n",
    "as well has density and fixed acidity."
   ]
  },
  {
   "cell_type": "code",
   "execution_count": 41,
   "id": "spread-reward",
   "metadata": {},
   "outputs": [
    {
     "data": {
      "text/plain": [
       "[<matplotlib.lines.Line2D at 0x11d3ee4f0>]"
      ]
     },
     "execution_count": 41,
     "metadata": {},
     "output_type": "execute_result"
    },
    {
     "data": {
      "image/png": "[encoded data removed]",
      "text/plain": [
       "<Figure size 432x288 with 1 Axes>"
      ]
     },
     "metadata": {
      "needs_background": "light"
     },
     "output_type": "display_data"
    }
   ],
   "source": [
    "plt.plot(red_wine[\"fixed acidity\"], red_wine[\"density\"], 'rx')"
   ]
  },
  {
   "cell_type": "code",
   "execution_count": 42,
   "id": "european-grove",
   "metadata": {},
   "outputs": [
    {
     "data": {
      "text/plain": [
       "[<matplotlib.lines.Line2D at 0x11d512550>]"
      ]
     },
     "execution_count": 42,
     "metadata": {},
     "output_type": "execute_result"
    },
    {
     "data": {
      "image/png": "[encoded data removed]",
      "text/plain": [
       "<Figure size 432x288 with 1 Axes>"
      ]
     },
     "metadata": {
      "needs_background": "light"
     },
     "output_type": "display_data"
    }
   ],
   "source": [
    "plt.plot(red_wine[\"fixed acidity\"], red_wine[\"citric acid\"], 'rx')"
   ]
  },
  {
   "cell_type": "markdown",
   "id": "surprising-vegetable",
   "metadata": {},
   "source": [
    "Alcohol, sulphates, and citric acid appeared to have the highest correlation with wine quality"
   ]
  },
  {
   "cell_type": "code",
   "execution_count": 18,
   "id": "adapted-selling",
   "metadata": {},
   "outputs": [
    {
     "data": {
      "text/plain": [
       "[<matplotlib.lines.Line2D at 0x119f519a0>]"
      ]
     },
     "execution_count": 18,
     "metadata": {},
     "output_type": "execute_result"
    },
    {
     "data": {
      "image/png": "[encoded data removed]",
      "text/plain": [
       "<Figure size 432x288 with 1 Axes>"
      ]
     },
     "metadata": {
      "needs_background": "light"
     },
     "output_type": "display_data"
    }
   ],
   "source": [
    "plt.plot( red_wine[\"quality\"], red_wine[\"citric acid\"], 'rx')"
   ]
  },
  {
   "cell_type": "code",
   "execution_count": 19,
   "id": "advance-discipline",
   "metadata": {},
   "outputs": [
    {
     "data": {
      "text/plain": [
       "[<matplotlib.lines.Line2D at 0x11a02a190>]"
      ]
     },
     "execution_count": 19,
     "metadata": {},
     "output_type": "execute_result"
    },
    {
     "data": {
      "image/png": "[encoded data removed]",
      "text/plain": [
       "<Figure size 432x288 with 1 Axes>"
      ]
     },
     "metadata": {
      "needs_background": "light"
     },
     "output_type": "display_data"
    }
   ],
   "source": [
    "plt.plot( red_wine[\"quality\"], red_wine[\"alcohol\"], 'rx')"
   ]
  },
  {
   "cell_type": "code",
   "execution_count": 20,
   "id": "controlled-train",
   "metadata": {},
   "outputs": [
    {
     "data": {
      "text/plain": [
       "<AxesSubplot:xlabel='quality', ylabel='volatile acidity'>"
      ]
     },
     "execution_count": 20,
     "metadata": {},
     "output_type": "execute_result"
    },
    {
     "data": {
      "image/png": "[encoded data removed]",
      "text/plain": [
       "<Figure size 432x288 with 1 Axes>"
      ]
     },
     "metadata": {
      "needs_background": "light"
     },
     "output_type": "display_data"
    }
   ],
   "source": [
    "sns.lineplot(x=\"quality\", y=\"volatile acidity\", data=red_wine)"
   ]
  },
  {
   "cell_type": "markdown",
   "id": "expected-gathering",
   "metadata": {},
   "source": [
    "Several trials were conducted using the features with the highest correlation. Features were added by order of increasing correlation value. The scores from these models were low, making them not a good fit. "
   ]
  },
  {
   "cell_type": "code",
   "execution_count": 20,
   "id": "precise-twins",
   "metadata": {},
   "outputs": [],
   "source": [
    "#Trial #1\n",
    "X = red_wine[['fixed acidity']]\n",
    "y = red_wine['density']    #add more fe\n",
    "\n",
    "# X = red_wine[['alcohol','sulphates']]\n",
    "# y = red_wine['quality']    #add more features to x\n",
    "#do mulitple linear regressions\n",
    "#searching for the highest r^^2"
   ]
  },
  {
   "cell_type": "code",
   "execution_count": 21,
   "id": "inclusive-spirituality",
   "metadata": {},
   "outputs": [],
   "source": [
    "from sklearn.model_selection import train_test_split \n",
    "\n",
    "X_train, X_test, y_train, y_test = train_test_split(X, y, test_size=0.3, random_state=47)\n"
   ]
  },
  {
   "cell_type": "code",
   "execution_count": 22,
   "id": "miniature-guess",
   "metadata": {},
   "outputs": [
    {
     "data": {
      "text/plain": [
       "LinearRegression()"
      ]
     },
     "execution_count": 22,
     "metadata": {},
     "output_type": "execute_result"
    }
   ],
   "source": [
    "from sklearn.linear_model import LinearRegression\n",
    "\n",
    "reg = LinearRegression()\n",
    "\n",
    "reg.fit(X_train, y_train) "
   ]
  },
  {
   "cell_type": "code",
   "execution_count": 24,
   "id": "according-hudson",
   "metadata": {},
   "outputs": [
    {
     "data": {
      "text/plain": [
       "0.4401437477071398"
      ]
     },
     "execution_count": 24,
     "metadata": {},
     "output_type": "execute_result"
    }
   ],
   "source": [
    "reg.score(X_train, y_train)"
   ]
  },
  {
   "cell_type": "code",
   "execution_count": 25,
   "id": "fantastic-attack",
   "metadata": {},
   "outputs": [
    {
     "data": {
      "text/plain": [
       "array([0.99832642, 0.99825326, 0.99722914, 0.99525405, 0.99649763,\n",
       "       0.99737544, 0.99935054, 0.9975949 , 0.99576611, 0.99657078,\n",
       "       0.99649763, 0.99825326, 0.99554665, 0.99818011, 0.99561981,\n",
       "       0.99627817, 0.99898478, 0.99825326, 0.99591241, 0.9954735 ,\n",
       "       0.99635132, 0.99913108, 0.99598556, 0.99591241, 0.99510774,\n",
       "       0.99657078, 0.99605872, 0.99627817, 0.99657078, 0.99671708,\n",
       "       0.99693653, 0.99730229, 0.99510774, 0.99569296, 0.9974486 ,\n",
       "       0.99679023, 0.99766805, 0.9974486 , 0.99788751, 1.00161824,\n",
       "       0.9953272 , 0.99642447, 0.99708284, 0.99605872, 0.99583926,\n",
       "       0.99964314, 0.99598556, 0.99605872, 1.00037466, 0.99437623,\n",
       "       0.99598556, 0.99671708, 0.99686338, 0.99591241, 0.9954735 ,\n",
       "       0.99818011, 0.99861902, 0.9977412 , 0.99635132, 0.99810696,\n",
       "       0.99679023, 0.99591241, 0.99935054, 0.9954735 , 0.99715599,\n",
       "       0.99554665, 0.99583926, 0.9954735 , 0.99686338, 0.99569296,\n",
       "       0.99737544, 0.9998626 , 0.99613187, 0.99627817, 0.99730229,\n",
       "       0.99452253, 0.99715599, 0.99635132, 0.99525405, 0.99605872,\n",
       "       0.99635132, 0.99642447, 0.99613187, 0.99569296, 0.99861902,\n",
       "       0.99803381, 0.99686338, 0.99891163, 0.99708284, 1.0000089 ,\n",
       "       0.99715599, 0.99444938, 0.99649763, 0.99730229, 0.99854587,\n",
       "       0.99627817, 0.99847272, 0.99591241, 0.9974486 , 0.99927739,\n",
       "       0.99561981, 0.99583926, 0.99613187, 0.99598556, 0.99905793,\n",
       "       0.99788751, 0.99613187, 0.99613187, 0.99620502, 0.99591241,\n",
       "       0.99540035, 0.99671708, 1.0000089 , 0.99737544, 0.9998626 ,\n",
       "       0.99627817, 0.99679023, 0.99825326, 0.99679023, 0.9974486 ,\n",
       "       0.99671708, 0.99693653, 1.00044781, 0.99591241, 1.0022766 ,\n",
       "       0.99642447, 0.99561981, 0.99664393, 0.99540035, 0.99715599,\n",
       "       0.99978945, 0.99730229, 0.99708284, 0.99722914, 0.99715599,\n",
       "       0.9953272 , 0.9954735 , 0.99803381, 0.99591241, 1.00030151,\n",
       "       0.99561981, 0.99540035, 0.99993575, 0.99905793, 0.99561981,\n",
       "       0.9954735 , 0.99671708, 0.99693653, 0.99978945, 0.99605872,\n",
       "       0.99605872, 0.99576611, 0.99459568, 0.99583926, 0.99613187,\n",
       "       0.9974486 , 0.99510774, 0.9951809 , 0.99788751, 0.9954735 ,\n",
       "       0.99796066, 0.99488829, 0.99620502, 0.99613187, 0.99700969,\n",
       "       0.99591241, 0.99627817, 0.99679023, 0.99598556, 0.99686338,\n",
       "       0.99481514, 0.99627817, 1.00037466, 1.0000089 , 0.99620502,\n",
       "       0.99935054, 0.99891163, 0.99613187, 0.99649763, 0.99635132,\n",
       "       0.99561981, 0.99847272, 0.99700969, 0.99935054, 0.99818011,\n",
       "       0.99591241, 0.99913108, 0.99700969, 0.99649763, 0.99561981,\n",
       "       0.99810696, 0.99554665, 0.99891163, 0.99569296, 0.99598556,\n",
       "       0.99627817, 0.99839957, 0.9953272 , 0.99620502, 0.99810696,\n",
       "       0.99913108, 0.99583926, 0.9997163 , 0.99540035, 0.99540035,\n",
       "       0.99583926, 0.99605872, 0.99620502, 0.99730229, 0.99766805,\n",
       "       0.99730229, 0.99839957, 0.99430308, 0.99942369, 0.99510774,\n",
       "       0.99708284, 0.99913108, 0.99613187, 0.99737544, 0.99591241,\n",
       "       0.99620502, 0.99569296, 0.99569296, 0.99708284, 0.99876533,\n",
       "       0.99730229, 0.99605872, 0.99722914, 0.99693653, 0.99635132,\n",
       "       0.99613187, 0.99554665, 0.99598556, 0.9951809 , 0.9953272 ,\n",
       "       0.99649763, 0.99554665, 0.99620502, 0.99671708, 0.99583926,\n",
       "       0.99671708, 0.99788751, 0.99605872, 0.99576611, 0.99598556,\n",
       "       0.99737544, 0.99693653, 0.99452253, 0.99942369, 0.99825326,\n",
       "       0.99679023, 0.99525405, 0.99627817, 0.99715599, 0.99510774,\n",
       "       0.99722914, 0.99935054, 0.99620502, 0.9954735 , 0.99635132,\n",
       "       0.99700969, 0.99554665, 0.9974486 , 0.99810696, 0.99722914,\n",
       "       0.99642447, 0.99810696, 0.99627817, 0.99664393, 0.99861902,\n",
       "       0.99488829, 0.99598556, 0.99905793, 0.99620502, 0.99839957,\n",
       "       0.99657078, 0.99722914, 0.99649763, 0.99605872, 0.99583926,\n",
       "       0.99810696, 0.99781435, 0.9953272 , 0.99766805, 0.99642447,\n",
       "       0.99657078, 0.9977412 , 0.99613187, 0.99613187, 0.9974486 ,\n",
       "       0.99730229, 1.001984  , 0.99540035, 0.99788751, 0.99540035,\n",
       "       0.99722914, 0.99561981, 0.99730229, 0.9974486 , 0.99649763,\n",
       "       0.99657078, 0.99730229, 0.99561981, 0.99693653, 0.99591241,\n",
       "       0.99664393, 0.99576611, 0.99583926, 0.99591241, 0.99766805,\n",
       "       0.99635132, 0.99657078, 0.99708284, 0.99635132, 0.99642447,\n",
       "       0.99722914, 0.99591241, 0.99832642, 0.99825326, 0.99569296,\n",
       "       0.99605872, 0.99664393, 0.99708284, 1.00030151, 0.99591241,\n",
       "       0.9997163 , 0.9977412 , 0.99598556, 0.99715599, 0.99766805,\n",
       "       0.99810696, 0.99657078, 0.99401047, 0.99635132, 0.9954735 ,\n",
       "       0.9975949 , 0.99737544, 0.99671708, 0.99913108, 0.99627817,\n",
       "       0.99503459, 0.9954735 , 0.99854587, 0.99796066, 0.9974486 ,\n",
       "       0.9951809 , 0.9954735 , 0.99642447, 0.99635132, 0.99671708,\n",
       "       0.99569296, 0.99598556, 0.99715599, 0.99503459, 0.99561981,\n",
       "       0.99554665, 0.99554665, 0.99627817, 0.99613187, 0.9953272 ,\n",
       "       0.99540035, 0.99796066, 0.99642447, 0.99569296, 0.99635132,\n",
       "       0.99715599, 0.99715599, 0.99503459, 0.99510774, 0.99649763,\n",
       "       0.99978945, 0.99583926, 1.00205715, 0.99649763, 0.99686338,\n",
       "       0.99620502, 0.99605872, 0.99796066, 0.9954735 , 0.99430308,\n",
       "       0.99920424, 0.99627817, 0.99708284, 0.9998626 , 0.99671708,\n",
       "       0.99591241, 0.99664393, 0.99627817, 0.99591241, 0.99496144,\n",
       "       0.99503459, 0.99803381, 0.99613187, 0.99561981, 0.99788751,\n",
       "       0.9953272 , 0.99635132, 0.99591241, 0.99496144, 0.99664393,\n",
       "       0.9954735 , 0.99635132, 0.99715599, 0.99620502, 0.99591241,\n",
       "       0.99671708, 0.99781435, 0.9954735 , 0.99591241, 0.99496144,\n",
       "       0.99598556, 0.99788751, 0.99781435, 0.99664393, 0.99730229,\n",
       "       0.99613187, 0.99891163, 0.99525405, 0.99525405, 0.99583926,\n",
       "       0.99635132, 0.99554665, 0.99671708, 0.99591241, 0.99803381,\n",
       "       0.99825326, 0.99583926, 0.99591241, 0.99605872, 0.99788751,\n",
       "       0.9951809 , 0.99583926, 0.99583926, 0.9953272 , 0.99569296,\n",
       "       0.99876533, 0.99620502, 0.99796066, 0.99598556, 0.99803381,\n",
       "       0.99635132, 0.99620502, 0.9974486 , 0.99796066, 0.99569296,\n",
       "       0.99832642, 0.99949684, 0.99598556, 0.99591241, 0.99627817,\n",
       "       0.9977412 , 0.99664393, 0.99591241, 0.99583926, 0.99664393,\n",
       "       0.99935054, 0.99576611, 0.99642447, 0.99620502, 0.99657078,\n",
       "       0.99635132, 0.9975949 , 0.99752175, 0.99613187, 0.99766805,\n",
       "       0.99474199, 0.99730229, 0.99700969, 0.99796066, 0.9974486 ,\n",
       "       0.99561981, 0.99569296, 0.99657078, 0.99839957, 0.99693653,\n",
       "       0.99583926, 0.99569296, 0.99722914, 0.9974486 , 0.99540035])"
      ]
     },
     "execution_count": 25,
     "metadata": {},
     "output_type": "execute_result"
    }
   ],
   "source": [
    "y_pred = reg.predict(X_test)  \n",
    "y_pred"
   ]
  },
  {
   "cell_type": "code",
   "execution_count": 56,
   "id": "subject-bidding",
   "metadata": {},
   "outputs": [
    {
     "data": {
      "image/png": "[encoded data removed]",
      "text/plain": [
       "<Figure size 432x288 with 1 Axes>"
      ]
     },
     "metadata": {
      "needs_background": "light"
     },
     "output_type": "display_data"
    }
   ],
   "source": [
    "#Trial 1\n",
    "\n",
    "\n",
    "plt.plot(X_test, y_test,'rx')\n",
    "plt.plot(X_test, y_pred, 'ko')\n",
    "plt.show()"
   ]
  },
  {
   "cell_type": "code",
   "execution_count": 139,
   "id": "present-therapist",
   "metadata": {},
   "outputs": [
    {
     "name": "stdout",
     "output_type": "stream",
     "text": [
      "MSE: 0.5221802099818659\n",
      "MAE: 0.5501498194543163\n",
      "MAPE: 0.10276489904263678\n"
     ]
    }
   ],
   "source": [
    "#Trial 1\n",
    "print(f\"MSE: {mean_squared_error(y_test, y_pred)}\")\n",
    "print(f\"MAE: {mean_absolute_error(y_test, y_pred)}\")\n",
    "print(f\"MAPE: {mean_absolute_percentage_error(y_test, y_pred)}\")"
   ]
  },
  {
   "cell_type": "code",
   "execution_count": 140,
   "id": "manual-robin",
   "metadata": {},
   "outputs": [],
   "source": [
    "#Trial #2\n",
    "X = red_wine[['alcohol','sulphates','citric acid']]\n",
    "y = red_wine['quality'] "
   ]
  },
  {
   "cell_type": "code",
   "execution_count": 141,
   "id": "fifty-environment",
   "metadata": {},
   "outputs": [],
   "source": [
    "from sklearn.model_selection import train_test_split \n",
    "\n",
    "X_train, X_test, y_train, y_test = train_test_split(X, y, test_size=0.3, random_state=47)"
   ]
  },
  {
   "cell_type": "code",
   "execution_count": 142,
   "id": "spiritual-giant",
   "metadata": {},
   "outputs": [
    {
     "data": {
      "text/plain": [
       "LinearRegression()"
      ]
     },
     "execution_count": 142,
     "metadata": {},
     "output_type": "execute_result"
    }
   ],
   "source": [
    "from sklearn.linear_model import LinearRegression\n",
    "\n",
    "reg = LinearRegression()\n",
    "\n",
    "reg.fit(X_train, y_train) "
   ]
  },
  {
   "cell_type": "code",
   "execution_count": 143,
   "id": "enabling-bench",
   "metadata": {},
   "outputs": [
    {
     "data": {
      "text/plain": [
       "array([6.14856684, 5.70305963, 5.28386089, 5.70184556, 5.19340314,\n",
       "       5.40287978, 5.65908948, 5.30372457, 5.88329455, 5.82540235,\n",
       "       5.30998777, 6.09180355, 6.13154413, 6.4708398 , 5.62270111,\n",
       "       5.25189172, 5.46576628, 6.15302765, 5.11515634, 5.88519531,\n",
       "       5.54010608, 5.55880977, 5.69687352, 6.10064099, 5.78562628,\n",
       "       5.15927356, 5.73336638, 6.26760604, 5.09548232, 5.54641186,\n",
       "       5.46298819, 5.96329502, 5.3319551 , 5.79843362, 5.7043711 ,\n",
       "       5.24292139, 5.50506466, 5.99273962, 5.19324187, 5.44783885,\n",
       "       6.28424942, 5.24752929, 7.10243228, 5.25744694, 5.42878862,\n",
       "       5.26463616, 5.86143979, 5.87588115, 5.13724333, 6.33614516,\n",
       "       5.52010241, 6.08204717, 5.34014745, 6.62180656, 5.85336613,\n",
       "       5.37147862, 6.10962551, 6.666864  , 5.0779687 , 6.27835844,\n",
       "       6.51564469, 5.12068317, 6.66668853, 6.03425422, 6.29495311,\n",
       "       5.68499833, 6.35658394, 5.10036406, 5.35841163, 5.50951838,\n",
       "       6.77935394, 5.62068875, 5.05517372, 5.46810829, 6.28438328,\n",
       "       5.76969798, 6.29602623, 5.13736913, 5.86389436, 5.13292251,\n",
       "       6.12929244, 5.30394874, 5.35667214, 5.41359669, 6.10962551,\n",
       "       5.91520081, 5.7661287 , 5.29621279, 5.13994337, 5.73462915,\n",
       "       5.3086763 , 5.10987497, 5.19340314, 5.30974232, 5.33321787,\n",
       "       5.32552353, 5.2712432 , 4.95171898, 5.14274887, 5.73288256,\n",
       "       5.36153259, 5.6879793 , 5.62782121, 5.78844598, 5.95086701,\n",
       "       5.33206767, 5.32186908, 6.51394068, 5.09194753, 5.4504334 ,\n",
       "       5.92220039, 5.48052309, 5.74932306, 5.22769399, 6.16475478,\n",
       "       5.92240424, 5.92422082, 5.78817311, 5.42162068, 5.6130644 ,\n",
       "       5.36114005, 5.23247025, 5.55855281, 5.19578772, 7.55423107,\n",
       "       5.85678931, 5.1306921 , 6.09120716, 5.6545303 , 6.55108574,\n",
       "       6.1561283 , 6.1334591 , 6.00056685, 5.42764551, 5.84074135,\n",
       "       5.77630502, 5.41143628, 5.66585779, 4.97690564, 5.30810829,\n",
       "       5.08515084, 5.86841807, 5.55598566, 5.98620258, 5.49654267,\n",
       "       5.61560317, 5.58831898, 5.25194091, 6.09634855, 5.07548575,\n",
       "       6.17620807, 5.91777505, 5.4634933 , 5.79327191, 6.03146999,\n",
       "       5.14274887, 5.95087312, 5.09582615, 5.15316454, 5.45373692,\n",
       "       5.20207931, 5.26154972, 5.31197982, 5.35667214, 5.36445775,\n",
       "       5.17713101, 5.12977317, 5.23579506, 5.05037617, 6.12020244,\n",
       "       5.18810048, 5.93542155, 6.22607016, 6.08793202, 5.31987703,\n",
       "       6.1453404 , 5.29621279, 5.31222528, 5.80059403, 5.13438816,\n",
       "       6.41176192, 6.40030153, 5.25194091, 5.97986229, 5.38123499,\n",
       "       5.12068317, 5.58418169, 6.31296474, 5.18539335, 5.53274847,\n",
       "       6.54680038, 5.86668567, 5.43477895, 5.90751357, 5.20907888,\n",
       "       5.29469747, 5.26894281, 6.69578221, 6.22776707, 5.3863338 ,\n",
       "       6.13171961, 5.05813341, 6.46172239, 5.35832035, 5.52602177,\n",
       "       5.13333633, 5.20233186, 5.8591668 , 5.21837982, 6.54374233,\n",
       "       5.84845698, 5.76877293, 6.96360647, 5.69023809, 5.5513352 ,\n",
       "       5.84120485, 5.67083791, 5.56901008, 5.74557733, 6.10064099,\n",
       "       5.26859897, 5.24298429, 5.9900741 , 5.04071817, 6.07982386,\n",
       "       6.0427975 , 5.14795316, 5.24498343, 5.45771391, 5.29545513,\n",
       "       5.45530095, 5.16438656, 5.37889202, 5.33054525, 5.75670808,\n",
       "       5.4940739 , 5.64262769, 6.34971726, 6.5286133 , 5.15589296,\n",
       "       5.47460373, 5.33206767, 5.29923538, 5.7248373 , 5.43092774,\n",
       "       6.02552224, 6.58513212, 6.87310884, 5.98934482, 5.4169286 ,\n",
       "       5.42162068, 6.03010885, 5.3336246 , 6.33552846, 5.5536143 ,\n",
       "       5.31239364, 6.54713713, 5.46586368, 5.15439892, 5.51813875,\n",
       "       5.94230953, 5.64262769, 5.95917805, 5.28473112, 5.21513211,\n",
       "       5.55491256, 5.32931796, 5.00550129, 5.81497959, 6.23490051,\n",
       "       5.74143907, 5.47903615, 6.47915181, 5.18812177, 5.38534487,\n",
       "       5.0615353 , 5.2729827 , 5.15341709, 5.24957004, 5.08473701,\n",
       "       6.35898982, 5.40666711, 5.82813786, 5.41725114, 5.50987641,\n",
       "       5.35542356, 5.61705559, 5.83541128, 5.86390146, 5.28951447,\n",
       "       5.18215273, 6.0541179 , 5.35832035, 5.73105889, 6.1238985 ,\n",
       "       6.16117742, 5.53274847, 5.73005577, 5.48913636, 5.40193955,\n",
       "       5.22648799, 5.19686793, 5.48943052, 5.18580718, 5.81406066,\n",
       "       5.81497959, 5.09375702, 4.98814895, 5.02227853, 6.10211373,\n",
       "       5.29818355, 5.04220511, 5.25613546, 5.3053444 , 6.48871144,\n",
       "       5.39848896, 5.90526187, 6.35173769, 5.56694804, 5.52115423,\n",
       "       5.7276428 , 5.29130267, 6.23372902, 5.17070653, 6.51027204,\n",
       "       5.81583563, 5.56373581, 5.19902834, 6.24617222, 5.50150859,\n",
       "       6.54680038, 5.0592836 , 6.44901245, 5.27926719, 5.16043795,\n",
       "       6.00793155, 5.71353108, 5.09003967, 5.52474578, 5.49034946,\n",
       "       5.96180099, 6.30029029, 5.84953009, 5.15323453, 5.30206926,\n",
       "       5.51727561, 6.39400286, 5.16200198, 5.48068436, 5.47460373,\n",
       "       5.7015301 , 5.17531443, 5.18504951, 5.01532766, 5.16365019,\n",
       "       5.02393384, 6.25984881, 5.56940262, 6.17340966, 5.56644294,\n",
       "       5.08301172, 5.43152413, 6.36427828, 5.89072924, 5.12607711,\n",
       "       5.26761714, 5.41229942, 5.85514111, 5.96819096, 5.76343478,\n",
       "       5.37742637, 6.14072444, 6.1600556 , 5.41676732, 5.79483594,\n",
       "       5.34583555, 5.19521262, 5.88540626, 5.54957441, 6.86774769,\n",
       "       5.11484089, 5.14134612, 5.3681751 , 5.76942511, 5.36872181,\n",
       "       5.44887647, 5.70692404, 5.26916698, 5.06846488, 6.13852952,\n",
       "       6.35549664, 6.10385323, 5.12059189, 5.6788893 , 5.94836985,\n",
       "       5.44953576, 5.12607711, 4.95171898, 6.28840188, 6.57826444,\n",
       "       5.27006462, 5.99997854, 6.19861051, 6.02615315, 4.95171898,\n",
       "       6.5286133 , 5.23926694, 6.0026076 , 5.01459129, 5.68449322,\n",
       "       5.34007037, 5.21532886, 5.56727059, 5.81238504, 5.31188854,\n",
       "       5.33949527, 6.90398188, 5.62830503, 5.11292594, 5.57495783,\n",
       "       5.11862113, 5.8393528 , 5.35790652, 5.36417682, 5.53837368,\n",
       "       5.78817311, 5.08616106, 5.25245973, 5.31975125, 5.94216955,\n",
       "       5.3806528 , 5.26494452, 5.58859283, 6.19262018, 5.30345783,\n",
       "       6.42385418, 5.58852993, 5.55935208, 5.3353499 , 6.3885602 ,\n",
       "       5.3353499 , 6.14749372, 5.71699587, 6.22836346, 6.13783573,\n",
       "       5.59359423, 5.68082555, 5.34007037, 5.89281966, 5.32768394,\n",
       "       5.74310147, 6.58877139, 5.27314397, 5.12688347, 6.59396148,\n",
       "       5.92638832, 5.4101948 , 5.27928848, 5.0422751 , 5.16454784,\n",
       "       5.31287037, 5.37147862, 5.62512117, 5.11317849, 5.87241635,\n",
       "       6.44719587, 6.43689987, 5.72135831, 5.0087632 , 5.38699309,\n",
       "       5.62270111, 5.90916178, 5.37751765, 6.07312554, 5.22395535,\n",
       "       5.84985264, 5.25682975, 5.07491065, 5.30206926, 5.54183847])"
      ]
     },
     "execution_count": 143,
     "metadata": {},
     "output_type": "execute_result"
    }
   ],
   "source": [
    "y_pred = reg.predict(X_test)  \n",
    "y_pred"
   ]
  },
  {
   "cell_type": "code",
   "execution_count": 144,
   "id": "continuing-dividend",
   "metadata": {},
   "outputs": [
    {
     "data": {
      "image/png": "[encoded data removed]",
      "text/plain": [
       "<Figure size 432x288 with 1 Axes>"
      ]
     },
     "metadata": {
      "needs_background": "light"
     },
     "output_type": "display_data"
    }
   ],
   "source": [
    "#Trial 2\n",
    "plt.plot(X_test, y_test,'rx')\n",
    "plt.plot(X_test, y_pred, 'ko')\n",
    "plt.show()\n",
    "\n",
    "\n"
   ]
  },
  {
   "cell_type": "code",
   "execution_count": 145,
   "id": "advisory-forge",
   "metadata": {},
   "outputs": [
    {
     "name": "stdout",
     "output_type": "stream",
     "text": [
      "MSE: 0.5230620351063848\n",
      "MAE: 0.552765018931789\n",
      "MAPE: 0.1031131710868644\n"
     ]
    }
   ],
   "source": [
    "#Trial 2\n",
    "print(f\"MSE: {mean_squared_error(y_test, y_pred)}\")\n",
    "print(f\"MAE: {mean_absolute_error(y_test, y_pred)}\")\n",
    "print(f\"MAPE: {mean_absolute_percentage_error(y_test, y_pred)}\")"
   ]
  },
  {
   "cell_type": "code",
   "execution_count": 146,
   "id": "arabic-brighton",
   "metadata": {},
   "outputs": [],
   "source": [
    "#Trial #3\n",
    "X = red_wine[['alcohol','sulphates','citric acid', 'fixed acidity']]\n",
    "y = red_wine['quality'] "
   ]
  },
  {
   "cell_type": "code",
   "execution_count": 147,
   "id": "pursuant-dressing",
   "metadata": {},
   "outputs": [],
   "source": [
    "from sklearn.model_selection import train_test_split \n",
    "\n",
    "X_train, X_test, y_train, y_test = train_test_split(X, y, test_size=0.3, random_state=47)"
   ]
  },
  {
   "cell_type": "code",
   "execution_count": 148,
   "id": "theoretical-limit",
   "metadata": {},
   "outputs": [
    {
     "data": {
      "text/plain": [
       "LinearRegression()"
      ]
     },
     "execution_count": 148,
     "metadata": {},
     "output_type": "execute_result"
    }
   ],
   "source": [
    "from sklearn.linear_model import LinearRegression\n",
    "\n",
    "reg = LinearRegression()\n",
    "\n",
    "reg.fit(X_train, y_train) "
   ]
  },
  {
   "cell_type": "code",
   "execution_count": 149,
   "id": "prerequisite-possession",
   "metadata": {},
   "outputs": [
    {
     "data": {
      "text/plain": [
       "array([6.19039357, 5.74311165, 5.35350261, 5.6943116 , 5.18563768,\n",
       "       5.38003588, 5.74051432, 5.28470207, 5.88406965, 5.82751095,\n",
       "       5.2826555 , 6.12689329, 5.99933581, 6.56931406, 5.6171038 ,\n",
       "       5.23832619, 5.53269128, 6.15728032, 5.07297166, 5.8906637 ,\n",
       "       5.55064165, 5.64700938, 5.65650215, 6.02480179, 5.7703158 ,\n",
       "       5.15563474, 5.65987456, 6.24232166, 5.11736127, 5.55289716,\n",
       "       5.53256089, 5.96716658, 5.25321914, 5.8143926 , 5.71091177,\n",
       "       5.16414583, 5.55841923, 5.96635392, 5.24930662, 5.64456531,\n",
       "       6.29404253, 5.21433318, 7.11087549, 5.19293754, 5.4248762 ,\n",
       "       5.35423294, 5.80693998, 5.84376929, 5.23877124, 6.29397017,\n",
       "       5.47534767, 6.05923829, 5.33328422, 6.57833819, 5.86195757,\n",
       "       5.39940325, 6.16594417, 6.66247877, 5.08382933, 6.27542752,\n",
       "       6.50313031, 5.11885951, 6.72484405, 6.03728475, 6.27337343,\n",
       "       5.67294992, 6.2807897 , 5.08796264, 5.3745748 , 5.47732113,\n",
       "       6.64956512, 5.68658007, 5.04148176, 5.50351861, 6.30928419,\n",
       "       5.68301331, 6.30245849, 5.1712565 , 5.82711752, 5.09365979,\n",
       "       6.08807355, 5.29786749, 5.3224416 , 5.36578444, 6.16594417,\n",
       "       5.99855683, 5.71821848, 5.35589735, 5.16911244, 5.80958704,\n",
       "       5.30760347, 4.99163686, 5.18563768, 5.39023052, 5.37754991,\n",
       "       5.29995748, 5.32490042, 4.95910375, 5.17372928, 5.80374392,\n",
       "       5.35615918, 5.69134661, 5.64607686, 5.81249588, 5.99353345,\n",
       "       5.34245489, 5.34831423, 6.43269606, 5.05999939, 5.45751047,\n",
       "       5.92682009, 5.51022854, 5.83357252, 5.26800236, 6.26932557,\n",
       "       5.90733879, 5.92197043, 5.79994488, 5.4542817 , 5.62140214,\n",
       "       5.3804336 , 5.27349795, 5.66133994, 5.19340072, 7.7839187 ,\n",
       "       5.82859568, 5.08664768, 6.08000005, 5.63493206, 6.56257466,\n",
       "       6.24723925, 6.11963824, 5.99903473, 5.44501796, 5.90140121,\n",
       "       5.75158167, 5.38931662, 5.70915416, 4.98105408, 5.41599892,\n",
       "       5.07748325, 5.87083864, 5.62807178, 6.0371086 , 5.49969184,\n",
       "       5.61178632, 5.64708214, 5.29297456, 6.20539908, 5.093287  ,\n",
       "       6.15637629, 5.84774847, 5.3980945 , 5.71798814, 5.94456109,\n",
       "       5.17372928, 5.91972372, 5.02480806, 5.22007354, 5.45009613,\n",
       "       5.26687175, 5.22167506, 5.27480741, 5.3224416 , 5.31669868,\n",
       "       5.12199519, 5.14171061, 5.24647889, 5.04108704, 6.10873394,\n",
       "       5.12753355, 5.98140715, 6.31065218, 6.15205412, 5.34528443,\n",
       "       6.20019191, 5.35589735, 5.30825368, 5.81986809, 5.16736364,\n",
       "       6.36542689, 6.47752879, 5.29660052, 6.0258933 , 5.39091312,\n",
       "       5.11885951, 5.63839249, 6.31662995, 5.16371134, 5.46706274,\n",
       "       6.55184352, 5.81592686, 5.50455356, 5.87104836, 5.22776864,\n",
       "       5.28066999, 5.31635169, 6.58730181, 6.18806323, 5.42498705,\n",
       "       6.1944136 , 5.06497933, 6.55285438, 5.31649776, 5.52234281,\n",
       "       5.07878833, 5.16337897, 5.90077859, 5.18847432, 6.55281858,\n",
       "       5.83973229, 5.77562638, 6.87994079, 5.77387632, 5.49342015,\n",
       "       5.7792745 , 5.72780206, 5.57206192, 5.77308881, 6.02480179,\n",
       "       5.23123293, 5.17571294, 5.93217668, 5.04323434, 6.1292187 ,\n",
       "       6.05102571, 5.14027536, 5.21222374, 5.47745519, 5.25664237,\n",
       "       5.48119756, 5.15475275, 5.34542868, 5.30989166, 5.73671399,\n",
       "       5.47458469, 5.592504  , 6.32574462, 6.51979776, 5.13165742,\n",
       "       5.43422574, 5.34245489, 5.31844285, 5.73446027, 5.43182661,\n",
       "       6.01059821, 6.59471901, 6.82574748, 6.06435553, 5.42663577,\n",
       "       5.4542817 , 6.0078711 , 5.30744168, 6.33046087, 5.53245146,\n",
       "       5.32157725, 6.63611491, 5.50245476, 5.13472624, 5.51118479,\n",
       "       5.95673307, 5.592504  , 5.98024579, 5.32080986, 5.28275352,\n",
       "       5.52970241, 5.3743306 , 5.033215  , 5.85283848, 6.28385842,\n",
       "       5.68974206, 5.44887749, 6.51102687, 5.16231822, 5.44225378,\n",
       "       5.05484811, 5.27913273, 5.14196247, 5.2566341 , 5.09235471,\n",
       "       6.39585659, 5.43180587, 5.73269029, 5.40807666, 5.50210226,\n",
       "       5.40246819, 5.60292739, 5.78804721, 5.82433894, 5.26913749,\n",
       "       5.25521197, 6.27306474, 5.31649776, 5.79189085, 6.08067114,\n",
       "       6.16777606, 5.46706274, 5.75346453, 5.48924653, 5.39306223,\n",
       "       5.11340886, 5.24508891, 5.48944474, 5.18147351, 5.8390082 ,\n",
       "       5.85283848, 5.07378365, 4.99402946, 5.03128431, 6.12473473,\n",
       "       5.26975309, 5.0429441 , 5.2360153 , 5.33377514, 6.49346666,\n",
       "       5.42193767, 5.93077843, 6.35715454, 5.65089256, 5.52403743,\n",
       "       5.73545115, 5.29890051, 6.23936045, 5.28198562, 6.46524531,\n",
       "       5.91674296, 5.59672731, 5.1454116 , 6.25230366, 5.55329568,\n",
       "       6.55184352, 5.1037003 , 6.36251037, 5.25385549, 5.11588828,\n",
       "       6.02544569, 5.73167353, 5.11057329, 5.57289233, 5.49964907,\n",
       "       5.87596047, 6.31103858, 5.93045864, 5.24336591, 5.29342449,\n",
       "       5.48308362, 6.40321038, 5.16149354, 5.49732302, 5.43422574,\n",
       "       5.65932872, 5.13637121, 5.22000496, 4.98274999, 5.15192374,\n",
       "       4.99718018, 6.17491788, 5.6094288 , 6.12722512, 5.52428993,\n",
       "       5.06690688, 5.49684964, 6.27498508, 5.90113934, 5.1008802 ,\n",
       "       5.2348432 , 5.44279949, 5.83414842, 5.8955601 , 5.72857138,\n",
       "       5.47477852, 6.17240095, 6.32422932, 5.33438849, 5.76721936,\n",
       "       5.35176272, 5.19942195, 5.9046634 , 5.52978488, 6.83436058,\n",
       "       5.17940117, 5.12247042, 5.33067246, 5.82275257, 5.39417198,\n",
       "       5.41275259, 5.66673113, 5.28237966, 5.06134585, 6.12170608,\n",
       "       6.30439926, 6.15873813, 5.14417952, 5.67574742, 5.94729808,\n",
       "       5.41682356, 5.1008802 , 4.95910375, 6.24815843, 6.56579902,\n",
       "       5.25417336, 5.8858425 , 6.2121204 , 6.06606013, 4.95910375,\n",
       "       6.51979776, 5.27051792, 5.97969435, 5.01980652, 5.66237797,\n",
       "       5.31639639, 5.19392272, 5.63958536, 5.75706854, 5.34363893,\n",
       "       5.32241762, 6.94976825, 5.61823818, 5.05508168, 5.55316226,\n",
       "       5.1142931 , 5.84056813, 5.3857586 , 5.35192578, 5.571875  ,\n",
       "       5.79994488, 5.05148969, 5.26771717, 5.31088123, 5.96091176,\n",
       "       5.2873082 , 5.2687118 , 5.56024423, 6.19408435, 5.29222516,\n",
       "       6.49584874, 5.51241753, 5.6104688 , 5.29662992, 6.41131733,\n",
       "       5.31475972, 6.05615571, 5.75486517, 6.24220838, 6.08329361,\n",
       "       5.61367681, 5.76233241, 5.31639639, 5.85794075, 5.26554742,\n",
       "       5.76889003, 6.57594539, 5.21908975, 5.10161987, 6.59920315,\n",
       "       5.96817885, 5.4158012 , 5.22337291, 5.04448071, 5.21074045,\n",
       "       5.34002865, 5.37039558, 5.62146073, 5.08937532, 5.9039747 ,\n",
       "       6.40952002, 6.4169993 , 5.76435435, 5.03088843, 5.42543206,\n",
       "       5.6171038 , 5.90136411, 5.3007942 , 6.09684822, 5.27000732,\n",
       "       5.80674672, 5.21003393, 5.15007165, 5.29342449, 5.46090618])"
      ]
     },
     "execution_count": 149,
     "metadata": {},
     "output_type": "execute_result"
    }
   ],
   "source": [
    "y_pred = reg.predict(X_test)  \n",
    "y_pred"
   ]
  },
  {
   "cell_type": "code",
   "execution_count": 150,
   "id": "israeli-cornwall",
   "metadata": {},
   "outputs": [
    {
     "data": {
      "image/png": "[encoded data removed]",
      "text/plain": [
       "<Figure size 432x288 with 1 Axes>"
      ]
     },
     "metadata": {
      "needs_background": "light"
     },
     "output_type": "display_data"
    }
   ],
   "source": [
    "#Trial 3\n",
    "plt.plot(X_test, y_test,'rx')\n",
    "plt.plot(X_test, y_pred,'ko')\n",
    "plt.show()"
   ]
  },
  {
   "cell_type": "code",
   "execution_count": 151,
   "id": "changed-stadium",
   "metadata": {},
   "outputs": [
    {
     "name": "stdout",
     "output_type": "stream",
     "text": [
      "MSE: 0.5221802099818659\n",
      "MAE: 0.5501498194543163\n",
      "MAPE: 0.10276489904263678\n"
     ]
    }
   ],
   "source": [
    "#Trial 3\n",
    "print(f\"MSE: {mean_squared_error(y_test, y_pred)}\")\n",
    "print(f\"MAE: {mean_absolute_error(y_test, y_pred)}\")\n",
    "print(f\"MAPE: {mean_absolute_percentage_error(y_test, y_pred)}\")"
   ]
  },
  {
   "cell_type": "code",
   "execution_count": 152,
   "id": "mental-collective",
   "metadata": {},
   "outputs": [],
   "source": [
    "#Trial #4\n",
    "X = red_wine[['alcohol','sulphates','citric acid','fixed acidity','residual sugar']]\n",
    "y = red_wine['quality'] "
   ]
  },
  {
   "cell_type": "code",
   "execution_count": 153,
   "id": "linear-appliance",
   "metadata": {},
   "outputs": [],
   "source": [
    "from sklearn.model_selection import train_test_split \n",
    "\n",
    "X_train, X_test, y_train, y_test = train_test_split(X, y, test_size=0.3, random_state=47)"
   ]
  },
  {
   "cell_type": "code",
   "execution_count": 154,
   "id": "related-luxembourg",
   "metadata": {},
   "outputs": [
    {
     "data": {
      "text/plain": [
       "LinearRegression()"
      ]
     },
     "execution_count": 154,
     "metadata": {},
     "output_type": "execute_result"
    }
   ],
   "source": [
    "from sklearn.linear_model import LinearRegression\n",
    "\n",
    "reg = LinearRegression()\n",
    "\n",
    "reg.fit(X_train, y_train) "
   ]
  },
  {
   "cell_type": "code",
   "execution_count": 155,
   "id": "center-quantity",
   "metadata": {},
   "outputs": [
    {
     "data": {
      "text/plain": [
       "array([6.19875753, 5.75917927, 5.35299878, 5.69836212, 5.18837472,\n",
       "       5.3849565 , 5.74263792, 5.29687445, 5.88953678, 5.83245265,\n",
       "       5.29016278, 6.13843019, 6.01021218, 6.57681426, 5.56365771,\n",
       "       5.24308047, 5.51890817, 6.15896546, 5.07753225, 5.89111016,\n",
       "       5.55697125, 5.66619307, 5.66260696, 6.03218751, 5.77301371,\n",
       "       5.16046342, 5.66716973, 6.24031165, 5.10422974, 5.5628438 ,\n",
       "       5.52508929, 5.98128704, 5.2639512 , 5.82725612, 5.71123503,\n",
       "       5.17541518, 5.54542639, 5.9778058 , 5.2513045 , 5.65220944,\n",
       "       6.30416387, 5.22421698, 7.11328508, 5.20655188, 5.42809036,\n",
       "       5.36460509, 5.75764702, 5.84269307, 5.25452206, 6.30832294,\n",
       "       5.47752602, 6.06172594, 5.33837024, 6.57621949, 5.87011919,\n",
       "       5.40406476, 6.14114368, 6.67483533, 5.08963557, 6.28418946,\n",
       "       6.51152515, 5.11319122, 6.73658446, 6.04046354, 6.25712896,\n",
       "       5.67370914, 6.29561525, 5.08887618, 5.3688785 , 5.47760095,\n",
       "       6.63783439, 5.69213603, 5.02223327, 5.51071347, 6.31747308,\n",
       "       5.69619714, 6.2893305 , 5.12426361, 5.82720473, 5.02446867,\n",
       "       6.09815621, 5.30372811, 5.32994322, 5.36547458, 6.14114368,\n",
       "       5.98624306, 5.66559976, 5.36651629, 5.16279912, 5.76850468,\n",
       "       5.30174713, 5.00085083, 5.18837472, 5.38376356, 5.37014204,\n",
       "       5.3087206 , 5.33283794, 4.9636655 , 5.18274714, 5.81851897,\n",
       "       5.36404644, 5.70009401, 5.64416545, 5.81333812, 6.00466757,\n",
       "       5.3485911 , 5.34606444, 6.42615208, 5.03939736, 5.45747127,\n",
       "       5.89776839, 5.50626111, 5.8425139 , 5.26036972, 6.27040685,\n",
       "       5.91383488, 5.92721486, 5.79300127, 5.45948151, 5.62808332,\n",
       "       5.38792699, 5.27546926, 5.66662596, 5.18942458, 7.72070412,\n",
       "       5.83994155, 5.09388013, 6.08083307, 5.63754342, 6.56971209,\n",
       "       6.25065428, 6.13083612, 6.00864172, 5.45351085, 5.88756163,\n",
       "       5.72845376, 5.38523172, 5.67389538, 4.98906141, 5.41951007,\n",
       "       5.08429925, 5.87171429, 5.63868708, 6.04204301, 5.44999497,\n",
       "       5.61595387, 5.63213335, 5.3036147 , 6.21057312, 5.09970286,\n",
       "       6.16309697, 5.863032  , 5.40332568, 5.67606236, 5.95301688,\n",
       "       5.18274714, 5.91711953, 5.03649173, 5.17212622, 5.43874848,\n",
       "       5.27606251, 5.22837269, 5.28062113, 5.32994322, 5.33390537,\n",
       "       5.12859643, 5.14812483, 5.24687531, 5.04881606, 6.07957913,\n",
       "       5.1397444 , 5.9848    , 6.31562212, 6.1586911 , 5.35187991,\n",
       "       6.21260479, 5.36651629, 5.26706931, 5.82663031, 5.17785761,\n",
       "       6.37795009, 6.4786967 , 5.30727645, 6.02304539, 5.39080575,\n",
       "       5.11319122, 5.62938516, 6.30728833, 5.15420097, 5.3758947 ,\n",
       "       6.55332879, 5.81971052, 5.50931388, 5.87721665, 5.24377275,\n",
       "       5.29491347, 5.12985765, 6.59407547, 6.18874427, 5.43750126,\n",
       "       6.19392958, 5.06416773, 6.54996588, 5.3154693 , 5.52219583,\n",
       "       5.08679468, 5.17057814, 5.90324338, 5.19061138, 6.561775  ,\n",
       "       5.74931257, 5.78249867, 6.88701446, 5.79517127, 5.50076653,\n",
       "       5.78946292, 5.74672812, 5.56228361, 5.7780876 , 6.03218751,\n",
       "       5.24029785, 5.18364247, 5.936868  , 5.04887682, 6.13765117,\n",
       "       6.06264423, 5.15151556, 5.21734608, 5.48495889, 5.2590282 ,\n",
       "       5.49005614, 5.15575201, 5.35279916, 5.31146245, 5.74101723,\n",
       "       5.48302944, 5.60388558, 6.32825862, 6.52348534, 5.14242724,\n",
       "       5.44245997, 5.3485911 , 5.32166562, 5.73840731, 5.42918965,\n",
       "       6.01847518, 6.59473543, 6.82696585, 6.07582959, 5.42842242,\n",
       "       5.45948151, 6.01988301, 5.31580932, 6.34372302, 5.53151135,\n",
       "       5.31808788, 6.62796539, 5.50641776, 5.13513977, 5.51796491,\n",
       "       5.95352842, 5.60388558, 5.99318441, 5.13447501, 5.28789508,\n",
       "       5.53803264, 5.38821074, 5.02835384, 5.85602813, 6.29858669,\n",
       "       5.6971981 , 5.45123984, 6.49069443, 5.16447413, 5.44406401,\n",
       "       5.06058936, 5.27580943, 5.13147325, 5.26635675, 5.09166054,\n",
       "       6.40624452, 5.43446102, 5.73520976, 5.41531919, 5.5122498 ,\n",
       "       5.38643683, 5.60609427, 5.73613074, 5.82865442, 5.27321977,\n",
       "       5.26600073, 6.25417948, 5.3154693 , 5.79788202, 5.99708298,\n",
       "       6.1730364 , 5.3758947 , 5.76285595, 5.49853315, 5.40134068,\n",
       "       5.12439843, 5.23418993, 5.49164145, 5.17544003, 5.83924763,\n",
       "       5.85602813, 5.08686499, 4.9948998 , 5.0359419 , 6.12921107,\n",
       "       5.26652655, 5.05035913, 5.24225229, 5.34265145, 6.48621684,\n",
       "       5.42861828, 5.93731845, 6.35730128, 5.64851419, 5.53556873,\n",
       "       5.73436811, 5.31528225, 6.24454648, 5.29199173, 6.46654189,\n",
       "       5.91957211, 5.59690458, 5.14769863, 6.25773174, 5.55826463,\n",
       "       6.55332879, 5.10099497, 6.36750867, 5.26137213, 5.1193645 ,\n",
       "       5.93443882, 5.74631217, 5.10727064, 5.57516937, 5.50185655,\n",
       "       5.72635294, 6.30958442, 5.93232491, 5.25887843, 5.30554321,\n",
       "       5.4877102 , 6.39565822, 5.15918645, 5.44378226, 5.44245997,\n",
       "       5.65874682, 5.1445105 , 5.22016506, 4.99528451, 5.16282806,\n",
       "       5.00454448, 6.17811527, 5.60500838, 6.13424266, 5.53276407,\n",
       "       5.07082729, 5.50219192, 6.19877355, 5.90107029, 5.10878213,\n",
       "       5.24893957, 5.41934144, 5.83375866, 5.89558851, 5.72942806,\n",
       "       5.45092678, 6.1757881 , 6.31700489, 5.34551122, 5.78197427,\n",
       "       5.3484429 , 5.20680598, 5.9060448 , 5.48465485, 6.843849  ,\n",
       "       5.18943637, 5.13132442, 5.32992066, 5.83400951, 5.39324447,\n",
       "       5.41985714, 5.66545183, 5.27929673, 5.0372535 , 6.12957492,\n",
       "       6.30521351, 6.17306667, 5.1498097 , 5.67974301, 5.95717604,\n",
       "       5.42930338, 5.10878213, 4.9636655 , 6.24787761, 6.57022563,\n",
       "       5.25531308, 5.89841661, 6.21290636, 6.06273329, 4.9636655 ,\n",
       "       6.52348534, 5.28005804, 5.97982071, 5.01650715, 5.66787614,\n",
       "       5.31988784, 5.1846017 , 5.62966811, 5.76079383, 5.33504796,\n",
       "       5.25451557, 6.91891164, 5.62305879, 5.06917478, 5.56184998,\n",
       "       5.12681595, 5.84448203, 5.38646785, 5.35771911, 5.57315345,\n",
       "       5.79300127, 5.05997697, 5.27172337, 5.31539782, 5.97501864,\n",
       "       5.29757846, 5.26375279, 5.56791357, 6.18231815, 5.29402661,\n",
       "       6.49787327, 5.51290599, 5.61638376, 5.30438046, 6.42093658,\n",
       "       5.32268924, 6.05891323, 5.75115435, 6.25656855, 6.08427495,\n",
       "       5.62772876, 5.77472829, 5.31988784, 5.85629544, 5.27652637,\n",
       "       5.78733023, 6.5773328 , 5.22960778, 5.11056052, 6.59624958,\n",
       "       5.97197982, 5.41949499, 5.23616024, 5.05706806, 5.21220837,\n",
       "       5.3394726 , 5.37622252, 5.62616454, 5.00701712, 5.90174583,\n",
       "       6.41057127, 6.39302413, 5.77134082, 5.04557199, 5.43167119,\n",
       "       5.56365771, 5.90081213, 5.31498994, 6.10508828, 5.25749746,\n",
       "       5.80722347, 5.18472896, 5.14802339, 5.30554321, 5.47154701])"
      ]
     },
     "execution_count": 155,
     "metadata": {},
     "output_type": "execute_result"
    }
   ],
   "source": [
    "y_pred = reg.predict(X_test)  \n",
    "y_pred"
   ]
  },
  {
   "cell_type": "code",
   "execution_count": 156,
   "id": "professional-concentrate",
   "metadata": {},
   "outputs": [
    {
     "data": {
      "image/png": "[encoded data removed]",
      "text/plain": [
       "<Figure size 432x288 with 1 Axes>"
      ]
     },
     "metadata": {
      "needs_background": "light"
     },
     "output_type": "display_data"
    }
   ],
   "source": [
    "#Trial 4\n",
    "plt.plot(X_test, y_test,'rx')\n",
    "plt.plot(X_test, y_pred, 'ko')\n",
    "plt.show()"
   ]
  },
  {
   "cell_type": "code",
   "execution_count": 157,
   "id": "turned-visitor",
   "metadata": {},
   "outputs": [
    {
     "name": "stdout",
     "output_type": "stream",
     "text": [
      "MSE: 0.5215994132880646\n",
      "MAE: 0.5502233326270034\n",
      "MAPE: 0.10272747915919961\n"
     ]
    }
   ],
   "source": [
    "#Trial 4\n",
    "print(f\"MSE: {mean_squared_error(y_test, y_pred)}\")\n",
    "print(f\"MAE: {mean_absolute_error(y_test, y_pred)}\")\n",
    "print(f\"MAPE: {mean_absolute_percentage_error(y_test, y_pred)}\")"
   ]
  },
  {
   "cell_type": "code",
   "execution_count": 158,
   "id": "incomplete-nerve",
   "metadata": {},
   "outputs": [],
   "source": [
    "#Trial #5\n",
    "X = red_wine[['alcohol','sulphates','citric acid','fixed acidity','residual sugar','free sulfur dioxide']]\n",
    "y = red_wine['quality']"
   ]
  },
  {
   "cell_type": "code",
   "execution_count": 159,
   "id": "impaired-savings",
   "metadata": {},
   "outputs": [],
   "source": [
    "from sklearn.model_selection import train_test_split \n",
    "\n",
    "X_train, X_test, y_train, y_test = train_test_split(X, y, test_size=0.3, random_state=47)"
   ]
  },
  {
   "cell_type": "code",
   "execution_count": 160,
   "id": "sporting-liberal",
   "metadata": {},
   "outputs": [
    {
     "data": {
      "text/plain": [
       "LinearRegression()"
      ]
     },
     "execution_count": 160,
     "metadata": {},
     "output_type": "execute_result"
    }
   ],
   "source": [
    "from sklearn.linear_model import LinearRegression\n",
    "\n",
    "reg = LinearRegression()\n",
    "\n",
    "reg.fit(X_train, y_train) "
   ]
  },
  {
   "cell_type": "code",
   "execution_count": 161,
   "id": "polyphonic-scholarship",
   "metadata": {},
   "outputs": [
    {
     "data": {
      "text/plain": [
       "array([6.19963298, 5.75634784, 5.35142766, 5.69825521, 5.18880093,\n",
       "       5.38397609, 5.74252652, 5.29791091, 5.89021954, 5.83384246,\n",
       "       5.29010871, 6.13927521, 6.00937676, 6.57612009, 5.56530706,\n",
       "       5.24093465, 5.52013948, 6.16008739, 5.07912983, 5.88669356,\n",
       "       5.55835789, 5.66664849, 5.66301259, 6.03131301, 5.77453329,\n",
       "       5.15815381, 5.66846066, 6.24049795, 5.1060078 , 5.56154295,\n",
       "       5.52485507, 5.98171062, 5.26555789, 5.82489987, 5.71194458,\n",
       "       5.17596703, 5.54263088, 5.9761299 , 5.25233678, 5.65188621,\n",
       "       6.305038  , 5.22406888, 7.11403209, 5.20751093, 5.42473446,\n",
       "       5.36521008, 5.75928889, 5.84150052, 5.25366732, 6.30798768,\n",
       "       5.47780865, 6.06069833, 5.33616678, 6.57530943, 5.87133274,\n",
       "       5.40521996, 6.14174761, 6.67580483, 5.09078405, 6.28498747,\n",
       "       6.51031562, 5.11356984, 6.7361243 , 6.03773413, 6.25887804,\n",
       "       5.67338993, 6.29645885, 5.08971854, 5.36874113, 5.47917662,\n",
       "       6.63681242, 5.69227137, 5.02104916, 5.51103856, 6.31765397,\n",
       "       5.69758901, 6.28983895, 5.12650173, 5.82576047, 5.02319873,\n",
       "       6.09892075, 5.30142029, 5.32986407, 5.3638904 , 6.14174761,\n",
       "       5.98660999, 5.66451684, 5.36730292, 5.16334857, 5.76977841,\n",
       "       5.30184027, 5.0017593 , 5.18880093, 5.38442997, 5.36938184,\n",
       "       5.30780342, 5.33337232, 4.96405278, 5.18382714, 5.81907982,\n",
       "       5.36384323, 5.70015001, 5.64558026, 5.81132945, 6.00471875,\n",
       "       5.34836192, 5.34586967, 6.42801256, 5.03839318, 5.45754831,\n",
       "       5.89890136, 5.50684431, 5.84203618, 5.26048953, 6.26922687,\n",
       "       5.9134257 , 5.92496701, 5.79221393, 5.45945255, 5.62837348,\n",
       "       5.38867844, 5.2757963 , 5.66712768, 5.18962373, 7.71923125,\n",
       "       5.84115849, 5.09381974, 6.08080484, 5.63610439, 6.56982944,\n",
       "       6.25082336, 6.12941306, 6.00782128, 5.45113374, 5.8889842 ,\n",
       "       5.72930096, 5.38577289, 5.67483046, 4.99018276, 5.42015608,\n",
       "       5.08583316, 5.87346091, 5.63917939, 6.04181111, 5.45036512,\n",
       "       5.61714228, 5.6334193 , 5.30509412, 6.21125994, 5.10009512,\n",
       "       6.16320073, 5.86231928, 5.40317621, 5.67536052, 5.95444207,\n",
       "       5.18382714, 5.91763159, 5.03846434, 5.17040842, 5.43846056,\n",
       "       5.27652892, 5.22793207, 5.28036052, 5.32986407, 5.33425103,\n",
       "       5.1262558 , 5.14821458, 5.24770599, 5.04835674, 6.08164948,\n",
       "       5.14111495, 5.98253356, 6.31377154, 6.1588596 , 5.3519606 ,\n",
       "       6.21296726, 5.36730292, 5.26352108, 5.82808818, 5.17933403,\n",
       "       6.37928032, 6.47639959, 5.30860444, 6.02345836, 5.39077984,\n",
       "       5.11356984, 5.6270558 , 6.30803829, 5.15382089, 5.3764319 ,\n",
       "       6.55364581, 5.81703516, 5.51022917, 5.87877822, 5.2436471 ,\n",
       "       5.29634777, 5.13406086, 6.59392288, 6.18996455, 5.43825604,\n",
       "       6.19099625, 5.06407146, 6.54780712, 5.31674562, 5.52360068,\n",
       "       5.08494887, 5.17069404, 5.90122233, 5.18774769, 6.56168368,\n",
       "       5.75238526, 5.78369914, 6.88670451, 5.79549717, 5.50172851,\n",
       "       5.79027556, 5.74521412, 5.56083336, 5.77839299, 6.03131301,\n",
       "       5.23864347, 5.18318679, 5.93623946, 5.05021545, 6.13881637,\n",
       "       6.06168266, 5.15291823, 5.21601523, 5.48590446, 5.25813033,\n",
       "       5.49025589, 5.15330023, 5.35125511, 5.313037  , 5.74061199,\n",
       "       5.48003046, 5.60365978, 6.32677043, 6.523133  , 5.14370124,\n",
       "       5.44322505, 5.34836192, 5.32210779, 5.73862919, 5.43081439,\n",
       "       6.01841373, 6.59477551, 6.82714271, 6.07633802, 5.42965583,\n",
       "       5.45945255, 6.02022311, 5.31677685, 6.34411463, 5.53033104,\n",
       "       5.31772116, 6.62857627, 5.50761403, 5.13649501, 5.51865099,\n",
       "       5.95420642, 5.60365978, 5.99451274, 5.13236179, 5.28624042,\n",
       "       5.54016687, 5.38903744, 5.02979452, 5.8546925 , 6.29773638,\n",
       "       5.69713687, 5.44887642, 6.49185055, 5.16412482, 5.44231254,\n",
       "       5.06110073, 5.27518911, 5.1316373 , 5.26635626, 5.09167746,\n",
       "       6.40705375, 5.43183834, 5.73664324, 5.41351443, 5.51312454,\n",
       "       5.38538258, 5.60448122, 5.73710665, 5.8302564 , 5.27023109,\n",
       "       5.26715404, 6.25395642, 5.31674562, 5.79812309, 5.99696541,\n",
       "       6.17397087, 5.3764319 , 5.76361171, 5.49966226, 5.40078691,\n",
       "       5.12337795, 5.2351152 , 5.49279307, 5.17370683, 5.84004184,\n",
       "       5.8546925 , 5.08547334, 4.9955599 , 5.03617164, 6.12766463,\n",
       "       5.26653178, 5.0507507 , 5.2418453 , 5.34234595, 6.48566188,\n",
       "       5.42952767, 5.93784771, 6.35746657, 5.64786096, 5.53281528,\n",
       "       5.73442819, 5.31612535, 6.2438677 , 5.2916493 , 6.46724593,\n",
       "       5.91742752, 5.59721953, 5.14884935, 6.25668979, 5.55935241,\n",
       "       6.55364581, 5.10146981, 6.36874409, 5.26058372, 5.11888609,\n",
       "       5.93553775, 5.74735764, 5.10867719, 5.57344575, 5.50305407,\n",
       "       5.73045903, 6.30913806, 5.93127985, 5.25925675, 5.30620219,\n",
       "       5.48577454, 6.39571584, 5.15876569, 5.4461808 , 5.44322505,\n",
       "       5.65964957, 5.14437749, 5.22012417, 4.99551757, 5.16433848,\n",
       "       5.00484591, 6.17730217, 5.6061459 , 6.1346781 , 5.5327442 ,\n",
       "       5.07202451, 5.5013475 , 6.19719177, 5.90224859, 5.10915207,\n",
       "       5.2470307 , 5.41522519, 5.83098334, 5.89517836, 5.72999091,\n",
       "       5.44936037, 6.17607417, 6.3171873 , 5.34378952, 5.7830271 ,\n",
       "       5.34907785, 5.20785941, 5.90609596, 5.48643659, 6.84246821,\n",
       "       5.19020584, 5.13102017, 5.32975289, 5.83466723, 5.39356293,\n",
       "       5.41807887, 5.66618834, 5.27971875, 5.03650163, 6.13139634,\n",
       "       6.30547541, 6.17340927, 5.15105062, 5.68111175, 5.95831156,\n",
       "       5.42955501, 5.10915207, 4.96405278, 6.24828653, 6.57152969,\n",
       "       5.25603775, 5.89864777, 6.21344461, 6.06344359, 4.96405278,\n",
       "       6.523133  , 5.2775777 , 5.98028819, 5.01671003, 5.66675896,\n",
       "       5.32063143, 5.18564867, 5.63050294, 5.75698248, 5.33545688,\n",
       "       5.25447483, 6.92000742, 5.62316742, 5.07000244, 5.56041522,\n",
       "       5.12601131, 5.84328121, 5.38657505, 5.35826186, 5.57327437,\n",
       "       5.79221393, 5.06053412, 5.27328929, 5.31722312, 5.97329093,\n",
       "       5.298138  , 5.2633239 , 5.56637893, 6.18094727, 5.29532211,\n",
       "       6.49815455, 5.51195674, 5.614661  , 5.30429182, 6.42142461,\n",
       "       5.32065813, 6.05820167, 5.74994026, 6.25251556, 6.08566912,\n",
       "       5.62819089, 5.77405988, 5.32063143, 5.856998  , 5.27765017,\n",
       "       5.78694102, 6.57551861, 5.227747  , 5.11008071, 6.59766497,\n",
       "       5.97121921, 5.4194177 , 5.23703132, 5.05551357, 5.21286995,\n",
       "       5.33965306, 5.37540396, 5.62719551, 5.00677415, 5.90019825,\n",
       "       6.41051008, 6.39443205, 5.77136381, 5.04381935, 5.43282694,\n",
       "       5.56530706, 5.90219044, 5.31291147, 6.10590396, 5.25855501,\n",
       "       5.80683914, 5.18554671, 5.14749141, 5.30620219, 5.47175773])"
      ]
     },
     "execution_count": 161,
     "metadata": {},
     "output_type": "execute_result"
    }
   ],
   "source": [
    "y_pred = reg.predict(X_test)  \n",
    "y_pred"
   ]
  },
  {
   "cell_type": "code",
   "execution_count": 162,
   "id": "moving-shower",
   "metadata": {},
   "outputs": [
    {
     "data": {
      "image/png": "[encoded data removed]",
      "text/plain": [
       "<Figure size 432x288 with 1 Axes>"
      ]
     },
     "metadata": {
      "needs_background": "light"
     },
     "output_type": "display_data"
    }
   ],
   "source": [
    "#Trial 5\n",
    "plt.plot(X_test, y_test,'rx')\n",
    "plt.plot(X_test, y_pred, 'ko')\n",
    "plt.show()"
   ]
  },
  {
   "cell_type": "code",
   "execution_count": 163,
   "id": "extended-january",
   "metadata": {},
   "outputs": [
    {
     "name": "stdout",
     "output_type": "stream",
     "text": [
      "MSE: 0.5215571402324193\n",
      "MAE: 0.5501942024072174\n",
      "MAPE: 0.10272363227971336\n"
     ]
    }
   ],
   "source": [
    "#Trial 5\n",
    "print(f\"MSE: {mean_squared_error(y_test, y_pred)}\")\n",
    "print(f\"MAE: {mean_absolute_error(y_test, y_pred)}\")\n",
    "print(f\"MAPE: {mean_absolute_percentage_error(y_test, y_pred)}\")"
   ]
  },
  {
   "cell_type": "code",
   "execution_count": 168,
   "id": "irish-turner",
   "metadata": {},
   "outputs": [],
   "source": [
    "#Trial #6\n",
    "X = red_wine[['alcohol','sulphates','citric acid','fixed acidity','residual sugar','free sulfur dioxide','pH']]\n",
    "y = red_wine['quality']"
   ]
  },
  {
   "cell_type": "code",
   "execution_count": 169,
   "id": "announced-activation",
   "metadata": {},
   "outputs": [],
   "source": [
    "from sklearn.model_selection import train_test_split \n",
    "\n",
    "X_train, X_test, y_train, y_test = train_test_split(X, y, test_size=0.3, random_state=47)"
   ]
  },
  {
   "cell_type": "code",
   "execution_count": 170,
   "id": "driven-shift",
   "metadata": {},
   "outputs": [
    {
     "data": {
      "text/plain": [
       "LinearRegression()"
      ]
     },
     "execution_count": 170,
     "metadata": {},
     "output_type": "execute_result"
    }
   ],
   "source": [
    "from sklearn.linear_model import LinearRegression\n",
    "\n",
    "reg = LinearRegression()\n",
    "\n",
    "reg.fit(X_train, y_train) "
   ]
  },
  {
   "cell_type": "code",
   "execution_count": 171,
   "id": "selected-machine",
   "metadata": {},
   "outputs": [
    {
     "data": {
      "text/plain": [
       "array([6.20778442, 5.70250487, 5.33802655, 5.66910003, 5.20629038,\n",
       "       5.37834041, 5.72959098, 5.30157451, 5.89113021, 5.82309481,\n",
       "       5.29884014, 6.10284548, 6.01088688, 6.59437529, 5.56999562,\n",
       "       5.25883015, 5.51512374, 6.13907415, 5.0825162 , 5.85411238,\n",
       "       5.57037364, 5.68056306, 5.69907213, 6.01606401, 5.76611464,\n",
       "       5.17120532, 5.66974835, 6.2385359 , 5.0978308 , 5.58645292,\n",
       "       5.52769454, 6.00752446, 5.27933684, 5.85730632, 5.68515391,\n",
       "       5.18182095, 5.52965986, 5.9607936 , 5.28351134, 5.61677172,\n",
       "       6.31746627, 5.24858479, 7.1237186 , 5.18319933, 5.41768914,\n",
       "       5.33692456, 5.7612811 , 5.83522532, 5.23770515, 6.22543966,\n",
       "       5.4499055 , 6.05005074, 5.32413502, 6.59390111, 5.86763218,\n",
       "       5.39896979, 6.17398602, 6.66143529, 5.08176079, 6.2811697 ,\n",
       "       6.56641956, 5.07924737, 6.77324678, 6.06475816, 6.2801434 ,\n",
       "       5.65226464, 6.29741302, 5.0658258 , 5.35523039, 5.47619783,\n",
       "       6.71669637, 5.65752357, 5.06877378, 5.52742101, 6.32549267,\n",
       "       5.6626882 , 6.30917059, 5.11604651, 5.8301168 , 5.01406598,\n",
       "       6.08749502, 5.3212872 , 5.34786575, 5.3915473 , 6.17398602,\n",
       "       5.9448086 , 5.64006142, 5.40891821, 5.19749775, 5.75896748,\n",
       "       5.2685571 , 5.01294639, 5.20629038, 5.36636011, 5.37389419,\n",
       "       5.32303564, 5.40162229, 4.96276122, 5.18438645, 5.79396901,\n",
       "       5.35530867, 5.72959538, 5.6500801 , 5.83503459, 5.99870944,\n",
       "       5.29578573, 5.36085205, 6.45520303, 5.07866444, 5.46124429,\n",
       "       5.90698966, 5.4590606 , 5.82901494, 5.26695163, 6.23945179,\n",
       "       5.96265839, 5.92794914, 5.79047892, 5.48655438, 5.62307793,\n",
       "       5.40519526, 5.25446093, 5.62661676, 5.15637907, 7.73087009,\n",
       "       5.8593306 , 5.03746746, 6.06186944, 5.6447338 , 6.58286622,\n",
       "       6.22888477, 6.10623174, 6.04266739, 5.43273945, 5.8649449 ,\n",
       "       5.71523405, 5.37974334, 5.64809598, 5.00112005, 5.42895454,\n",
       "       5.0652909 , 5.83591764, 5.640613  , 6.02924925, 5.43892698,\n",
       "       5.55184027, 5.60728754, 5.30191542, 6.21272045, 5.06474825,\n",
       "       6.17562377, 5.83005261, 5.39519963, 5.65609917, 5.94788031,\n",
       "       5.18438645, 5.8976707 , 5.0324694 , 5.19177251, 5.43330505,\n",
       "       5.29827966, 5.20765808, 5.25856293, 5.34786575, 5.32878661,\n",
       "       5.09938322, 5.15467078, 5.24199651, 5.04867491, 6.06577312,\n",
       "       5.12814172, 5.98604325, 6.31177093, 6.11751733, 5.355937  ,\n",
       "       6.22518949, 5.40891821, 5.28266848, 5.86502052, 5.23044838,\n",
       "       6.40096345, 6.49535446, 5.30427635, 6.00426491, 5.38307297,\n",
       "       5.07924737, 5.59395012, 6.31259673, 5.17331491, 5.37332529,\n",
       "       6.55263188, 5.8602605 , 5.5151129 , 5.87180202, 5.24484214,\n",
       "       5.3397642 , 5.14282885, 6.60204927, 6.17509688, 5.44565769,\n",
       "       6.13931241, 5.04995349, 6.52992566, 5.25076568, 5.49715565,\n",
       "       5.05797407, 5.21484566, 5.88489532, 5.2183723 , 6.5378646 ,\n",
       "       5.77319424, 5.79979452, 6.8491196 , 5.80416935, 5.5005563 ,\n",
       "       5.71308504, 5.76383313, 5.55973602, 5.78866133, 6.01606401,\n",
       "       5.20494782, 5.15223815, 5.92900923, 5.0233821 , 6.17023088,\n",
       "       6.08254894, 5.14372491, 5.21116916, 5.51138041, 5.2579267 ,\n",
       "       5.49878744, 5.23021451, 5.33228614, 5.27542069, 5.73431264,\n",
       "       5.49432872, 5.60526939, 6.37082213, 6.53254201, 5.16469794,\n",
       "       5.45300633, 5.29578573, 5.29578311, 5.75299631, 5.45438651,\n",
       "       5.99531981, 6.66666037, 6.83131648, 6.06766721, 5.40336899,\n",
       "       5.48655438, 6.0041932 , 5.29820953, 6.31487465, 5.53239798,\n",
       "       5.29919067, 6.6230214 , 5.48549611, 5.13544675, 5.54744326,\n",
       "       5.94914889, 5.60526939, 5.99148796, 5.12883332, 5.31663664,\n",
       "       5.53650697, 5.39819918, 5.04322434, 5.87003782, 6.27208629,\n",
       "       5.67583283, 5.43014811, 6.5210002 , 5.19101334, 5.44718177,\n",
       "       5.06306295, 5.25564341, 5.14201983, 5.33096816, 5.0759216 ,\n",
       "       6.416417  , 5.4465678 , 5.69149723, 5.33779687, 5.54517625,\n",
       "       5.32079986, 5.57727656, 5.73219147, 5.81876072, 5.26629628,\n",
       "       5.26799188, 6.26406561, 5.25076568, 5.8426418 , 6.00133006,\n",
       "       6.21723248, 5.37332529, 5.75066975, 5.4842538 , 5.40798878,\n",
       "       5.15711935, 5.233569  , 5.51023322, 5.16564652, 5.84022383,\n",
       "       5.87003782, 5.10608782, 4.97116694, 5.03636487, 6.14094368,\n",
       "       5.28672853, 5.04934638, 5.18969786, 5.35018508, 6.45513624,\n",
       "       5.42540949, 5.93465224, 6.34272939, 5.64713401, 5.50582859,\n",
       "       5.68659043, 5.36908007, 6.22333925, 5.26842951, 6.43659984,\n",
       "       5.90782246, 5.58848314, 5.12767804, 6.26989548, 5.58705361,\n",
       "       6.55263188, 5.09325872, 6.2898339 , 5.2267585 , 5.13284885,\n",
       "       5.92379704, 5.76206613, 5.10600649, 5.56664974, 5.50436161,\n",
       "       5.76792829, 6.33729031, 5.91987102, 5.35010957, 5.289888  ,\n",
       "       5.48403309, 6.36904731, 5.13961214, 5.44138375, 5.45300633,\n",
       "       5.64533485, 5.16202876, 5.24115354, 5.01571531, 5.15700153,\n",
       "       5.03055828, 6.20112786, 5.6102628 , 6.16168909, 5.55560349,\n",
       "       5.05697691, 5.51421386, 6.2769708 , 5.90124715, 5.07528554,\n",
       "       5.20580112, 5.43444265, 5.80961935, 5.89152914, 5.70133964,\n",
       "       5.45249638, 6.20088289, 6.30938178, 5.34569137, 5.72394699,\n",
       "       5.38639017, 5.22340143, 5.86513501, 5.508333  , 6.81879815,\n",
       "       5.16597777, 5.13515834, 5.31176304, 5.86822389, 5.3852813 ,\n",
       "       5.39803806, 5.60696064, 5.30553982, 5.06607044, 6.13439784,\n",
       "       6.28264558, 6.17069127, 5.16003358, 5.65991343, 5.94108613,\n",
       "       5.42738057, 5.07528554, 4.96276122, 6.21864428, 6.57973298,\n",
       "       5.22708351, 5.92958452, 6.19043503, 6.04037385, 4.96276122,\n",
       "       6.53254201, 5.29218662, 5.98750806, 5.00016719, 5.66490668,\n",
       "       5.27560616, 5.15054045, 5.63800115, 5.72354179, 5.3308988 ,\n",
       "       5.24149969, 6.91424003, 5.59217997, 5.08263619, 5.53329722,\n",
       "       5.11097348, 5.85324229, 5.42284247, 5.38044389, 5.56704486,\n",
       "       5.79047892, 5.03630928, 5.27512602, 5.3345119 , 5.97909755,\n",
       "       5.273382  , 5.23534691, 5.56804065, 6.15645969, 5.22067527,\n",
       "       6.48670046, 5.50961342, 5.62469134, 5.32144778, 6.4419391 ,\n",
       "       5.34955234, 6.03932297, 5.73972538, 6.31523815, 6.11001473,\n",
       "       5.61049392, 5.78867188, 5.27560616, 5.85343813, 5.29254706,\n",
       "       5.81335679, 6.58157514, 5.20573902, 5.1535931 , 6.61585498,\n",
       "       5.9690922 , 5.43069686, 5.21868599, 5.04370115, 5.23807632,\n",
       "       5.36248865, 5.31098716, 5.64906645, 5.03883183, 5.91753378,\n",
       "       6.3883178 , 6.39762611, 5.81885665, 5.04565912, 5.46685369,\n",
       "       5.56999562, 5.9345019 , 5.33197843, 6.11434194, 5.28176784,\n",
       "       5.79686141, 5.13996046, 5.13253188, 5.289888  , 5.4754335 ])"
      ]
     },
     "execution_count": 171,
     "metadata": {},
     "output_type": "execute_result"
    }
   ],
   "source": [
    "y_pred = reg.predict(X_test)  \n",
    "y_pred"
   ]
  },
  {
   "cell_type": "code",
   "execution_count": 172,
   "id": "capable-terrain",
   "metadata": {},
   "outputs": [
    {
     "data": {
      "image/png": "[encoded data removed]",
      "text/plain": [
       "<Figure size 432x288 with 1 Axes>"
      ]
     },
     "metadata": {
      "needs_background": "light"
     },
     "output_type": "display_data"
    }
   ],
   "source": [
    "#Trial 6\n",
    "plt.plot(X_test, y_test,'rx')\n",
    "plt.plot(X_test, y_pred, 'ko')\n",
    "plt.show()"
   ]
  },
  {
   "cell_type": "code",
   "execution_count": 173,
   "id": "bulgarian-messenger",
   "metadata": {},
   "outputs": [
    {
     "name": "stdout",
     "output_type": "stream",
     "text": [
      "MSE: 0.5196266687058174\n",
      "MAE: 0.549636086438367\n",
      "MAPE: 0.10255054943651894\n"
     ]
    }
   ],
   "source": [
    "#Trial 6\n",
    "print(f\"MSE: {mean_squared_error(y_test, y_pred)}\")\n",
    "print(f\"MAE: {mean_absolute_error(y_test, y_pred)}\")\n",
    "print(f\"MAPE: {mean_absolute_percentage_error(y_test, y_pred)}\")"
   ]
  },
  {
   "cell_type": "code",
   "execution_count": 174,
   "id": "other-parts",
   "metadata": {},
   "outputs": [],
   "source": [
    "#Trial #7\n",
    "X = red_wine[['alcohol','sulphates','citric acid','fixed acidity','residual sugar','free sulfur dioxide','pH','density']]\n",
    "y = red_wine['quality']\n",
    "\n",
    "newstudent718"
   ]
  },
  {
   "cell_type": "code",
   "execution_count": 175,
   "id": "indie-agency",
   "metadata": {},
   "outputs": [],
   "source": [
    "from sklearn.model_selection import train_test_split \n",
    "\n",
    "X_train, X_test, y_train, y_test = train_test_split(X, y, test_size=0.3, random_state=47)"
   ]
  },
  {
   "cell_type": "code",
   "execution_count": 176,
   "id": "favorite-network",
   "metadata": {},
   "outputs": [
    {
     "data": {
      "text/plain": [
       "LinearRegression()"
      ]
     },
     "execution_count": 176,
     "metadata": {},
     "output_type": "execute_result"
    }
   ],
   "source": [
    "from sklearn.linear_model import LinearRegression\n",
    "\n",
    "reg = LinearRegression()\n",
    "\n",
    "reg.fit(X_train, y_train) "
   ]
  },
  {
   "cell_type": "code",
   "execution_count": 177,
   "id": "younger-mentor",
   "metadata": {},
   "outputs": [
    {
     "data": {
      "text/plain": [
       "array([6.19617263, 5.75063776, 5.32095485, 5.7097594 , 5.19972675,\n",
       "       5.39364438, 5.67973823, 5.28273057, 5.89137086, 5.79133561,\n",
       "       5.29178795, 6.15936415, 5.98123989, 6.59776221, 5.60964279,\n",
       "       5.27841602, 5.61260375, 6.03929123, 5.1056172 , 5.85033114,\n",
       "       5.61052766, 5.75647962, 5.67350706, 6.02804306, 5.75669937,\n",
       "       5.16195975, 5.62773953, 6.27234237, 5.06318443, 5.59884758,\n",
       "       5.47639583, 6.08404669, 5.27974577, 5.83263684, 5.6735324 ,\n",
       "       5.16668971, 5.47241865, 5.96931165, 5.31470782, 5.77425127,\n",
       "       6.38206978, 5.22037462, 7.08605022, 5.17921617, 5.41465794,\n",
       "       5.33736836, 5.74789967, 5.79774379, 5.26655985, 6.312536  ,\n",
       "       5.43876422, 6.09812641, 5.2848212 , 6.595009  , 5.89464347,\n",
       "       5.36822392, 6.03302245, 6.67300471, 5.09039474, 6.32854054,\n",
       "       6.56137578, 5.08360415, 6.78603975, 6.0818304 , 6.27214371,\n",
       "       5.6020067 , 6.3050454 , 5.08260827, 5.35764535, 5.46517247,\n",
       "       6.62215243, 5.63916399, 5.01423596, 5.53165608, 6.36933112,\n",
       "       5.68696328, 6.32909279, 5.12548342, 5.78355061, 5.05344171,\n",
       "       6.08770114, 5.31625845, 5.3388032 , 5.36571563, 6.03302245,\n",
       "       5.81734173, 5.59482347, 5.40177204, 5.19790357, 5.73038345,\n",
       "       5.20882661, 4.97147889, 5.19972675, 5.3472645 , 5.47149178,\n",
       "       5.31553261, 5.33611517, 4.97904933, 5.19800969, 5.92938491,\n",
       "       5.31484601, 5.71557873, 5.62272263, 5.80418534, 6.05478548,\n",
       "       5.31149164, 5.35355545, 6.47228826, 5.03525363, 5.48161879,\n",
       "       5.91993971, 5.40179029, 5.82891638, 5.27750292, 6.24921474,\n",
       "       5.94987142, 5.91053292, 5.75587773, 5.5134795 , 5.57423772,\n",
       "       5.42182175, 5.24209664, 5.6916919 , 5.14696451, 7.86489502,\n",
       "       5.90004276, 5.06857371, 6.08365708, 5.67690731, 6.58694081,\n",
       "       6.30194919, 6.1458768 , 6.04004392, 5.48250644, 5.74991672,\n",
       "       5.67383827, 5.34450642, 5.49196676, 5.01514067, 5.42682728,\n",
       "       5.08863805, 5.82958047, 5.6398517 , 6.01177817, 5.33908339,\n",
       "       5.52051268, 5.52114559, 5.30617588, 6.181045  , 5.04831934,\n",
       "       6.19864016, 5.83394501, 5.39783921, 5.65986504, 5.89270616,\n",
       "       5.19800969, 5.9367884 , 5.04105019, 5.235259  , 5.42657919,\n",
       "       5.32612001, 5.26223837, 5.2582322 , 5.3388032 , 5.34058075,\n",
       "       5.09160056, 5.15558212, 5.26392968, 5.04966405, 6.05113873,\n",
       "       5.19091201, 6.05305323, 6.33832579, 6.15474983, 5.30915162,\n",
       "       6.17384005, 5.40177204, 5.26245269, 5.88817301, 5.25939021,\n",
       "       6.40198149, 6.54257432, 5.31315135, 5.99243893, 5.34059345,\n",
       "       5.08360415, 5.59738288, 6.37868077, 5.16291405, 5.39589784,\n",
       "       6.45844684, 5.9934779 , 5.55885615, 5.88444853, 5.30773735,\n",
       "       5.38618736, 5.26143304, 6.60598151, 6.15015282, 5.45030033,\n",
       "       6.11978036, 5.01623194, 6.4537097 , 5.25302439, 5.50742523,\n",
       "       5.0469717 , 5.21652405, 5.90734403, 5.17714441, 6.59577309,\n",
       "       5.780934  , 5.81575812, 6.86739591, 5.83087174, 5.49357153,\n",
       "       5.68383912, 5.82240316, 5.55661798, 5.76471614, 6.02804306,\n",
       "       5.21093988, 5.15209645, 5.94398649, 5.001724  , 6.26438292,\n",
       "       6.14331172, 5.17906206, 5.21643659, 5.4937343 , 5.27669353,\n",
       "       5.51493468, 5.19435183, 5.36244604, 5.26328513, 5.71313391,\n",
       "       5.50128142, 5.61551122, 6.36432256, 6.54957916, 5.17427601,\n",
       "       5.44130039, 5.31149164, 5.27920165, 5.78510523, 5.44960684,\n",
       "       5.94771494, 6.66527821, 6.8512294 , 6.04090449, 5.42933551,\n",
       "       5.5134795 , 6.04485901, 5.32331714, 6.34698993, 5.58329188,\n",
       "       5.31110584, 6.57574531, 5.55516317, 5.1811259 , 5.56110064,\n",
       "       5.95928303, 5.61551122, 5.98199105, 5.19171774, 5.26625952,\n",
       "       5.53681515, 5.36644048, 5.02544597, 5.85102744, 6.29197845,\n",
       "       5.67507461, 5.46033721, 6.4951213 , 5.19575206, 5.4631952 ,\n",
       "       5.09195322, 5.25830926, 5.17915507, 5.31940076, 5.03143749,\n",
       "       6.49912741, 5.46995651, 5.67848459, 5.31367663, 5.54234669,\n",
       "       5.25731222, 5.59671445, 5.7348334 , 5.85316255, 5.27081159,\n",
       "       5.24786636, 6.18914719, 5.25302439, 5.89634841, 6.06401351,\n",
       "       6.15796178, 5.39589784, 5.72619891, 5.48659063, 5.40775205,\n",
       "       5.11078272, 5.15879308, 5.53187876, 5.18147918, 5.84115997,\n",
       "       5.85102744, 5.10488767, 4.98923337, 5.04235178, 6.1090405 ,\n",
       "       5.30165533, 5.06655463, 5.23108578, 5.34582553, 6.39187761,\n",
       "       5.43498886, 5.9205141 , 6.36473026, 5.59613395, 5.53164828,\n",
       "       5.66152174, 5.40716614, 6.26265462, 5.30581228, 6.46762532,\n",
       "       5.92329802, 5.59746131, 5.17274214, 6.29155338, 5.50147884,\n",
       "       6.45844684, 5.06718787, 6.28470588, 5.21344421, 5.15022353,\n",
       "       6.01105038, 5.75761906, 5.0815822 , 5.51020067, 5.50945048,\n",
       "       5.88411911, 6.31090306, 5.93006963, 5.37253129, 5.33555366,\n",
       "       5.48960895, 6.3484892 , 5.12653667, 5.44871941, 5.44130039,\n",
       "       5.57177335, 5.13910263, 5.23105892, 5.04250413, 5.21298645,\n",
       "       5.02709011, 6.16004602, 5.59754394, 6.13382182, 5.64119938,\n",
       "       5.03518159, 5.44154467, 6.3821826 , 5.89805718, 5.05210797,\n",
       "       5.27073233, 5.43664637, 5.84042205, 5.84070235, 5.60944888,\n",
       "       5.59325193, 6.24463472, 6.22061984, 5.34159203, 5.78690266,\n",
       "       5.34261553, 5.23312209, 5.81443012, 5.48610452, 6.86966944,\n",
       "       5.16712342, 5.15757136, 5.30183352, 5.89632007, 5.38065998,\n",
       "       5.42333931, 5.61550738, 5.28311549, 5.08845041, 6.11697202,\n",
       "       6.24088618, 6.19287576, 5.14475785, 5.66970425, 5.97588769,\n",
       "       5.47504729, 5.05210797, 4.97904933, 6.24286684, 6.62522374,\n",
       "       5.23527391, 5.89605854, 6.23433307, 6.07067622, 4.97904933,\n",
       "       6.54957916, 5.27821579, 6.00823068, 5.00449966, 5.68459541,\n",
       "       5.27514898, 5.11797536, 5.61214903, 5.71581959, 5.24835639,\n",
       "       5.2558868 , 6.83952631, 5.60268402, 5.08285914, 5.52280995,\n",
       "       5.15691111, 5.86565689, 5.42211051, 5.38580955, 5.56802948,\n",
       "       5.75587773, 5.04450143, 5.28106118, 5.32958236, 6.04585791,\n",
       "       5.24755433, 5.21886472, 5.56696876, 6.11930915, 5.19779256,\n",
       "       6.4968867 , 5.46769824, 5.53399613, 5.31507153, 6.44575957,\n",
       "       5.32665688, 6.00270476, 5.69762318, 6.33260387, 6.02764645,\n",
       "       5.66007482, 5.72764337, 5.27514898, 5.81455839, 5.31253523,\n",
       "       5.83827589, 6.56543416, 5.19476716, 5.12485753, 6.60777997,\n",
       "       5.92895212, 5.42965779, 5.28337136, 5.06102222, 5.23889261,\n",
       "       5.34011535, 5.31465266, 5.59332254, 5.03968949, 5.90189783,\n",
       "       6.36083146, 6.37387141, 5.77657526, 5.03288921, 5.48770566,\n",
       "       5.60964279, 5.98079996, 5.30704447, 6.14386992, 5.27076888,\n",
       "       5.76232577, 5.14075486, 5.11104644, 5.33555366, 5.47153868])"
      ]
     },
     "execution_count": 177,
     "metadata": {},
     "output_type": "execute_result"
    }
   ],
   "source": [
    "y_pred = reg.predict(X_test)  \n",
    "y_pred"
   ]
  },
  {
   "cell_type": "code",
   "execution_count": 178,
   "id": "isolated-precipitation",
   "metadata": {},
   "outputs": [
    {
     "data": {
      "image/png": "[encoded data removed]",
      "text/plain": [
       "<Figure size 432x288 with 1 Axes>"
      ]
     },
     "metadata": {
      "needs_background": "light"
     },
     "output_type": "display_data"
    }
   ],
   "source": [
    "#Trial 7\n",
    "plt.plot(X_test, y_test,'rx')\n",
    "plt.plot(X_test, y_pred, 'ko')\n",
    "plt.show()"
   ]
  },
  {
   "cell_type": "code",
   "execution_count": 179,
   "id": "residential-finder",
   "metadata": {},
   "outputs": [
    {
     "name": "stdout",
     "output_type": "stream",
     "text": [
      "MSE: 0.5131964231477347\n",
      "MAE: 0.5458841946012941\n",
      "MAPE: 0.10196442269924448\n"
     ]
    }
   ],
   "source": [
    "#Trial 7\n",
    "print(f\"MSE: {mean_squared_error(y_test, y_pred)}\")\n",
    "print(f\"MAE: {mean_absolute_error(y_test, y_pred)}\")\n",
    "print(f\"MAPE: {mean_absolute_percentage_error(y_test, y_pred)}\")"
   ]
  },
  {
   "cell_type": "code",
   "execution_count": 180,
   "id": "auburn-letter",
   "metadata": {},
   "outputs": [],
   "source": [
    "#Trial 8\n",
    "X = red_wine[['alcohol','sulphates','citric acid','fixed acidity','residual sugar','free sulfur dioxide','pH','density','total sulfur dioxide']]\n",
    "y = red_wine['quality']"
   ]
  },
  {
   "cell_type": "code",
   "execution_count": 181,
   "id": "integral-voltage",
   "metadata": {},
   "outputs": [],
   "source": [
    "from sklearn.model_selection import train_test_split \n",
    "\n",
    "X_train, X_test, y_train, y_test = train_test_split(X, y, test_size=0.3, random_state=47)"
   ]
  },
  {
   "cell_type": "code",
   "execution_count": 182,
   "id": "christian-tourism",
   "metadata": {},
   "outputs": [
    {
     "data": {
      "text/plain": [
       "LinearRegression()"
      ]
     },
     "execution_count": 182,
     "metadata": {},
     "output_type": "execute_result"
    }
   ],
   "source": [
    "from sklearn.linear_model import LinearRegression\n",
    "\n",
    "reg = LinearRegression()\n",
    "\n",
    "reg.fit(X_train, y_train) "
   ]
  },
  {
   "cell_type": "code",
   "execution_count": 183,
   "id": "advisory-ghana",
   "metadata": {},
   "outputs": [
    {
     "data": {
      "text/plain": [
       "array([6.19696903, 5.82977327, 5.18171682, 5.74781016, 5.07799638,\n",
       "       5.21500322, 5.65867284, 5.32267988, 5.92908571, 5.83035499,\n",
       "       5.21559551, 6.17731157, 6.06536218, 6.56552165, 5.67927055,\n",
       "       5.08537226, 5.63054302, 6.06712381, 5.09166882, 5.97773714,\n",
       "       5.62828361, 5.71751414, 5.71001681, 6.10246072, 5.7734557 ,\n",
       "       5.14326616, 5.70025006, 6.20140253, 5.11322377, 5.43540202,\n",
       "       5.47703479, 6.11257844, 5.28712993, 5.95172328, 5.70493721,\n",
       "       5.04495057, 5.45160863, 5.9812686 , 5.29840069, 5.72305861,\n",
       "       6.36778842, 4.91561699, 7.07931679, 5.21689872, 5.5656587 ,\n",
       "       5.35643015, 5.62019919, 5.78100208, 5.26799163, 6.22779211,\n",
       "       5.40931495, 6.13333025, 5.36963327, 6.64191944, 5.87324163,\n",
       "       5.43526394, 6.12580071, 6.66268156, 5.0953155 , 6.34205296,\n",
       "       6.64502448, 4.92937892, 6.80445112, 6.17495963, 6.32121585,\n",
       "       5.66097545, 6.34285443, 5.01858782, 5.33160926, 5.39617238,\n",
       "       6.81599321, 5.61150767, 4.99707916, 5.58438156, 6.38063046,\n",
       "       5.55410832, 6.3673454 , 5.15753115, 5.90461209, 4.96803908,\n",
       "       6.12042363, 5.10520814, 5.21269026, 5.50773686, 6.12580071,\n",
       "       5.61011265, 5.41103922, 5.47375818, 5.09245825, 5.70622161,\n",
       "       4.99266845, 5.00842119, 5.07799638, 5.3664677 , 5.47954011,\n",
       "       5.02369458, 5.37861918, 4.99973841, 5.15963263, 5.93426236,\n",
       "       5.3703465 , 5.78506503, 5.66726374, 5.72738119, 6.08475571,\n",
       "       5.3278147 , 5.42601024, 6.54502539, 5.03091598, 5.50518978,\n",
       "       5.95454696, 5.42606848, 5.82874426, 5.02501679, 6.2353379 ,\n",
       "       5.87770108, 5.89797753, 5.79995219, 5.45387881, 5.61567224,\n",
       "       5.36538736, 5.25049005, 5.67418866, 4.99602591, 7.6779734 ,\n",
       "       5.94792192, 4.93248349, 6.05816566, 5.76949037, 6.58999708,\n",
       "       6.30529159, 6.20357194, 6.14174458, 5.4743111 , 5.76076169,\n",
       "       5.71880659, 5.41066884, 5.42198307, 5.07895391, 5.46003356,\n",
       "       5.13030153, 5.81155101, 5.64773336, 5.96516708, 5.36317986,\n",
       "       5.50688607, 5.55381893, 5.32854778, 6.14787269, 5.03563361,\n",
       "       6.23649345, 5.78728243, 5.49108158, 5.48889196, 5.9721855 ,\n",
       "       5.15963263, 5.94315924, 5.09734212, 5.25799299, 5.5117777 ,\n",
       "       5.3217136 , 5.10660474, 5.22510865, 5.21269026, 5.37786959,\n",
       "       5.15390398, 5.22237269, 5.25667933, 5.05573066, 6.0945965 ,\n",
       "       5.2236836 , 6.09916958, 6.36572821, 6.13669807, 5.24848836,\n",
       "       6.17794635, 5.47375818, 5.31129313, 5.92316122, 5.26794866,\n",
       "       6.4354606 , 6.54291093, 5.34320684, 6.03558742, 5.26366048,\n",
       "       4.92937892, 5.53327417, 6.40182209, 4.99303634, 5.53310029,\n",
       "       6.43532296, 5.91421564, 5.59444423, 5.92766577, 5.35907731,\n",
       "       5.45374154, 5.34886222, 6.67987809, 6.19424184, 5.48431533,\n",
       "       6.14387191, 5.10583902, 6.32281654, 5.22776029, 5.52965083,\n",
       "       5.09501851, 5.17035197, 5.98660397, 5.1791836 , 6.59623414,\n",
       "       5.87771002, 5.88329434, 6.81033211, 5.80698152, 5.55456719,\n",
       "       5.65506809, 5.8727888 , 5.62103566, 5.75218352, 6.10246072,\n",
       "       5.23826354, 5.19258218, 6.02351782, 5.05402579, 6.28205579,\n",
       "       6.12860871, 5.18939742, 5.05157194, 5.50909088, 5.00354405,\n",
       "       5.52363959, 5.14453195, 5.43674796, 5.3022987 , 5.70688715,\n",
       "       5.60848893, 5.67868411, 6.46719343, 6.53752771, 5.23985275,\n",
       "       5.52035168, 5.3278147 , 5.27233438, 5.82415121, 5.48672154,\n",
       "       6.0163468 , 6.41235217, 6.64347476, 6.03070294, 5.46008296,\n",
       "       5.45387881, 6.03620781, 5.33566711, 6.3537816 , 5.62605031,\n",
       "       5.15004545, 6.56907505, 5.5515217 , 5.24243619, 5.55442059,\n",
       "       5.96343936, 5.67868411, 5.99380779, 5.37036172, 5.19310383,\n",
       "       5.46366764, 5.40976077, 5.08483307, 5.84461538, 6.26036711,\n",
       "       5.74325715, 5.50227733, 6.55390561, 5.12357709, 5.43861508,\n",
       "       5.00955165, 5.02881781, 4.94457544, 5.32935498, 5.11745171,\n",
       "       6.50512754, 5.53040808, 5.73862589, 5.30183602, 5.56328887,\n",
       "       5.24995878, 5.56091029, 5.57880757, 5.89961772, 5.10557449,\n",
       "       5.2609446 , 6.18983   , 5.22776029, 5.70409739, 5.9895826 ,\n",
       "       6.22921415, 5.53310029, 5.76586171, 5.5360863 , 5.38723379,\n",
       "       4.97701903, 5.07995042, 5.58063194, 4.97216985, 5.84745395,\n",
       "       5.84461538, 5.14483668, 5.03964555, 5.0652008 , 6.1438951 ,\n",
       "       5.17425166, 5.10035117, 5.22988845, 5.39621508, 6.40368833,\n",
       "       5.47139925, 5.88764906, 6.38120896, 5.58959854, 5.63119729,\n",
       "       5.67742289, 5.40922329, 6.14691158, 5.29623624, 6.41396588,\n",
       "       5.88527607, 5.41055642, 5.14193062, 6.32007996, 5.50860899,\n",
       "       6.43532296, 5.11157782, 6.09776427, 5.25280325, 5.19744194,\n",
       "       6.05846633, 5.80347807, 5.1088647 , 5.38908733, 5.52441245,\n",
       "       5.63904865, 6.31878328, 5.94880747, 5.40249515, 5.37907798,\n",
       "       5.60469726, 6.34795714, 5.19184352, 5.51393141, 5.52035168,\n",
       "       5.57740817, 4.99227063, 5.22673162, 5.12061158, 5.25711586,\n",
       "       4.98341523, 6.29397338, 5.630204  , 6.21335844, 5.57247583,\n",
       "       5.10169017, 5.42344782, 5.74660616, 5.91173002, 5.08886494,\n",
       "       5.30886788, 5.33725758, 5.95134047, 5.87816978, 5.60370572,\n",
       "       5.62355911, 6.24439181, 6.1395981 , 5.17594764, 5.80573326,\n",
       "       5.33221256, 5.26809466, 5.84435381, 5.57026754, 6.7945874 ,\n",
       "       5.19995548, 5.01066342, 5.11460494, 5.90928435, 5.32079272,\n",
       "       5.49691379, 5.58427713, 5.29091084, 4.96373739, 6.12771772,\n",
       "       6.19514791, 6.17011277, 5.19790316, 5.68810311, 6.00747773,\n",
       "       5.52681968, 5.08886494, 4.99973841, 6.24657439, 6.63144858,\n",
       "       5.29135988, 5.92417804, 6.17251033, 6.08214545, 4.99973841,\n",
       "       6.53752771, 5.02336763, 6.02624843, 5.01982973, 5.72664955,\n",
       "       5.31318804, 5.12544958, 5.60104289, 5.64114205, 5.28042772,\n",
       "       5.20042812, 6.84791729, 5.60128985, 5.16657921, 5.57081518,\n",
       "       4.97846838, 5.92976623, 5.18446089, 5.46285254, 5.52582169,\n",
       "       5.79995219, 5.06134893, 5.31371543, 5.39782178, 6.11076034,\n",
       "       5.22070564, 5.07966482, 5.6257223 , 6.10134046, 5.17122546,\n",
       "       6.43990562, 5.52999612, 5.55888732, 5.1394723 , 6.42767468,\n",
       "       5.15279285, 6.092003  , 5.70915794, 6.41150694, 5.81679963,\n",
       "       5.6979381 , 5.69766328, 5.31318804, 5.68137074, 5.15428838,\n",
       "       5.90217835, 6.62920073, 5.23605669, 5.05717245, 6.6182612 ,\n",
       "       5.98274385, 5.50438194, 5.35380489, 5.10152668, 5.24665511,\n",
       "       5.31303734, 5.26292174, 5.64968985, 5.04837306, 5.93702136,\n",
       "       6.1285665 , 6.40026255, 5.7443349 , 4.98071863, 5.51026548,\n",
       "       5.67927055, 6.01705837, 5.13869639, 6.15741389, 5.32416449,\n",
       "       5.77363506, 5.09792103, 5.14443358, 5.37907798, 5.5711842 ])"
      ]
     },
     "execution_count": 183,
     "metadata": {},
     "output_type": "execute_result"
    }
   ],
   "source": [
    "y_pred = reg.predict(X_test)  \n",
    "y_pred"
   ]
  },
  {
   "cell_type": "code",
   "execution_count": 184,
   "id": "steady-passport",
   "metadata": {},
   "outputs": [
    {
     "data": {
      "image/png": "[encoded data removed]",
      "text/plain": [
       "<Figure size 432x288 with 1 Axes>"
      ]
     },
     "metadata": {
      "needs_background": "light"
     },
     "output_type": "display_data"
    }
   ],
   "source": [
    "#Trial 8\n",
    "plt.plot(X_test, y_test,'rx')\n",
    "plt.plot(X_test, y_pred, 'ko')\n",
    "plt.show()"
   ]
  },
  {
   "cell_type": "code",
   "execution_count": 185,
   "id": "chief-davis",
   "metadata": {},
   "outputs": [
    {
     "name": "stdout",
     "output_type": "stream",
     "text": [
      "MSE: 0.49877866540984084\n",
      "MAE: 0.5286021323450284\n",
      "MAPE: 0.09875481245686464\n"
     ]
    }
   ],
   "source": [
    "#Trial 8\n",
    "print(f\"MSE: {mean_squared_error(y_test, y_pred)}\")\n",
    "print(f\"MAE: {mean_absolute_error(y_test, y_pred)}\")\n",
    "print(f\"MAPE: {mean_absolute_percentage_error(y_test, y_pred)}\")"
   ]
  },
  {
   "cell_type": "code",
   "execution_count": 186,
   "id": "pregnant-proceeding",
   "metadata": {},
   "outputs": [],
   "source": [
    "#Trial #9\n",
    "X = red_wine[['alcohol','sulphates','citric acid','fixed acidity','residual sugar','free sulfur dioxide','pH','density','total sulfur dioxide','chlorides']]\n",
    "y = red_wine['quality']"
   ]
  },
  {
   "cell_type": "code",
   "execution_count": 187,
   "id": "passive-moral",
   "metadata": {},
   "outputs": [],
   "source": [
    "from sklearn.model_selection import train_test_split \n",
    "\n",
    "X_train, X_test, y_train, y_test = train_test_split(X, y, test_size=0.3, random_state=47)"
   ]
  },
  {
   "cell_type": "code",
   "execution_count": 188,
   "id": "generic-booking",
   "metadata": {},
   "outputs": [
    {
     "data": {
      "text/plain": [
       "LinearRegression()"
      ]
     },
     "execution_count": 188,
     "metadata": {},
     "output_type": "execute_result"
    }
   ],
   "source": [
    "from sklearn.linear_model import LinearRegression\n",
    "\n",
    "reg = LinearRegression()\n",
    "\n",
    "reg.fit(X_train, y_train) "
   ]
  },
  {
   "cell_type": "code",
   "execution_count": 189,
   "id": "vietnamese-device",
   "metadata": {},
   "outputs": [
    {
     "data": {
      "text/plain": [
       "array([6.2956881 , 5.71275538, 5.12163123, 5.66907505, 5.10598033,\n",
       "       5.23403036, 5.62455759, 5.36331206, 5.89003048, 5.85967091,\n",
       "       5.22539893, 6.23344998, 6.1857705 , 6.5108088 , 5.72272928,\n",
       "       5.05578035, 5.72018597, 6.11000689, 5.12992336, 5.87931336,\n",
       "       5.48653994, 5.69627484, 5.19891396, 6.18023082, 5.78108308,\n",
       "       5.13889144, 5.685528  , 6.23499707, 5.09607161, 5.57416628,\n",
       "       5.42437386, 6.13996363, 5.28276239, 5.94527958, 5.76269149,\n",
       "       5.03427881, 5.40410364, 6.04122958, 5.33232276, 5.73065915,\n",
       "       6.31383509, 4.93101218, 7.08405523, 5.28391446, 5.59536755,\n",
       "       5.30771737, 5.71695904, 5.77696521, 5.28629819, 6.17744339,\n",
       "       5.4253982 , 6.20884743, 5.38453248, 6.66061388, 5.76681488,\n",
       "       5.19664138, 6.07092633, 6.77244479, 5.08536299, 6.34549508,\n",
       "       6.7029818 , 4.90249458, 6.7936232 , 6.21156799, 6.28642326,\n",
       "       5.6589719 , 6.40949314, 5.04425324, 5.33899685, 5.04746706,\n",
       "       6.16893369, 5.62483356, 5.01547166, 5.5460711 , 6.43231348,\n",
       "       5.34348745, 6.30960311, 5.14820866, 5.94936849, 4.99868229,\n",
       "       6.10883877, 5.08368512, 5.23060019, 5.55187184, 6.07092633,\n",
       "       5.50179196, 5.4859252 , 5.55656733, 5.09470394, 5.76847313,\n",
       "       4.97310566, 5.03231572, 5.10598033, 5.37328154, 5.52477877,\n",
       "       5.00884884, 5.38449378, 4.97844989, 5.10056594, 5.94996719,\n",
       "       5.37167213, 5.82169389, 5.6942821 , 5.7279143 , 6.2084019 ,\n",
       "       5.35812525, 5.43953606, 6.52268542, 5.05449264, 5.49320004,\n",
       "       5.95810553, 5.40926382, 5.81076358, 5.0163752 , 6.16754062,\n",
       "       5.99826437, 5.90761509, 5.91807511, 5.49287133, 5.68858068,\n",
       "       5.40269614, 5.20244242, 5.67245999, 4.96683121, 7.52252527,\n",
       "       5.97416488, 4.90980681, 6.0811713 , 5.85505964, 6.60569025,\n",
       "       6.4603854 , 6.32115609, 6.13635798, 5.47100739, 5.69109377,\n",
       "       5.6325202 , 5.362892  , 5.38588824, 5.06122289, 5.48457322,\n",
       "       5.18216459, 5.71550018, 5.71036115, 5.94948193, 5.31052409,\n",
       "       5.48444185, 5.4874518 , 5.32187463, 6.22903494, 5.02481556,\n",
       "       6.2331126 , 5.80957144, 5.55853744, 5.54692289, 5.94196915,\n",
       "       5.10056594, 5.92023731, 5.1678556 , 5.20334107, 5.43735075,\n",
       "       5.32966195, 5.03808858, 5.26550722, 5.23060019, 5.35657581,\n",
       "       5.15671029, 5.23988921, 5.29411961, 5.08460483, 6.15902085,\n",
       "       5.00344413, 6.04572625, 6.35500916, 6.11869338, 5.19207045,\n",
       "       6.23354913, 5.55656733, 5.32012583, 5.8275777 , 5.26970073,\n",
       "       6.42418669, 6.55563726, 5.33852877, 6.04698791, 5.1448187 ,\n",
       "       4.90249458, 5.56533628, 6.43296441, 5.04873307, 5.59805757,\n",
       "       6.34502894, 5.9810954 , 5.65161264, 5.86009521, 5.34342141,\n",
       "       5.51323037, 5.48075018, 6.42685129, 6.15426132, 5.535884  ,\n",
       "       6.17227702, 5.10244668, 6.31805434, 5.14582958, 5.28408884,\n",
       "       5.09043955, 5.18178115, 5.95352592, 5.22716845, 6.58064418,\n",
       "       5.86837094, 5.89724495, 6.76909636, 5.82326477, 5.63644674,\n",
       "       5.63812753, 5.89559894, 5.61465687, 5.67046686, 6.18023082,\n",
       "       5.25138103, 5.21286949, 6.05383756, 5.02866823, 6.38203332,\n",
       "       6.20931667, 4.95574647, 5.0880143 , 5.48173979, 5.01330167,\n",
       "       5.48019413, 5.17836373, 5.45451199, 5.33637039, 5.72269811,\n",
       "       5.66442381, 5.69523144, 6.45001661, 6.53526757, 5.30083807,\n",
       "       5.63548522, 5.35812525, 5.28007975, 5.85478718, 5.50045109,\n",
       "       6.01232312, 6.68298565, 6.66881297, 6.01897889, 5.44607116,\n",
       "       5.49287133, 6.01493517, 5.40288935, 6.35097538, 5.58209136,\n",
       "       5.12886975, 6.47870788, 5.32008865, 5.29525188, 5.61648127,\n",
       "       5.98938904, 5.69523144, 6.02675699, 5.2005103 , 5.08382267,\n",
       "       5.40012884, 5.45762626, 5.09873047, 5.86806415, 6.13411084,\n",
       "       5.76841727, 5.53035733, 6.53897007, 5.104378  , 5.4109567 ,\n",
       "       5.0213142 , 5.0229102 , 4.96946659, 5.33151765, 5.1011707 ,\n",
       "       6.54193109, 5.54730668, 5.80284841, 5.28663745, 5.62610129,\n",
       "       5.20031626, 5.59755936, 5.66153938, 5.97271676, 5.10558235,\n",
       "       5.24932349, 6.16240497, 5.14582958, 5.71430908, 6.01140904,\n",
       "       6.19470693, 5.59805757, 5.82226779, 5.56571863, 5.37457283,\n",
       "       5.0370668 , 5.04860376, 5.59114425, 4.96797896, 5.86227029,\n",
       "       5.86806415, 5.20534433, 5.0348927 , 5.04032557, 6.15889913,\n",
       "       5.18525835, 5.1341397 , 5.24908372, 5.39505573, 6.43625857,\n",
       "       5.46643688, 5.77523845, 6.32039103, 5.56535421, 5.56417253,\n",
       "       5.65153088, 5.40084519, 6.15332067, 5.3170507 , 6.43341496,\n",
       "       5.89553523, 5.37978913, 5.16966554, 6.5289745 , 5.52723123,\n",
       "       6.34502894, 5.08137264, 6.0215123 , 5.28899132, 5.25521193,\n",
       "       6.13469511, 5.87657575, 5.13101377, 5.35396527, 5.39981699,\n",
       "       5.72035689, 6.29958561, 5.89778161, 5.41121187, 5.38689448,\n",
       "       5.57350373, 6.34766091, 5.15924551, 5.47906533, 5.63548522,\n",
       "       5.55873148, 4.97056616, 5.22907807, 5.16854871, 5.31513546,\n",
       "       4.97596205, 6.41544673, 5.65361825, 6.28255624, 5.56934866,\n",
       "       5.17202051, 5.42778582, 5.78067812, 5.93433699, 5.13179323,\n",
       "       5.30987988, 5.22930949, 6.0188637 , 6.00305168, 5.61789045,\n",
       "       5.63795197, 6.16421117, 6.10071011, 5.15668993, 5.78240332,\n",
       "       5.3652866 , 5.24498992, 5.87570855, 5.49526019, 6.74830893,\n",
       "       5.18402841, 4.98718068, 5.13572739, 6.03606384, 5.26772963,\n",
       "       5.51174818, 5.55160562, 5.26359656, 4.96596014, 6.22900924,\n",
       "       6.16332187, 6.19631007, 5.18078889, 5.6913511 , 6.09679481,\n",
       "       5.5817644 , 5.13179323, 4.97844989, 6.23995618, 6.66623255,\n",
       "       5.30605441, 5.35323704, 6.18661084, 6.04964965, 4.97844989,\n",
       "       6.53526757, 5.01319955, 6.03365582, 5.01811173, 5.67764065,\n",
       "       5.36920592, 5.15442274, 5.58790678, 5.69251194, 5.27904114,\n",
       "       5.25155388, 6.81825877, 5.56258558, 5.21489029, 5.55823565,\n",
       "       4.92909724, 5.99511143, 5.19583017, 5.48540518, 5.51826534,\n",
       "       5.91807511, 5.11050239, 5.10819933, 5.32303167, 6.19630663,\n",
       "       5.29181004, 5.06200331, 5.64573479, 6.00486054, 5.16754798,\n",
       "       6.40705095, 5.56240056, 5.56228583, 5.14236345, 6.41632004,\n",
       "       5.15416443, 6.18056571, 5.71741166, 6.41851485, 5.96047449,\n",
       "       5.78913463, 5.70689784, 5.36920592, 5.68851721, 5.17474772,\n",
       "       5.90435776, 6.66951051, 5.27576382, 5.02595859, 6.64246788,\n",
       "       5.97502643, 5.52744541, 5.52445478, 5.11789656, 5.225353  ,\n",
       "       5.31274353, 5.28025978, 5.66380224, 5.08560267, 5.87749471,\n",
       "       6.09761564, 6.38815056, 5.69498509, 4.8457548 , 5.56092346,\n",
       "       5.72272928, 6.09679398, 5.12329344, 6.17316749, 5.33667437,\n",
       "       5.74859639, 5.15734455, 5.1200952 , 5.38689448, 5.6737973 ])"
      ]
     },
     "execution_count": 189,
     "metadata": {},
     "output_type": "execute_result"
    }
   ],
   "source": [
    "y_pred = reg.predict(X_test)  \n",
    "y_pred"
   ]
  },
  {
   "cell_type": "code",
   "execution_count": 190,
   "id": "dirty-format",
   "metadata": {},
   "outputs": [
    {
     "data": {
      "image/png": "[encoded data removed]",
      "text/plain": [
       "<Figure size 432x288 with 1 Axes>"
      ]
     },
     "metadata": {
      "needs_background": "light"
     },
     "output_type": "display_data"
    }
   ],
   "source": [
    "#Trial 9\n",
    "plt.plot(X_test, y_test,'rx')\n",
    "plt.plot(X_test, y_pred, 'ko')\n",
    "plt.show()"
   ]
  },
  {
   "cell_type": "code",
   "execution_count": 191,
   "id": "earlier-uncle",
   "metadata": {},
   "outputs": [
    {
     "name": "stdout",
     "output_type": "stream",
     "text": [
      "MSE: 0.4761941828705235\n",
      "MAE: 0.5190430506983379\n",
      "MAPE: 0.09681755048540204\n"
     ]
    }
   ],
   "source": [
    "#Trial 9\n",
    "\n",
    "print(f\"MSE: {mean_squared_error(y_test, y_pred)}\")\n",
    "print(f\"MAE: {mean_absolute_error(y_test, y_pred)}\")\n",
    "print(f\"MAPE: {mean_absolute_percentage_error(y_test, y_pred)}\")"
   ]
  },
  {
   "cell_type": "code",
   "execution_count": 14,
   "id": "accessory-hawaiian",
   "metadata": {},
   "outputs": [],
   "source": [
    "#Trial #10\n",
    "X = red_wine[['alcohol','sulphates','volatile acidity']]\n",
    "y = red_wine['quality']\n",
    "# X = red_wine[['alcohol','sulphates','citric acid','fixed acidity','residual sugar','free sulfur dioxide','pH','density','total sulfur dioxide','chlorides','volatile acidity']]\n",
    "# y = red_wine['quality']"
   ]
  },
  {
   "cell_type": "code",
   "execution_count": 15,
   "id": "banner-klein",
   "metadata": {},
   "outputs": [],
   "source": [
    "from sklearn.model_selection import train_test_split \n",
    "\n",
    "X_train, X_test, y_train, y_test = train_test_split(X, y, test_size=0.3, random_state=47)"
   ]
  },
  {
   "cell_type": "code",
   "execution_count": 16,
   "id": "ignored-friendly",
   "metadata": {},
   "outputs": [
    {
     "data": {
      "text/plain": [
       "LinearRegression()"
      ]
     },
     "execution_count": 16,
     "metadata": {},
     "output_type": "execute_result"
    }
   ],
   "source": [
    "from sklearn.linear_model import LinearRegression\n",
    "\n",
    "reg = LinearRegression()\n",
    "\n",
    "reg.fit(X_train, y_train) "
   ]
  },
  {
   "cell_type": "code",
   "execution_count": 17,
   "id": "limited-turner",
   "metadata": {},
   "outputs": [
    {
     "data": {
      "text/plain": [
       "0.3567247008001263"
      ]
     },
     "execution_count": 17,
     "metadata": {},
     "output_type": "execute_result"
    }
   ],
   "source": [
    "reg.score(X_train, y_train)"
   ]
  },
  {
   "cell_type": "code",
   "execution_count": 18,
   "id": "egyptian-toner",
   "metadata": {},
   "outputs": [
    {
     "data": {
      "text/plain": [
       "array([6.35135433, 5.72935668, 5.06560568, 5.22755539, 5.03745212,\n",
       "       5.4511086 , 5.74613302, 5.42730214, 5.92647109, 5.46101416,\n",
       "       5.03893459, 6.27328418, 6.37171602, 6.71840031, 5.64159237,\n",
       "       5.18959657, 5.72186495, 6.19078753, 5.22984826, 5.9126196 ,\n",
       "       5.63289817, 5.57629814, 5.4994823 , 6.17138744, 5.81258582,\n",
       "       5.2317513 , 5.71770933, 6.59224557, 4.92314628, 5.44201375,\n",
       "       5.2337345 , 6.10370386, 5.62862232, 6.00634399, 5.80480307,\n",
       "       5.00386033, 5.49626834, 6.07858457, 5.1287826 , 5.76406983,\n",
       "       6.1537215 , 5.3134068 , 6.97304253, 5.53749169, 5.33653262,\n",
       "       5.25288385, 5.88841176, 6.04658561, 5.18014158, 6.45026771,\n",
       "       5.46051344, 6.20260547, 5.43838929, 6.66329546, 5.44361836,\n",
       "       5.44376731, 5.98072471, 6.42615009, 5.16096222, 6.3508042 ,\n",
       "       6.59424891, 5.15086667, 6.5916753 , 6.03568898, 6.19111863,\n",
       "       5.15402212, 6.57600113, 5.06025691, 5.59895609, 5.27916437,\n",
       "       6.30990832, 5.63667425, 5.30225943, 5.53499824, 6.46086325,\n",
       "       5.57138438, 6.39490206, 5.16053157, 5.918899  , 5.10586744,\n",
       "       6.18910522, 5.17395241, 5.26480208, 5.60372377, 5.98072471,\n",
       "       5.42727267, 5.48522031, 5.47672787, 5.15451224, 5.45716801,\n",
       "       5.26791671, 5.41985049, 5.03745212, 5.12267283, 5.61281765,\n",
       "       5.34741917, 5.38050017, 5.00744568, 5.0531565 , 5.93797807,\n",
       "       5.44941622, 5.7646116 , 5.53098224, 5.70866559, 6.04158713,\n",
       "       5.27293437, 5.33188538, 6.23390365, 5.28297978, 5.51196264,\n",
       "       5.84575704, 5.34238136, 5.22179612, 5.23532658, 6.14213267,\n",
       "       6.21455391, 6.07595074, 5.78719565, 5.23936251, 5.70751348,\n",
       "       5.20630166, 5.02060645, 5.72848552, 5.19729821, 7.41865864,\n",
       "       6.03202348, 5.13242816, 6.33589083, 5.72856567, 6.58881066,\n",
       "       6.2552653 , 6.27770061, 6.22571135, 5.35761502, 5.4751466 ,\n",
       "       5.83629198, 5.30991168, 5.47799035, 4.9989631 , 5.40521807,\n",
       "       5.07649223, 5.90074145, 5.32544547, 5.74997917, 5.42462803,\n",
       "       5.62398495, 5.11916859, 5.17010614, 5.91513299, 5.08562619,\n",
       "       6.17637585, 6.19724759, 5.49721986, 5.83153438, 6.05595037,\n",
       "       5.0531565 , 5.78015621, 5.27199292, 4.98277792, 5.42654114,\n",
       "       5.20596144, 5.22540162, 5.4511086 , 5.26480208, 5.57419811,\n",
       "       5.35472038, 5.13892829, 5.07869541, 4.72282776, 6.24879709,\n",
       "       4.59447059, 5.79937565, 6.25883242, 6.1199483 , 5.31964687,\n",
       "       6.09534077, 5.47672787, 5.27560828, 5.77486766, 5.2960904 ,\n",
       "       6.53020083, 6.29019082, 5.18204452, 5.89480152, 5.5263844 ,\n",
       "       5.15086667, 5.59411812, 6.44080266, 5.16645061, 5.66800265,\n",
       "       6.5144463 , 6.15438221, 5.57586028, 6.06603585, 5.22451031,\n",
       "       5.30706719, 5.54835811, 6.68049142, 6.24627363, 5.20063357,\n",
       "       6.20619082, 5.05900525, 6.2871556 , 5.51914341, 5.23068009,\n",
       "       5.40892386, 5.24816633, 5.72942772, 5.23797048, 6.59150471,\n",
       "       6.05119277, 5.8035003 , 6.9840896 , 5.47250196, 5.75335386,\n",
       "       5.81136342, 5.69175895, 5.78832783, 5.71142993, 6.17138744,\n",
       "       5.45021729, 5.40891379, 6.07045228, 5.00935879, 6.18422718,\n",
       "       6.14936358, 5.0911748 , 5.29861387, 5.49818145, 5.30235973,\n",
       "       5.60388428, 5.37500171, 5.63405049, 5.16612026, 5.66568985,\n",
       "       5.33104423, 5.7397934 , 6.52274918, 6.65489229, 5.21688808,\n",
       "       5.73935193, 5.27293437, 5.34006782, 5.92977549, 5.57637204,\n",
       "       6.00813666, 6.46986478, 6.88777432, 6.01256316, 5.62284291,\n",
       "       5.23936251, 5.98912788, 5.41164791, 6.68136279, 5.54346163,\n",
       "       5.40795219, 6.15014527, 4.35237859, 5.3041524 , 5.50880699,\n",
       "       5.96032295, 5.7397934 , 5.93263005, 5.25437543, 5.23615766,\n",
       "       5.69247967, 5.19377308, 4.81516998, 5.73749979, 6.32125841,\n",
       "       5.70127416, 5.76076544, 6.19917056, 5.06031713, 5.01415647,\n",
       "       5.08605684, 5.34456461, 5.16824328, 5.12440624, 5.07189515,\n",
       "       6.4316687 , 5.4796928 , 5.82329172, 5.26110637, 5.64932327,\n",
       "       5.08105911, 5.74674336, 5.80669604, 6.12466583, 5.38868261,\n",
       "       5.04209936, 5.78255923, 5.51914341, 5.66786207, 6.26919885,\n",
       "       6.23882198, 5.66800265, 5.74062448, 5.75050937, 5.45138955,\n",
       "       4.93492414, 5.13528273, 5.46330778, 5.29043143, 5.73803073,\n",
       "       5.73749979, 5.105747  , 4.98553219, 5.05387722, 5.98239695,\n",
       "       5.42902452, 5.11626313, 5.39041506, 5.43384235, 6.42693103,\n",
       "       5.36293282, 5.90133261, 6.25153121, 5.56520453, 5.59838582,\n",
       "       5.66128253, 4.93661726, 6.40493739, 5.19571545, 6.71637683,\n",
       "       5.91689566, 5.38422589, 5.3932797 , 6.40417468, 5.34847099,\n",
       "       6.5144463 , 4.99298384, 6.4430368 , 5.39219767, 5.36014855,\n",
       "       6.07403763, 5.87839657, 5.11494118, 5.55507897, 5.10462564,\n",
       "       6.15515307, 6.28397165, 5.896825  , 5.08024817, 5.38503704,\n",
       "       5.52580406, 6.07576076, 5.02414165, 5.43012649, 5.73935193,\n",
       "       5.72342852, 4.99191188, 5.01458712, 5.22805559, 5.20685275,\n",
       "       5.10211151, 6.37545181, 5.60763014, 6.08356291, 5.58824012,\n",
       "       5.14108133, 5.43019678, 6.41161818, 5.71706877, 5.19015677,\n",
       "       5.58889075, 5.34066809, 5.95453346, 6.17855813, 5.73889203,\n",
       "       5.39607404, 5.95448502, 5.72292758, 5.05756286, 5.93724728,\n",
       "       5.52475224, 5.18852461, 6.03352513, 5.40701149, 7.03918438,\n",
       "       5.12880274, 5.02325035, 5.40980509, 5.82302084, 5.06930139,\n",
       "       5.70752355, 5.78659537, 5.34276187, 5.10861164, 6.30106731,\n",
       "       6.25914338, 6.28073584, 5.01733131, 5.43033715, 6.0105999 ,\n",
       "       5.79926453, 5.19015677, 5.00744568, 6.44783373, 6.73582708,\n",
       "       4.98382974, 5.90251227, 6.37097516, 5.84610733, 5.00744568,\n",
       "       6.65489229, 4.40334625, 5.9889573 , 4.94052289, 5.88142172,\n",
       "       5.42167317, 5.1745829 , 5.63324942, 5.85231568, 5.22803544,\n",
       "       5.25173153, 6.51559841, 5.20923733, 5.37579271, 5.74063455,\n",
       "       5.25007944, 5.74710447, 5.29368642, 5.25434617, 5.61195635,\n",
       "       5.78719565, 5.03042105, 5.04035683, 5.39672446, 6.15934877,\n",
       "       5.25812129, 5.41080676, 5.70481943, 5.85109574, 5.24814618,\n",
       "       6.39489198, 5.78923927, 5.4779402 , 5.30067742, 6.52645497,\n",
       "       5.28873905, 6.17144766, 5.41512364, 6.38661932, 6.03791134,\n",
       "       5.78154674, 5.72679314, 5.42167317, 5.85371874, 5.00252831,\n",
       "       5.96721365, 6.67960012, 5.47409404, 4.9603335 , 6.72018291,\n",
       "       5.8950424 , 5.48713438, 5.58943081, 5.01078103, 4.91955086,\n",
       "       5.16099222, 5.25275334, 5.70584125, 4.90464756, 5.84727883,\n",
       "       6.48613298, 6.40062125, 5.6494646 , 5.19644624, 5.20283675,\n",
       "       5.64159237, 6.0457946 , 5.11773552, 6.10812029, 5.32187019,\n",
       "       6.03650013, 4.9399417 , 5.04700666, 5.38503704, 5.40535844])"
      ]
     },
     "execution_count": 18,
     "metadata": {},
     "output_type": "execute_result"
    }
   ],
   "source": [
    "y_pred = reg.predict(X_test)  \n",
    "y_pred"
   ]
  },
  {
   "cell_type": "code",
   "execution_count": 10,
   "id": "spanish-consciousness",
   "metadata": {},
   "outputs": [
    {
     "data": {
      "image/png": "[encoded data removed]",
      "text/plain": [
       "<Figure size 432x288 with 1 Axes>"
      ]
     },
     "metadata": {
      "needs_background": "light"
     },
     "output_type": "display_data"
    }
   ],
   "source": [
    "#Trial 10\n",
    "plt.plot(X_test, y_test,'rx')\n",
    "plt.plot(X_test, y_pred, 'ko')\n",
    "plt.show()"
   ]
  },
  {
   "cell_type": "code",
   "execution_count": 11,
   "id": "agreed-raleigh",
   "metadata": {},
   "outputs": [
    {
     "data": {
      "text/plain": [
       "0.322503679333382"
      ]
     },
     "execution_count": 11,
     "metadata": {},
     "output_type": "execute_result"
    }
   ],
   "source": [
    "reg.score(X_test, y_test)\n",
    "reg.score()"
   ]
  },
  {
   "cell_type": "code",
   "execution_count": 197,
   "id": "standing-horse",
   "metadata": {},
   "outputs": [
    {
     "name": "stdout",
     "output_type": "stream",
     "text": [
      "MSE: 0.46598749753628316\n",
      "MAE: 0.520736407528048\n",
      "MAPE: 0.09672827060922114\n"
     ]
    }
   ],
   "source": [
    "#Trial 10\n",
    "print(f\"MSE: {mean_squared_error(y_test, y_pred)}\")\n",
    "print(f\"MAE: {mean_absolute_error(y_test, y_pred)}\")\n",
    "print(f\"MAPE: {mean_absolute_percentage_error(y_test, y_pred)}\")"
   ]
  },
  {
   "cell_type": "markdown",
   "id": "alpha-transmission",
   "metadata": {},
   "source": [
    "For white wine, similiar methods were applied. Many of the correlation values were negative, making the opportunity for creation of an accurate model difficult."
   ]
  },
  {
   "cell_type": "code",
   "execution_count": 2,
   "id": "specific-blanket",
   "metadata": {},
   "outputs": [
    {
     "data": {
      "text/html": [
       "<div>\n",
       "<style scoped>\n",
       "    .dataframe tbody tr th:only-of-type {\n",
       "        vertical-align: middle;\n",
       "    }\n",
       "\n",
       "    .dataframe tbody tr th {\n",
       "        vertical-align: top;\n",
       "    }\n",
       "\n",
       "    .dataframe thead th {\n",
       "        text-align: right;\n",
       "    }\n",
       "</style>\n",
       "<table border=\"1\" class=\"dataframe\">\n",
       "  <thead>\n",
       "    <tr style=\"text-align: right;\">\n",
       "      <th></th>\n",
       "      <th>fixed acidity</th>\n",
       "      <th>volatile acidity</th>\n",
       "      <th>citric acid</th>\n",
       "      <th>residual sugar</th>\n",
       "      <th>chlorides</th>\n",
       "      <th>free sulfur dioxide</th>\n",
       "      <th>total sulfur dioxide</th>\n",
       "      <th>density</th>\n",
       "      <th>pH</th>\n",
       "      <th>sulphates</th>\n",
       "      <th>alcohol</th>\n",
       "      <th>quality</th>\n",
       "    </tr>\n",
       "  </thead>\n",
       "  <tbody>\n",
       "    <tr>\n",
       "      <th>0</th>\n",
       "      <td>7.0</td>\n",
       "      <td>0.27</td>\n",
       "      <td>0.36</td>\n",
       "      <td>20.7</td>\n",
       "      <td>0.045</td>\n",
       "      <td>45.0</td>\n",
       "      <td>170.0</td>\n",
       "      <td>1.00100</td>\n",
       "      <td>3.00</td>\n",
       "      <td>0.45</td>\n",
       "      <td>8.8</td>\n",
       "      <td>6</td>\n",
       "    </tr>\n",
       "    <tr>\n",
       "      <th>1</th>\n",
       "      <td>6.3</td>\n",
       "      <td>0.30</td>\n",
       "      <td>0.34</td>\n",
       "      <td>1.6</td>\n",
       "      <td>0.049</td>\n",
       "      <td>14.0</td>\n",
       "      <td>132.0</td>\n",
       "      <td>0.99400</td>\n",
       "      <td>3.30</td>\n",
       "      <td>0.49</td>\n",
       "      <td>9.5</td>\n",
       "      <td>6</td>\n",
       "    </tr>\n",
       "    <tr>\n",
       "      <th>2</th>\n",
       "      <td>8.1</td>\n",
       "      <td>0.28</td>\n",
       "      <td>0.40</td>\n",
       "      <td>6.9</td>\n",
       "      <td>0.050</td>\n",
       "      <td>30.0</td>\n",
       "      <td>97.0</td>\n",
       "      <td>0.99510</td>\n",
       "      <td>3.26</td>\n",
       "      <td>0.44</td>\n",
       "      <td>10.1</td>\n",
       "      <td>6</td>\n",
       "    </tr>\n",
       "    <tr>\n",
       "      <th>3</th>\n",
       "      <td>7.2</td>\n",
       "      <td>0.23</td>\n",
       "      <td>0.32</td>\n",
       "      <td>8.5</td>\n",
       "      <td>0.058</td>\n",
       "      <td>47.0</td>\n",
       "      <td>186.0</td>\n",
       "      <td>0.99560</td>\n",
       "      <td>3.19</td>\n",
       "      <td>0.40</td>\n",
       "      <td>9.9</td>\n",
       "      <td>6</td>\n",
       "    </tr>\n",
       "    <tr>\n",
       "      <th>4</th>\n",
       "      <td>7.2</td>\n",
       "      <td>0.23</td>\n",
       "      <td>0.32</td>\n",
       "      <td>8.5</td>\n",
       "      <td>0.058</td>\n",
       "      <td>47.0</td>\n",
       "      <td>186.0</td>\n",
       "      <td>0.99560</td>\n",
       "      <td>3.19</td>\n",
       "      <td>0.40</td>\n",
       "      <td>9.9</td>\n",
       "      <td>6</td>\n",
       "    </tr>\n",
       "    <tr>\n",
       "      <th>...</th>\n",
       "      <td>...</td>\n",
       "      <td>...</td>\n",
       "      <td>...</td>\n",
       "      <td>...</td>\n",
       "      <td>...</td>\n",
       "      <td>...</td>\n",
       "      <td>...</td>\n",
       "      <td>...</td>\n",
       "      <td>...</td>\n",
       "      <td>...</td>\n",
       "      <td>...</td>\n",
       "      <td>...</td>\n",
       "    </tr>\n",
       "    <tr>\n",
       "      <th>4893</th>\n",
       "      <td>6.2</td>\n",
       "      <td>0.21</td>\n",
       "      <td>0.29</td>\n",
       "      <td>1.6</td>\n",
       "      <td>0.039</td>\n",
       "      <td>24.0</td>\n",
       "      <td>92.0</td>\n",
       "      <td>0.99114</td>\n",
       "      <td>3.27</td>\n",
       "      <td>0.50</td>\n",
       "      <td>11.2</td>\n",
       "      <td>6</td>\n",
       "    </tr>\n",
       "    <tr>\n",
       "      <th>4894</th>\n",
       "      <td>6.6</td>\n",
       "      <td>0.32</td>\n",
       "      <td>0.36</td>\n",
       "      <td>8.0</td>\n",
       "      <td>0.047</td>\n",
       "      <td>57.0</td>\n",
       "      <td>168.0</td>\n",
       "      <td>0.99490</td>\n",
       "      <td>3.15</td>\n",
       "      <td>0.46</td>\n",
       "      <td>9.6</td>\n",
       "      <td>5</td>\n",
       "    </tr>\n",
       "    <tr>\n",
       "      <th>4895</th>\n",
       "      <td>6.5</td>\n",
       "      <td>0.24</td>\n",
       "      <td>0.19</td>\n",
       "      <td>1.2</td>\n",
       "      <td>0.041</td>\n",
       "      <td>30.0</td>\n",
       "      <td>111.0</td>\n",
       "      <td>0.99254</td>\n",
       "      <td>2.99</td>\n",
       "      <td>0.46</td>\n",
       "      <td>9.4</td>\n",
       "      <td>6</td>\n",
       "    </tr>\n",
       "    <tr>\n",
       "      <th>4896</th>\n",
       "      <td>5.5</td>\n",
       "      <td>0.29</td>\n",
       "      <td>0.30</td>\n",
       "      <td>1.1</td>\n",
       "      <td>0.022</td>\n",
       "      <td>20.0</td>\n",
       "      <td>110.0</td>\n",
       "      <td>0.98869</td>\n",
       "      <td>3.34</td>\n",
       "      <td>0.38</td>\n",
       "      <td>12.8</td>\n",
       "      <td>7</td>\n",
       "    </tr>\n",
       "    <tr>\n",
       "      <th>4897</th>\n",
       "      <td>6.0</td>\n",
       "      <td>0.21</td>\n",
       "      <td>0.38</td>\n",
       "      <td>0.8</td>\n",
       "      <td>0.020</td>\n",
       "      <td>22.0</td>\n",
       "      <td>98.0</td>\n",
       "      <td>0.98941</td>\n",
       "      <td>3.26</td>\n",
       "      <td>0.32</td>\n",
       "      <td>11.8</td>\n",
       "      <td>6</td>\n",
       "    </tr>\n",
       "  </tbody>\n",
       "</table>\n",
       "<p>4898 rows × 12 columns</p>\n",
       "</div>"
      ],
      "text/plain": [
       "      fixed acidity  volatile acidity  citric acid  residual sugar  chlorides  \\\n",
       "0               7.0              0.27         0.36            20.7      0.045   \n",
       "1               6.3              0.30         0.34             1.6      0.049   \n",
       "2               8.1              0.28         0.40             6.9      0.050   \n",
       "3               7.2              0.23         0.32             8.5      0.058   \n",
       "4               7.2              0.23         0.32             8.5      0.058   \n",
       "...             ...               ...          ...             ...        ...   \n",
       "4893            6.2              0.21         0.29             1.6      0.039   \n",
       "4894            6.6              0.32         0.36             8.0      0.047   \n",
       "4895            6.5              0.24         0.19             1.2      0.041   \n",
       "4896            5.5              0.29         0.30             1.1      0.022   \n",
       "4897            6.0              0.21         0.38             0.8      0.020   \n",
       "\n",
       "      free sulfur dioxide  total sulfur dioxide  density    pH  sulphates  \\\n",
       "0                    45.0                 170.0  1.00100  3.00       0.45   \n",
       "1                    14.0                 132.0  0.99400  3.30       0.49   \n",
       "2                    30.0                  97.0  0.99510  3.26       0.44   \n",
       "3                    47.0                 186.0  0.99560  3.19       0.40   \n",
       "4                    47.0                 186.0  0.99560  3.19       0.40   \n",
       "...                   ...                   ...      ...   ...        ...   \n",
       "4893                 24.0                  92.0  0.99114  3.27       0.50   \n",
       "4894                 57.0                 168.0  0.99490  3.15       0.46   \n",
       "4895                 30.0                 111.0  0.99254  2.99       0.46   \n",
       "4896                 20.0                 110.0  0.98869  3.34       0.38   \n",
       "4897                 22.0                  98.0  0.98941  3.26       0.32   \n",
       "\n",
       "      alcohol  quality  \n",
       "0         8.8        6  \n",
       "1         9.5        6  \n",
       "2        10.1        6  \n",
       "3         9.9        6  \n",
       "4         9.9        6  \n",
       "...       ...      ...  \n",
       "4893     11.2        6  \n",
       "4894      9.6        5  \n",
       "4895      9.4        6  \n",
       "4896     12.8        7  \n",
       "4897     11.8        6  \n",
       "\n",
       "[4898 rows x 12 columns]"
      ]
     },
     "execution_count": 2,
     "metadata": {},
     "output_type": "execute_result"
    }
   ],
   "source": [
    "import pandas as pd\n",
    "\n",
    "white_wine = pd.read_csv('./winequality-white.csv',sep = \";\")\n",
    "white_wine"
   ]
  },
  {
   "cell_type": "code",
   "execution_count": 125,
   "id": "recreational-saturday",
   "metadata": {},
   "outputs": [
    {
     "name": "stdout",
     "output_type": "stream",
     "text": [
      "<class 'pandas.core.frame.DataFrame'>\n",
      "RangeIndex: 4898 entries, 0 to 4897\n",
      "Data columns (total 12 columns):\n",
      " #   Column                Non-Null Count  Dtype  \n",
      "---  ------                --------------  -----  \n",
      " 0   fixed acidity         4898 non-null   float64\n",
      " 1   volatile acidity      4898 non-null   float64\n",
      " 2   citric acid           4898 non-null   float64\n",
      " 3   residual sugar        4898 non-null   float64\n",
      " 4   chlorides             4898 non-null   float64\n",
      " 5   free sulfur dioxide   4898 non-null   float64\n",
      " 6   total sulfur dioxide  4898 non-null   float64\n",
      " 7   density               4898 non-null   float64\n",
      " 8   pH                    4898 non-null   float64\n",
      " 9   sulphates             4898 non-null   float64\n",
      " 10  alcohol               4898 non-null   float64\n",
      " 11  quality               4898 non-null   int64  \n",
      "dtypes: float64(11), int64(1)\n",
      "memory usage: 459.3 KB\n"
     ]
    }
   ],
   "source": [
    "white_wine.info()"
   ]
  },
  {
   "cell_type": "code",
   "execution_count": 3,
   "id": "restricted-butterfly",
   "metadata": {},
   "outputs": [
    {
     "data": {
      "text/html": [
       "<div>\n",
       "<style scoped>\n",
       "    .dataframe tbody tr th:only-of-type {\n",
       "        vertical-align: middle;\n",
       "    }\n",
       "\n",
       "    .dataframe tbody tr th {\n",
       "        vertical-align: top;\n",
       "    }\n",
       "\n",
       "    .dataframe thead th {\n",
       "        text-align: right;\n",
       "    }\n",
       "</style>\n",
       "<table border=\"1\" class=\"dataframe\">\n",
       "  <thead>\n",
       "    <tr style=\"text-align: right;\">\n",
       "      <th></th>\n",
       "      <th>fixed acidity</th>\n",
       "      <th>volatile acidity</th>\n",
       "      <th>citric acid</th>\n",
       "      <th>residual sugar</th>\n",
       "      <th>chlorides</th>\n",
       "      <th>free sulfur dioxide</th>\n",
       "      <th>total sulfur dioxide</th>\n",
       "      <th>density</th>\n",
       "      <th>pH</th>\n",
       "      <th>sulphates</th>\n",
       "      <th>alcohol</th>\n",
       "      <th>quality</th>\n",
       "    </tr>\n",
       "  </thead>\n",
       "  <tbody>\n",
       "    <tr>\n",
       "      <th>fixed acidity</th>\n",
       "      <td>1.000000</td>\n",
       "      <td>-0.022697</td>\n",
       "      <td>0.289181</td>\n",
       "      <td>0.089021</td>\n",
       "      <td>0.023086</td>\n",
       "      <td>-0.049396</td>\n",
       "      <td>0.091070</td>\n",
       "      <td>0.265331</td>\n",
       "      <td>-0.425858</td>\n",
       "      <td>-0.017143</td>\n",
       "      <td>-0.120881</td>\n",
       "      <td>-0.113663</td>\n",
       "    </tr>\n",
       "    <tr>\n",
       "      <th>volatile acidity</th>\n",
       "      <td>-0.022697</td>\n",
       "      <td>1.000000</td>\n",
       "      <td>-0.149472</td>\n",
       "      <td>0.064286</td>\n",
       "      <td>0.070512</td>\n",
       "      <td>-0.097012</td>\n",
       "      <td>0.089261</td>\n",
       "      <td>0.027114</td>\n",
       "      <td>-0.031915</td>\n",
       "      <td>-0.035728</td>\n",
       "      <td>0.067718</td>\n",
       "      <td>-0.194723</td>\n",
       "    </tr>\n",
       "    <tr>\n",
       "      <th>citric acid</th>\n",
       "      <td>0.289181</td>\n",
       "      <td>-0.149472</td>\n",
       "      <td>1.000000</td>\n",
       "      <td>0.094212</td>\n",
       "      <td>0.114364</td>\n",
       "      <td>0.094077</td>\n",
       "      <td>0.121131</td>\n",
       "      <td>0.149503</td>\n",
       "      <td>-0.163748</td>\n",
       "      <td>0.062331</td>\n",
       "      <td>-0.075729</td>\n",
       "      <td>-0.009209</td>\n",
       "    </tr>\n",
       "    <tr>\n",
       "      <th>residual sugar</th>\n",
       "      <td>0.089021</td>\n",
       "      <td>0.064286</td>\n",
       "      <td>0.094212</td>\n",
       "      <td>1.000000</td>\n",
       "      <td>0.088685</td>\n",
       "      <td>0.299098</td>\n",
       "      <td>0.401439</td>\n",
       "      <td>0.838966</td>\n",
       "      <td>-0.194133</td>\n",
       "      <td>-0.026664</td>\n",
       "      <td>-0.450631</td>\n",
       "      <td>-0.097577</td>\n",
       "    </tr>\n",
       "    <tr>\n",
       "      <th>chlorides</th>\n",
       "      <td>0.023086</td>\n",
       "      <td>0.070512</td>\n",
       "      <td>0.114364</td>\n",
       "      <td>0.088685</td>\n",
       "      <td>1.000000</td>\n",
       "      <td>0.101392</td>\n",
       "      <td>0.198910</td>\n",
       "      <td>0.257211</td>\n",
       "      <td>-0.090439</td>\n",
       "      <td>0.016763</td>\n",
       "      <td>-0.360189</td>\n",
       "      <td>-0.209934</td>\n",
       "    </tr>\n",
       "    <tr>\n",
       "      <th>free sulfur dioxide</th>\n",
       "      <td>-0.049396</td>\n",
       "      <td>-0.097012</td>\n",
       "      <td>0.094077</td>\n",
       "      <td>0.299098</td>\n",
       "      <td>0.101392</td>\n",
       "      <td>1.000000</td>\n",
       "      <td>0.615501</td>\n",
       "      <td>0.294210</td>\n",
       "      <td>-0.000618</td>\n",
       "      <td>0.059217</td>\n",
       "      <td>-0.250104</td>\n",
       "      <td>0.008158</td>\n",
       "    </tr>\n",
       "    <tr>\n",
       "      <th>total sulfur dioxide</th>\n",
       "      <td>0.091070</td>\n",
       "      <td>0.089261</td>\n",
       "      <td>0.121131</td>\n",
       "      <td>0.401439</td>\n",
       "      <td>0.198910</td>\n",
       "      <td>0.615501</td>\n",
       "      <td>1.000000</td>\n",
       "      <td>0.529881</td>\n",
       "      <td>0.002321</td>\n",
       "      <td>0.134562</td>\n",
       "      <td>-0.448892</td>\n",
       "      <td>-0.174737</td>\n",
       "    </tr>\n",
       "    <tr>\n",
       "      <th>density</th>\n",
       "      <td>0.265331</td>\n",
       "      <td>0.027114</td>\n",
       "      <td>0.149503</td>\n",
       "      <td>0.838966</td>\n",
       "      <td>0.257211</td>\n",
       "      <td>0.294210</td>\n",
       "      <td>0.529881</td>\n",
       "      <td>1.000000</td>\n",
       "      <td>-0.093591</td>\n",
       "      <td>0.074493</td>\n",
       "      <td>-0.780138</td>\n",
       "      <td>-0.307123</td>\n",
       "    </tr>\n",
       "    <tr>\n",
       "      <th>pH</th>\n",
       "      <td>-0.425858</td>\n",
       "      <td>-0.031915</td>\n",
       "      <td>-0.163748</td>\n",
       "      <td>-0.194133</td>\n",
       "      <td>-0.090439</td>\n",
       "      <td>-0.000618</td>\n",
       "      <td>0.002321</td>\n",
       "      <td>-0.093591</td>\n",
       "      <td>1.000000</td>\n",
       "      <td>0.155951</td>\n",
       "      <td>0.121432</td>\n",
       "      <td>0.099427</td>\n",
       "    </tr>\n",
       "    <tr>\n",
       "      <th>sulphates</th>\n",
       "      <td>-0.017143</td>\n",
       "      <td>-0.035728</td>\n",
       "      <td>0.062331</td>\n",
       "      <td>-0.026664</td>\n",
       "      <td>0.016763</td>\n",
       "      <td>0.059217</td>\n",
       "      <td>0.134562</td>\n",
       "      <td>0.074493</td>\n",
       "      <td>0.155951</td>\n",
       "      <td>1.000000</td>\n",
       "      <td>-0.017433</td>\n",
       "      <td>0.053678</td>\n",
       "    </tr>\n",
       "    <tr>\n",
       "      <th>alcohol</th>\n",
       "      <td>-0.120881</td>\n",
       "      <td>0.067718</td>\n",
       "      <td>-0.075729</td>\n",
       "      <td>-0.450631</td>\n",
       "      <td>-0.360189</td>\n",
       "      <td>-0.250104</td>\n",
       "      <td>-0.448892</td>\n",
       "      <td>-0.780138</td>\n",
       "      <td>0.121432</td>\n",
       "      <td>-0.017433</td>\n",
       "      <td>1.000000</td>\n",
       "      <td>0.435575</td>\n",
       "    </tr>\n",
       "    <tr>\n",
       "      <th>quality</th>\n",
       "      <td>-0.113663</td>\n",
       "      <td>-0.194723</td>\n",
       "      <td>-0.009209</td>\n",
       "      <td>-0.097577</td>\n",
       "      <td>-0.209934</td>\n",
       "      <td>0.008158</td>\n",
       "      <td>-0.174737</td>\n",
       "      <td>-0.307123</td>\n",
       "      <td>0.099427</td>\n",
       "      <td>0.053678</td>\n",
       "      <td>0.435575</td>\n",
       "      <td>1.000000</td>\n",
       "    </tr>\n",
       "  </tbody>\n",
       "</table>\n",
       "</div>"
      ],
      "text/plain": [
       "                      fixed acidity  volatile acidity  citric acid  \\\n",
       "fixed acidity              1.000000         -0.022697     0.289181   \n",
       "volatile acidity          -0.022697          1.000000    -0.149472   \n",
       "citric acid                0.289181         -0.149472     1.000000   \n",
       "residual sugar             0.089021          0.064286     0.094212   \n",
       "chlorides                  0.023086          0.070512     0.114364   \n",
       "free sulfur dioxide       -0.049396         -0.097012     0.094077   \n",
       "total sulfur dioxide       0.091070          0.089261     0.121131   \n",
       "density                    0.265331          0.027114     0.149503   \n",
       "pH                        -0.425858         -0.031915    -0.163748   \n",
       "sulphates                 -0.017143         -0.035728     0.062331   \n",
       "alcohol                   -0.120881          0.067718    -0.075729   \n",
       "quality                   -0.113663         -0.194723    -0.009209   \n",
       "\n",
       "                      residual sugar  chlorides  free sulfur dioxide  \\\n",
       "fixed acidity               0.089021   0.023086            -0.049396   \n",
       "volatile acidity            0.064286   0.070512            -0.097012   \n",
       "citric acid                 0.094212   0.114364             0.094077   \n",
       "residual sugar              1.000000   0.088685             0.299098   \n",
       "chlorides                   0.088685   1.000000             0.101392   \n",
       "free sulfur dioxide         0.299098   0.101392             1.000000   \n",
       "total sulfur dioxide        0.401439   0.198910             0.615501   \n",
       "density                     0.838966   0.257211             0.294210   \n",
       "pH                         -0.194133  -0.090439            -0.000618   \n",
       "sulphates                  -0.026664   0.016763             0.059217   \n",
       "alcohol                    -0.450631  -0.360189            -0.250104   \n",
       "quality                    -0.097577  -0.209934             0.008158   \n",
       "\n",
       "                      total sulfur dioxide   density        pH  sulphates  \\\n",
       "fixed acidity                     0.091070  0.265331 -0.425858  -0.017143   \n",
       "volatile acidity                  0.089261  0.027114 -0.031915  -0.035728   \n",
       "citric acid                       0.121131  0.149503 -0.163748   0.062331   \n",
       "residual sugar                    0.401439  0.838966 -0.194133  -0.026664   \n",
       "chlorides                         0.198910  0.257211 -0.090439   0.016763   \n",
       "free sulfur dioxide               0.615501  0.294210 -0.000618   0.059217   \n",
       "total sulfur dioxide              1.000000  0.529881  0.002321   0.134562   \n",
       "density                           0.529881  1.000000 -0.093591   0.074493   \n",
       "pH                                0.002321 -0.093591  1.000000   0.155951   \n",
       "sulphates                         0.134562  0.074493  0.155951   1.000000   \n",
       "alcohol                          -0.448892 -0.780138  0.121432  -0.017433   \n",
       "quality                          -0.174737 -0.307123  0.099427   0.053678   \n",
       "\n",
       "                       alcohol   quality  \n",
       "fixed acidity        -0.120881 -0.113663  \n",
       "volatile acidity      0.067718 -0.194723  \n",
       "citric acid          -0.075729 -0.009209  \n",
       "residual sugar       -0.450631 -0.097577  \n",
       "chlorides            -0.360189 -0.209934  \n",
       "free sulfur dioxide  -0.250104  0.008158  \n",
       "total sulfur dioxide -0.448892 -0.174737  \n",
       "density              -0.780138 -0.307123  \n",
       "pH                    0.121432  0.099427  \n",
       "sulphates            -0.017433  0.053678  \n",
       "alcohol               1.000000  0.435575  \n",
       "quality               0.435575  1.000000  "
      ]
     },
     "execution_count": 3,
     "metadata": {},
     "output_type": "execute_result"
    }
   ],
   "source": [
    "white_wine.corr()"
   ]
  },
  {
   "cell_type": "code",
   "execution_count": 127,
   "id": "cubic-magic",
   "metadata": {},
   "outputs": [
    {
     "data": {
      "text/plain": [
       "[<matplotlib.lines.Line2D at 0x11d970130>]"
      ]
     },
     "execution_count": 127,
     "metadata": {},
     "output_type": "execute_result"
    },
    {
     "data": {
      "image/png": "[encoded data removed]",
      "text/plain": [
       "<Figure size 432x288 with 1 Axes>"
      ]
     },
     "metadata": {
      "needs_background": "light"
     },
     "output_type": "display_data"
    }
   ],
   "source": [
    "plt.plot( white_wine[\"alcohol\"], white_wine[\"quality\"], 'rx')"
   ]
  },
  {
   "cell_type": "code",
   "execution_count": 128,
   "id": "amateur-health",
   "metadata": {},
   "outputs": [
    {
     "data": {
      "text/plain": [
       "[<matplotlib.lines.Line2D at 0x11e0e2310>]"
      ]
     },
     "execution_count": 128,
     "metadata": {},
     "output_type": "execute_result"
    },
    {
     "data": {
      "image/png": "[encoded data removed]",
      "text/plain": [
       "<Figure size 432x288 with 1 Axes>"
      ]
     },
     "metadata": {
      "needs_background": "light"
     },
     "output_type": "display_data"
    }
   ],
   "source": [
    "plt.plot( white_wine[\"density\"], white_wine[\"residual sugar\"], 'rx')"
   ]
  },
  {
   "cell_type": "code",
   "execution_count": 130,
   "id": "charming-amazon",
   "metadata": {},
   "outputs": [
    {
     "data": {
      "text/plain": [
       "0       1.00100\n",
       "1       0.99400\n",
       "2       0.99510\n",
       "3       0.99560\n",
       "4       0.99560\n",
       "         ...   \n",
       "4893    0.99114\n",
       "4894    0.99490\n",
       "4895    0.99254\n",
       "4896    0.98869\n",
       "4897    0.98941\n",
       "Name: density, Length: 4898, dtype: float64"
      ]
     },
     "execution_count": 130,
     "metadata": {},
     "output_type": "execute_result"
    }
   ],
   "source": [
    "white_wine[\"density\"] "
   ]
  },
  {
   "cell_type": "code",
   "execution_count": null,
   "id": "blessed-edwards",
   "metadata": {},
   "outputs": [],
   "source": [
    "dataframe.drop( row_index, inplace = True)"
   ]
  },
  {
   "cell_type": "code",
   "execution_count": 4,
   "id": "popular-reducing",
   "metadata": {},
   "outputs": [
    {
     "data": {
      "text/html": [
       "<div>\n",
       "<style scoped>\n",
       "    .dataframe tbody tr th:only-of-type {\n",
       "        vertical-align: middle;\n",
       "    }\n",
       "\n",
       "    .dataframe tbody tr th {\n",
       "        vertical-align: top;\n",
       "    }\n",
       "\n",
       "    .dataframe thead th {\n",
       "        text-align: right;\n",
       "    }\n",
       "</style>\n",
       "<table border=\"1\" class=\"dataframe\">\n",
       "  <thead>\n",
       "    <tr style=\"text-align: right;\">\n",
       "      <th></th>\n",
       "      <th>fixed acidity</th>\n",
       "      <th>volatile acidity</th>\n",
       "      <th>citric acid</th>\n",
       "      <th>residual sugar</th>\n",
       "      <th>chlorides</th>\n",
       "      <th>free sulfur dioxide</th>\n",
       "      <th>total sulfur dioxide</th>\n",
       "      <th>density</th>\n",
       "      <th>pH</th>\n",
       "      <th>sulphates</th>\n",
       "      <th>alcohol</th>\n",
       "      <th>quality</th>\n",
       "    </tr>\n",
       "  </thead>\n",
       "  <tbody>\n",
       "    <tr>\n",
       "      <th>0</th>\n",
       "      <td>7.0</td>\n",
       "      <td>0.27</td>\n",
       "      <td>0.36</td>\n",
       "      <td>20.7</td>\n",
       "      <td>0.045</td>\n",
       "      <td>45.0</td>\n",
       "      <td>170.0</td>\n",
       "      <td>1.00100</td>\n",
       "      <td>3.00</td>\n",
       "      <td>0.45</td>\n",
       "      <td>8.8</td>\n",
       "      <td>6</td>\n",
       "    </tr>\n",
       "    <tr>\n",
       "      <th>1</th>\n",
       "      <td>6.3</td>\n",
       "      <td>0.30</td>\n",
       "      <td>0.34</td>\n",
       "      <td>1.6</td>\n",
       "      <td>0.049</td>\n",
       "      <td>14.0</td>\n",
       "      <td>132.0</td>\n",
       "      <td>0.99400</td>\n",
       "      <td>3.30</td>\n",
       "      <td>0.49</td>\n",
       "      <td>9.5</td>\n",
       "      <td>6</td>\n",
       "    </tr>\n",
       "    <tr>\n",
       "      <th>2</th>\n",
       "      <td>8.1</td>\n",
       "      <td>0.28</td>\n",
       "      <td>0.40</td>\n",
       "      <td>6.9</td>\n",
       "      <td>0.050</td>\n",
       "      <td>30.0</td>\n",
       "      <td>97.0</td>\n",
       "      <td>0.99510</td>\n",
       "      <td>3.26</td>\n",
       "      <td>0.44</td>\n",
       "      <td>10.1</td>\n",
       "      <td>6</td>\n",
       "    </tr>\n",
       "    <tr>\n",
       "      <th>3</th>\n",
       "      <td>7.2</td>\n",
       "      <td>0.23</td>\n",
       "      <td>0.32</td>\n",
       "      <td>8.5</td>\n",
       "      <td>0.058</td>\n",
       "      <td>47.0</td>\n",
       "      <td>186.0</td>\n",
       "      <td>0.99560</td>\n",
       "      <td>3.19</td>\n",
       "      <td>0.40</td>\n",
       "      <td>9.9</td>\n",
       "      <td>6</td>\n",
       "    </tr>\n",
       "    <tr>\n",
       "      <th>4</th>\n",
       "      <td>7.2</td>\n",
       "      <td>0.23</td>\n",
       "      <td>0.32</td>\n",
       "      <td>8.5</td>\n",
       "      <td>0.058</td>\n",
       "      <td>47.0</td>\n",
       "      <td>186.0</td>\n",
       "      <td>0.99560</td>\n",
       "      <td>3.19</td>\n",
       "      <td>0.40</td>\n",
       "      <td>9.9</td>\n",
       "      <td>6</td>\n",
       "    </tr>\n",
       "    <tr>\n",
       "      <th>...</th>\n",
       "      <td>...</td>\n",
       "      <td>...</td>\n",
       "      <td>...</td>\n",
       "      <td>...</td>\n",
       "      <td>...</td>\n",
       "      <td>...</td>\n",
       "      <td>...</td>\n",
       "      <td>...</td>\n",
       "      <td>...</td>\n",
       "      <td>...</td>\n",
       "      <td>...</td>\n",
       "      <td>...</td>\n",
       "    </tr>\n",
       "    <tr>\n",
       "      <th>4893</th>\n",
       "      <td>6.2</td>\n",
       "      <td>0.21</td>\n",
       "      <td>0.29</td>\n",
       "      <td>1.6</td>\n",
       "      <td>0.039</td>\n",
       "      <td>24.0</td>\n",
       "      <td>92.0</td>\n",
       "      <td>0.99114</td>\n",
       "      <td>3.27</td>\n",
       "      <td>0.50</td>\n",
       "      <td>11.2</td>\n",
       "      <td>6</td>\n",
       "    </tr>\n",
       "    <tr>\n",
       "      <th>4894</th>\n",
       "      <td>6.6</td>\n",
       "      <td>0.32</td>\n",
       "      <td>0.36</td>\n",
       "      <td>8.0</td>\n",
       "      <td>0.047</td>\n",
       "      <td>57.0</td>\n",
       "      <td>168.0</td>\n",
       "      <td>0.99490</td>\n",
       "      <td>3.15</td>\n",
       "      <td>0.46</td>\n",
       "      <td>9.6</td>\n",
       "      <td>5</td>\n",
       "    </tr>\n",
       "    <tr>\n",
       "      <th>4895</th>\n",
       "      <td>6.5</td>\n",
       "      <td>0.24</td>\n",
       "      <td>0.19</td>\n",
       "      <td>1.2</td>\n",
       "      <td>0.041</td>\n",
       "      <td>30.0</td>\n",
       "      <td>111.0</td>\n",
       "      <td>0.99254</td>\n",
       "      <td>2.99</td>\n",
       "      <td>0.46</td>\n",
       "      <td>9.4</td>\n",
       "      <td>6</td>\n",
       "    </tr>\n",
       "    <tr>\n",
       "      <th>4896</th>\n",
       "      <td>5.5</td>\n",
       "      <td>0.29</td>\n",
       "      <td>0.30</td>\n",
       "      <td>1.1</td>\n",
       "      <td>0.022</td>\n",
       "      <td>20.0</td>\n",
       "      <td>110.0</td>\n",
       "      <td>0.98869</td>\n",
       "      <td>3.34</td>\n",
       "      <td>0.38</td>\n",
       "      <td>12.8</td>\n",
       "      <td>7</td>\n",
       "    </tr>\n",
       "    <tr>\n",
       "      <th>4897</th>\n",
       "      <td>6.0</td>\n",
       "      <td>0.21</td>\n",
       "      <td>0.38</td>\n",
       "      <td>0.8</td>\n",
       "      <td>0.020</td>\n",
       "      <td>22.0</td>\n",
       "      <td>98.0</td>\n",
       "      <td>0.98941</td>\n",
       "      <td>3.26</td>\n",
       "      <td>0.32</td>\n",
       "      <td>11.8</td>\n",
       "      <td>6</td>\n",
       "    </tr>\n",
       "  </tbody>\n",
       "</table>\n",
       "<p>4895 rows × 12 columns</p>\n",
       "</div>"
      ],
      "text/plain": [
       "      fixed acidity  volatile acidity  citric acid  residual sugar  chlorides  \\\n",
       "0               7.0              0.27         0.36            20.7      0.045   \n",
       "1               6.3              0.30         0.34             1.6      0.049   \n",
       "2               8.1              0.28         0.40             6.9      0.050   \n",
       "3               7.2              0.23         0.32             8.5      0.058   \n",
       "4               7.2              0.23         0.32             8.5      0.058   \n",
       "...             ...               ...          ...             ...        ...   \n",
       "4893            6.2              0.21         0.29             1.6      0.039   \n",
       "4894            6.6              0.32         0.36             8.0      0.047   \n",
       "4895            6.5              0.24         0.19             1.2      0.041   \n",
       "4896            5.5              0.29         0.30             1.1      0.022   \n",
       "4897            6.0              0.21         0.38             0.8      0.020   \n",
       "\n",
       "      free sulfur dioxide  total sulfur dioxide  density    pH  sulphates  \\\n",
       "0                    45.0                 170.0  1.00100  3.00       0.45   \n",
       "1                    14.0                 132.0  0.99400  3.30       0.49   \n",
       "2                    30.0                  97.0  0.99510  3.26       0.44   \n",
       "3                    47.0                 186.0  0.99560  3.19       0.40   \n",
       "4                    47.0                 186.0  0.99560  3.19       0.40   \n",
       "...                   ...                   ...      ...   ...        ...   \n",
       "4893                 24.0                  92.0  0.99114  3.27       0.50   \n",
       "4894                 57.0                 168.0  0.99490  3.15       0.46   \n",
       "4895                 30.0                 111.0  0.99254  2.99       0.46   \n",
       "4896                 20.0                 110.0  0.98869  3.34       0.38   \n",
       "4897                 22.0                  98.0  0.98941  3.26       0.32   \n",
       "\n",
       "      alcohol  quality  \n",
       "0         8.8        6  \n",
       "1         9.5        6  \n",
       "2        10.1        6  \n",
       "3         9.9        6  \n",
       "4         9.9        6  \n",
       "...       ...      ...  \n",
       "4893     11.2        6  \n",
       "4894      9.6        5  \n",
       "4895      9.4        6  \n",
       "4896     12.8        7  \n",
       "4897     11.8        6  \n",
       "\n",
       "[4895 rows x 12 columns]"
      ]
     },
     "execution_count": 4,
     "metadata": {},
     "output_type": "execute_result"
    }
   ],
   "source": [
    "white_wine = white_wine[white_wine[\"density\"] < 1.01]\n",
    "white_wine"
   ]
  },
  {
   "cell_type": "code",
   "execution_count": 22,
   "id": "facial-wedding",
   "metadata": {},
   "outputs": [],
   "source": [
    "X = white_wine[['alcohol']]\n",
    "y = white_wine['quality'] "
   ]
  },
  {
   "cell_type": "code",
   "execution_count": 23,
   "id": "auburn-peter",
   "metadata": {},
   "outputs": [],
   "source": [
    "from sklearn.model_selection import train_test_split \n",
    "\n",
    "X_train, X_test, y_train, y_test = train_test_split(X, y, test_size=0.3, random_state=47)"
   ]
  },
  {
   "cell_type": "code",
   "execution_count": 24,
   "id": "dimensional-theme",
   "metadata": {},
   "outputs": [
    {
     "data": {
      "text/plain": [
       "LinearRegression()"
      ]
     },
     "execution_count": 24,
     "metadata": {},
     "output_type": "execute_result"
    }
   ],
   "source": [
    "from sklearn.linear_model import LinearRegression\n",
    "\n",
    "reg = LinearRegression()\n",
    "\n",
    "reg.fit(X_train, y_train) "
   ]
  },
  {
   "cell_type": "code",
   "execution_count": 25,
   "id": "square-fiber",
   "metadata": {},
   "outputs": [
    {
     "data": {
      "text/plain": [
       "0.18078926045381838"
      ]
     },
     "execution_count": 25,
     "metadata": {},
     "output_type": "execute_result"
    }
   ],
   "source": [
    "reg.score(X_train, y_train)"
   ]
  },
  {
   "cell_type": "code",
   "execution_count": 26,
   "id": "decimal-tulsa",
   "metadata": {},
   "outputs": [
    {
     "data": {
      "text/plain": [
       "array([6.02126829, 5.47480616, 5.6569602 , ..., 6.6689271 , 6.23378134,\n",
       "       6.74988446])"
      ]
     },
     "execution_count": 26,
     "metadata": {},
     "output_type": "execute_result"
    }
   ],
   "source": [
    "y_pred = reg.predict(X_test)  \n",
    "y_pred"
   ]
  },
  {
   "cell_type": "code",
   "execution_count": 27,
   "id": "mental-address",
   "metadata": {},
   "outputs": [
    {
     "data": {
      "image/png": "[encoded data removed]",
      "text/plain": [
       "<Figure size 432x288 with 1 Axes>"
      ]
     },
     "metadata": {
      "needs_background": "light"
     },
     "output_type": "display_data"
    }
   ],
   "source": [
    "plt.plot(X_test, y_test,'rx')\n",
    "plt.plot(X_test, y_pred, 'ko')\n",
    "plt.show()"
   ]
  },
  {
   "cell_type": "code",
   "execution_count": 28,
   "id": "curious-parameter",
   "metadata": {},
   "outputs": [
    {
     "data": {
      "text/plain": [
       "0.18078926045381838"
      ]
     },
     "execution_count": 28,
     "metadata": {},
     "output_type": "execute_result"
    }
   ],
   "source": [
    "reg.score(X_train, y_train)"
   ]
  },
  {
   "cell_type": "code",
   "execution_count": null,
   "id": "composite-router",
   "metadata": {},
   "outputs": [],
   "source": []
  },
  {
   "cell_type": "code",
   "execution_count": null,
   "id": "amino-zoning",
   "metadata": {},
   "outputs": [],
   "source": []
  },
  {
   "cell_type": "code",
   "execution_count": null,
   "id": "sharp-worth",
   "metadata": {},
   "outputs": [],
   "source": []
  },
  {
   "cell_type": "code",
   "execution_count": null,
   "id": "hidden-resident",
   "metadata": {},
   "outputs": [],
   "source": []
  },
  {
   "cell_type": "code",
   "execution_count": null,
   "id": "monetary-token",
   "metadata": {},
   "outputs": [],
   "source": [
    "Results:"
   ]
  },
  {
   "cell_type": "markdown",
   "id": "annoying-convention",
   "metadata": {},
   "source": [
    "Overall, my results were inconclusive. None of the models that were taken had a good enough score to be an effective predictor of wine quality. In hindsight, a classification model such as Random Forest or decision trees could have been used to create a better model."
   ]
  }
 ],
 "metadata": {
  "kernelspec": {
   "display_name": "Python 3",
   "language": "python",
   "name": "python3"
  },
  "language_info": {
   "codemirror_mode": {
    "name": "ipython",
    "version": 3
   },
   "file_extension": ".py",
   "mimetype": "text/x-python",
   "name": "python",
   "nbconvert_exporter": "python",
   "pygments_lexer": "ipython3",
   "version": "3.8.5"
  }
 },
 "nbformat": 4,
 "nbformat_minor": 5
}
